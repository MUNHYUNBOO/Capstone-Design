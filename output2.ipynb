{
 "cells": [
  {
   "cell_type": "code",
   "execution_count": 1,
   "id": "3aada3b7",
   "metadata": {
    "execution": {
     "iopub.execute_input": "2025-05-21T13:48:02.599667Z",
     "iopub.status.busy": "2025-05-21T13:48:02.598856Z",
     "iopub.status.idle": "2025-05-21T13:48:05.979078Z",
     "shell.execute_reply": "2025-05-21T13:48:05.977577Z"
    },
    "papermill": {
     "duration": 3.392149,
     "end_time": "2025-05-21T13:48:05.982020",
     "exception": false,
     "start_time": "2025-05-21T13:48:02.589871",
     "status": "completed"
    },
    "tags": []
   },
   "outputs": [],
   "source": [
    "import os\n",
    "import numpy as np\n",
    "import torch\n",
    "import pyedflib\n",
    "import matplotlib.pyplot as plt\n",
    "import seaborn as sns\n",
    "from torch.utils.data import TensorDataset, DataLoader\n",
    "from sklearn.metrics import confusion_matrix, classification_report\n",
    "import torch.nn as nn\n",
    "import torch.nn.functional as F\n",
    "\n",
    "# 고정 설정\n",
    "sampling_rate = 256\n",
    "segment_length = 30 * sampling_rate\n",
    "label_map = {\n",
    "    'Sleep stage W': 0,\n",
    "    'Sleep stage N1': 1,\n",
    "    'Sleep stage N2': 1,\n",
    "    'Sleep stage N3': 2,\n",
    "    'Sleep stage R': 3\n",
    "}\n",
    "root_dir = \"/home/mhb0917/캡스톤디자인/sleep/recordings\"\n"
   ]
  },
  {
   "cell_type": "code",
   "execution_count": 2,
   "id": "ce987686",
   "metadata": {
    "execution": {
     "iopub.execute_input": "2025-05-21T13:48:05.996968Z",
     "iopub.status.busy": "2025-05-21T13:48:05.996086Z",
     "iopub.status.idle": "2025-05-21T13:48:06.015131Z",
     "shell.execute_reply": "2025-05-21T13:48:06.014012Z"
    },
    "papermill": {
     "duration": 0.027879,
     "end_time": "2025-05-21T13:48:06.017228",
     "exception": false,
     "start_time": "2025-05-21T13:48:05.989349",
     "status": "completed"
    },
    "tags": []
   },
   "outputs": [],
   "source": [
    "def load_data_from_sn(sn_list):\n",
    "    all_segments = []\n",
    "    all_labels = []\n",
    "\n",
    "    for sn in sn_list:\n",
    "        base = f\"SN{sn:03d}\"\n",
    "        ecg_path = os.path.join(root_dir, f\"{base}.edf\")\n",
    "        label_path = os.path.join(root_dir, f\"{base}_sleepscoring.edf\")\n",
    "\n",
    "        if not os.path.exists(ecg_path) or not os.path.exists(label_path):\n",
    "            print(f\"❌ 파일 없음: {base}\")\n",
    "            continue\n",
    "\n",
    "        try:\n",
    "            ecg_reader = pyedflib.EdfReader(ecg_path)\n",
    "            ecg_signal = ecg_reader.readSignal(7)\n",
    "        finally:\n",
    "            ecg_reader._close()\n",
    "\n",
    "        try:\n",
    "            label_reader = pyedflib.EdfReader(label_path)\n",
    "            annotations = label_reader.readAnnotations()\n",
    "        finally:\n",
    "            label_reader._close()\n",
    "\n",
    "        onsets, durations, labels = annotations\n",
    "        label_seq = []\n",
    "        for i in range(len(labels)):\n",
    "            label_str = labels[i].decode() if isinstance(labels[i], bytes) else labels[i]\n",
    "            if label_str in label_map:\n",
    "                label_index = label_map[label_str]\n",
    "                num_segments = int(durations[i] // 30)\n",
    "                label_seq.extend([label_index] * num_segments)\n",
    "\n",
    "        max_segments = len(ecg_signal) // segment_length\n",
    "        num_segments = min(len(label_seq), max_segments)\n",
    "\n",
    "        for i in range(num_segments):\n",
    "            start = i * segment_length\n",
    "            end = start + segment_length\n",
    "            segment = ecg_signal[start:end]\n",
    "            all_segments.append(segment)\n",
    "            all_labels.append(label_seq[i])\n",
    "\n",
    "    X = torch.tensor(np.array(all_segments), dtype=torch.float32).unsqueeze(1)\n",
    "    y = torch.tensor(all_labels, dtype=torch.long)\n",
    "    return X, y\n"
   ]
  },
  {
   "cell_type": "code",
   "execution_count": 3,
   "id": "c4ec1914",
   "metadata": {
    "execution": {
     "iopub.execute_input": "2025-05-21T13:48:06.029030Z",
     "iopub.status.busy": "2025-05-21T13:48:06.028220Z",
     "iopub.status.idle": "2025-05-21T13:48:06.046038Z",
     "shell.execute_reply": "2025-05-21T13:48:06.044927Z"
    },
    "papermill": {
     "duration": 0.024976,
     "end_time": "2025-05-21T13:48:06.048035",
     "exception": false,
     "start_time": "2025-05-21T13:48:06.023059",
     "status": "completed"
    },
    "tags": []
   },
   "outputs": [],
   "source": [
    "from collections import Counter\n",
    "import numpy as np\n",
    "import torch\n",
    "\n",
    "def load_balanced_data_from_sn(sn_list):\n",
    "    all_segments = []\n",
    "    all_labels = []\n",
    "\n",
    "    for sn in sn_list:\n",
    "        try:\n",
    "            X, y = load_data_from_sn([sn])  # SN 하나만 불러옴\n",
    "        except Exception as e:\n",
    "            print(f\"❌ SN{sn:03d} 불러오기 실패: {e}\")\n",
    "            continue\n",
    "\n",
    "        if len(y) == 0:\n",
    "            print(f\"⚠️ SN{sn:03d}: 라벨 없음 → 건너뜀\")\n",
    "            continue\n",
    "\n",
    "        y_np = y.numpy()\n",
    "        X_np = X.numpy()\n",
    "\n",
    "        label_counts = Counter(y_np)\n",
    "        if len(label_counts) < 2:\n",
    "            print(f\"⚠️ SN{sn:03d}: 라벨 다양성 부족 → 건너뜀\")\n",
    "            continue\n",
    "\n",
    "        min_count = min(label_counts.values())\n",
    "        indices = []\n",
    "\n",
    "        for label in sorted(label_counts.keys()):\n",
    "            label_indices = np.where(y_np == label)[0]\n",
    "            if len(label_indices) < min_count:\n",
    "                continue\n",
    "            sampled = np.random.choice(label_indices, min_count, replace=False)\n",
    "            indices.extend(sampled)\n",
    "\n",
    "        if not indices:\n",
    "            print(f\"⚠️ SN{sn:03d}: 유효한 샘플 없음 → 건너뜀\")\n",
    "            continue\n",
    "\n",
    "        np.random.shuffle(indices)\n",
    "        all_segments.append(X_np[indices])\n",
    "        all_labels.append(y_np[indices])\n",
    "\n",
    "        print(f\"✅ SN{sn:03d} 처리 완료: 클래스당 {min_count}개\")\n",
    "\n",
    "    if not all_segments:\n",
    "        raise ValueError(\"⚠️ 유효한 데이터가 없습니다. SN 목록을 다시 확인하세요.\")\n",
    "\n",
    "    X_all = torch.tensor(np.concatenate(all_segments), dtype=torch.float32)\n",
    "    y_all = torch.tensor(np.concatenate(all_labels), dtype=torch.long)\n",
    "    return X_all, y_all\n"
   ]
  },
  {
   "cell_type": "code",
   "execution_count": 4,
   "id": "55fee5f6",
   "metadata": {
    "execution": {
     "iopub.execute_input": "2025-05-21T13:48:06.059660Z",
     "iopub.status.busy": "2025-05-21T13:48:06.058953Z",
     "iopub.status.idle": "2025-05-21T13:48:57.283169Z",
     "shell.execute_reply": "2025-05-21T13:48:57.282229Z"
    },
    "papermill": {
     "duration": 51.233449,
     "end_time": "2025-05-21T13:48:57.285764",
     "exception": false,
     "start_time": "2025-05-21T13:48:06.052315",
     "status": "completed"
    },
    "tags": []
   },
   "outputs": [
    {
     "name": "stdout",
     "output_type": "stream",
     "text": [
      "✅ SN001 처리 완료: 클래스당 23개\n"
     ]
    },
    {
     "name": "stdout",
     "output_type": "stream",
     "text": [
      "✅ SN002 처리 완료: 클래스당 82개\n"
     ]
    },
    {
     "name": "stdout",
     "output_type": "stream",
     "text": [
      "✅ SN003 처리 완료: 클래스당 150개\n"
     ]
    },
    {
     "name": "stdout",
     "output_type": "stream",
     "text": [
      "✅ SN004 처리 완료: 클래스당 64개\n"
     ]
    },
    {
     "name": "stdout",
     "output_type": "stream",
     "text": [
      "✅ SN005 처리 완료: 클래스당 127개\n"
     ]
    },
    {
     "name": "stdout",
     "output_type": "stream",
     "text": [
      "✅ SN006 처리 완료: 클래스당 65개\n"
     ]
    },
    {
     "name": "stdout",
     "output_type": "stream",
     "text": [
      "✅ SN007 처리 완료: 클래스당 67개\n"
     ]
    },
    {
     "name": "stdout",
     "output_type": "stream",
     "text": [
      "✅ SN008 처리 완료: 클래스당 39개\n"
     ]
    },
    {
     "name": "stdout",
     "output_type": "stream",
     "text": [
      "✅ SN009 처리 완료: 클래스당 91개\n"
     ]
    },
    {
     "name": "stdout",
     "output_type": "stream",
     "text": [
      "✅ SN010 처리 완료: 클래스당 101개\n"
     ]
    },
    {
     "name": "stdout",
     "output_type": "stream",
     "text": [
      "✅ SN011 처리 완료: 클래스당 37개\n"
     ]
    },
    {
     "name": "stdout",
     "output_type": "stream",
     "text": [
      "✅ SN012 처리 완료: 클래스당 184개\n"
     ]
    },
    {
     "name": "stdout",
     "output_type": "stream",
     "text": [
      "✅ SN013 처리 완료: 클래스당 65개\n",
      "❌ 파일 없음: SN014\n",
      "⚠️ SN014: 라벨 없음 → 건너뜀\n"
     ]
    },
    {
     "name": "stdout",
     "output_type": "stream",
     "text": [
      "✅ SN015 처리 완료: 클래스당 102개\n"
     ]
    },
    {
     "name": "stdout",
     "output_type": "stream",
     "text": [
      "✅ SN016 처리 완료: 클래스당 24개\n"
     ]
    },
    {
     "name": "stdout",
     "output_type": "stream",
     "text": [
      "✅ SN017 처리 완료: 클래스당 96개\n"
     ]
    },
    {
     "name": "stdout",
     "output_type": "stream",
     "text": [
      "✅ SN018 처리 완료: 클래스당 19개\n"
     ]
    },
    {
     "name": "stdout",
     "output_type": "stream",
     "text": [
      "✅ SN019 처리 완료: 클래스당 72개\n"
     ]
    },
    {
     "name": "stdout",
     "output_type": "stream",
     "text": [
      "✅ SN020 처리 완료: 클래스당 67개\n"
     ]
    },
    {
     "name": "stdout",
     "output_type": "stream",
     "text": [
      "✅ SN021 처리 완료: 클래스당 156개\n"
     ]
    },
    {
     "name": "stdout",
     "output_type": "stream",
     "text": [
      "✅ SN022 처리 완료: 클래스당 115개\n"
     ]
    },
    {
     "name": "stdout",
     "output_type": "stream",
     "text": [
      "✅ SN023 처리 완료: 클래스당 74개\n"
     ]
    },
    {
     "name": "stdout",
     "output_type": "stream",
     "text": [
      "✅ SN024 처리 완료: 클래스당 70개\n"
     ]
    },
    {
     "name": "stdout",
     "output_type": "stream",
     "text": [
      "✅ SN025 처리 완료: 클래스당 106개\n"
     ]
    },
    {
     "name": "stdout",
     "output_type": "stream",
     "text": [
      "✅ SN026 처리 완료: 클래스당 127개\n"
     ]
    },
    {
     "name": "stdout",
     "output_type": "stream",
     "text": [
      "✅ SN027 처리 완료: 클래스당 19개\n"
     ]
    },
    {
     "name": "stdout",
     "output_type": "stream",
     "text": [
      "✅ SN028 처리 완료: 클래스당 136개\n"
     ]
    },
    {
     "name": "stdout",
     "output_type": "stream",
     "text": [
      "✅ SN029 처리 완료: 클래스당 59개\n"
     ]
    },
    {
     "name": "stdout",
     "output_type": "stream",
     "text": [
      "✅ SN030 처리 완료: 클래스당 108개\n"
     ]
    },
    {
     "name": "stdout",
     "output_type": "stream",
     "text": [
      "✅ SN031 처리 완료: 클래스당 74개\n"
     ]
    },
    {
     "name": "stdout",
     "output_type": "stream",
     "text": [
      "✅ SN032 처리 완료: 클래스당 133개\n",
      "✅ SN033 처리 완료: 클래스당 47개\n"
     ]
    },
    {
     "name": "stdout",
     "output_type": "stream",
     "text": [
      "✅ SN034 처리 완료: 클래스당 75개\n"
     ]
    },
    {
     "name": "stdout",
     "output_type": "stream",
     "text": [
      "✅ SN035 처리 완료: 클래스당 108개\n"
     ]
    },
    {
     "name": "stdout",
     "output_type": "stream",
     "text": [
      "✅ SN036 처리 완료: 클래스당 87개\n"
     ]
    },
    {
     "name": "stdout",
     "output_type": "stream",
     "text": [
      "✅ SN037 처리 완료: 클래스당 65개\n"
     ]
    },
    {
     "name": "stdout",
     "output_type": "stream",
     "text": [
      "✅ SN038 처리 완료: 클래스당 61개\n"
     ]
    },
    {
     "name": "stdout",
     "output_type": "stream",
     "text": [
      "✅ SN039 처리 완료: 클래스당 108개\n"
     ]
    },
    {
     "name": "stdout",
     "output_type": "stream",
     "text": [
      "✅ SN040 처리 완료: 클래스당 62개\n"
     ]
    },
    {
     "name": "stdout",
     "output_type": "stream",
     "text": [
      "✅ SN041 처리 완료: 클래스당 130개\n"
     ]
    },
    {
     "name": "stdout",
     "output_type": "stream",
     "text": [
      "✅ SN042 처리 완료: 클래스당 148개\n"
     ]
    },
    {
     "name": "stdout",
     "output_type": "stream",
     "text": [
      "✅ SN043 처리 완료: 클래스당 56개\n"
     ]
    },
    {
     "name": "stdout",
     "output_type": "stream",
     "text": [
      "✅ SN044 처리 완료: 클래스당 55개\n"
     ]
    },
    {
     "name": "stdout",
     "output_type": "stream",
     "text": [
      "✅ SN045 처리 완료: 클래스당 129개\n"
     ]
    },
    {
     "name": "stdout",
     "output_type": "stream",
     "text": [
      "✅ SN046 처리 완료: 클래스당 49개\n"
     ]
    },
    {
     "name": "stdout",
     "output_type": "stream",
     "text": [
      "✅ SN047 처리 완료: 클래스당 125개\n"
     ]
    },
    {
     "name": "stdout",
     "output_type": "stream",
     "text": [
      "✅ SN048 처리 완료: 클래스당 146개\n"
     ]
    },
    {
     "name": "stdout",
     "output_type": "stream",
     "text": [
      "✅ SN049 처리 완료: 클래스당 41개\n"
     ]
    },
    {
     "name": "stdout",
     "output_type": "stream",
     "text": [
      "✅ SN050 처리 완료: 클래스당 25개\n"
     ]
    },
    {
     "name": "stdout",
     "output_type": "stream",
     "text": [
      "✅ SN051 처리 완료: 클래스당 84개\n"
     ]
    },
    {
     "name": "stdout",
     "output_type": "stream",
     "text": [
      "✅ SN052 처리 완료: 클래스당 59개\n"
     ]
    },
    {
     "name": "stdout",
     "output_type": "stream",
     "text": [
      "✅ SN053 처리 완료: 클래스당 163개\n",
      "✅ SN054 처리 완료: 클래스당 28개\n"
     ]
    },
    {
     "name": "stdout",
     "output_type": "stream",
     "text": [
      "✅ SN055 처리 완료: 클래스당 115개\n"
     ]
    },
    {
     "name": "stdout",
     "output_type": "stream",
     "text": [
      "✅ SN056 처리 완료: 클래스당 64개\n"
     ]
    },
    {
     "name": "stdout",
     "output_type": "stream",
     "text": [
      "✅ SN057 처리 완료: 클래스당 7개\n"
     ]
    },
    {
     "name": "stdout",
     "output_type": "stream",
     "text": [
      "✅ SN058 처리 완료: 클래스당 103개\n"
     ]
    },
    {
     "name": "stdout",
     "output_type": "stream",
     "text": [
      "✅ SN059 처리 완료: 클래스당 138개\n"
     ]
    },
    {
     "name": "stdout",
     "output_type": "stream",
     "text": [
      "✅ SN060 처리 완료: 클래스당 46개\n"
     ]
    },
    {
     "name": "stdout",
     "output_type": "stream",
     "text": [
      "✅ SN061 처리 완료: 클래스당 150개\n",
      "✅ SN062 처리 완료: 클래스당 5개\n"
     ]
    },
    {
     "name": "stdout",
     "output_type": "stream",
     "text": [
      "✅ SN063 처리 완료: 클래스당 139개\n",
      "❌ 파일 없음: SN064\n",
      "⚠️ SN064: 라벨 없음 → 건너뜀\n"
     ]
    },
    {
     "name": "stdout",
     "output_type": "stream",
     "text": [
      "✅ SN065 처리 완료: 클래스당 65개\n"
     ]
    },
    {
     "name": "stdout",
     "output_type": "stream",
     "text": [
      "✅ SN066 처리 완료: 클래스당 88개\n"
     ]
    },
    {
     "name": "stdout",
     "output_type": "stream",
     "text": [
      "✅ SN067 처리 완료: 클래스당 123개\n"
     ]
    },
    {
     "name": "stdout",
     "output_type": "stream",
     "text": [
      "✅ SN068 처리 완료: 클래스당 116개\n"
     ]
    },
    {
     "name": "stdout",
     "output_type": "stream",
     "text": [
      "✅ SN069 처리 완료: 클래스당 69개\n"
     ]
    },
    {
     "name": "stdout",
     "output_type": "stream",
     "text": [
      "✅ SN070 처리 완료: 클래스당 35개\n"
     ]
    },
    {
     "name": "stdout",
     "output_type": "stream",
     "text": [
      "✅ SN071 처리 완료: 클래스당 16개\n"
     ]
    },
    {
     "name": "stdout",
     "output_type": "stream",
     "text": [
      "✅ SN072 처리 완료: 클래스당 115개\n"
     ]
    },
    {
     "name": "stdout",
     "output_type": "stream",
     "text": [
      "✅ SN073 처리 완료: 클래스당 39개\n"
     ]
    },
    {
     "name": "stdout",
     "output_type": "stream",
     "text": [
      "✅ SN074 처리 완료: 클래스당 37개\n"
     ]
    },
    {
     "name": "stdout",
     "output_type": "stream",
     "text": [
      "✅ SN075 처리 완료: 클래스당 186개\n"
     ]
    },
    {
     "name": "stdout",
     "output_type": "stream",
     "text": [
      "✅ SN076 처리 완료: 클래스당 56개\n"
     ]
    },
    {
     "name": "stdout",
     "output_type": "stream",
     "text": [
      "✅ SN077 처리 완료: 클래스당 85개\n"
     ]
    },
    {
     "name": "stdout",
     "output_type": "stream",
     "text": [
      "✅ SN078 처리 완료: 클래스당 55개\n"
     ]
    },
    {
     "name": "stdout",
     "output_type": "stream",
     "text": [
      "✅ SN079 처리 완료: 클래스당 61개\n"
     ]
    },
    {
     "name": "stdout",
     "output_type": "stream",
     "text": [
      "✅ SN080 처리 완료: 클래스당 28개\n"
     ]
    },
    {
     "name": "stdout",
     "output_type": "stream",
     "text": [
      "✅ SN081 처리 완료: 클래스당 2개\n"
     ]
    },
    {
     "name": "stdout",
     "output_type": "stream",
     "text": [
      "✅ SN082 처리 완료: 클래스당 37개\n"
     ]
    },
    {
     "name": "stdout",
     "output_type": "stream",
     "text": [
      "✅ SN083 처리 완료: 클래스당 136개\n"
     ]
    },
    {
     "name": "stdout",
     "output_type": "stream",
     "text": [
      "✅ SN084 처리 완료: 클래스당 27개\n"
     ]
    },
    {
     "name": "stdout",
     "output_type": "stream",
     "text": [
      "✅ SN085 처리 완료: 클래스당 111개\n"
     ]
    },
    {
     "name": "stdout",
     "output_type": "stream",
     "text": [
      "✅ SN086 처리 완료: 클래스당 110개\n"
     ]
    },
    {
     "name": "stdout",
     "output_type": "stream",
     "text": [
      "✅ SN087 처리 완료: 클래스당 34개\n"
     ]
    },
    {
     "name": "stdout",
     "output_type": "stream",
     "text": [
      "✅ SN088 처리 완료: 클래스당 125개\n"
     ]
    },
    {
     "name": "stdout",
     "output_type": "stream",
     "text": [
      "✅ SN089 처리 완료: 클래스당 85개\n"
     ]
    },
    {
     "name": "stdout",
     "output_type": "stream",
     "text": [
      "✅ SN090 처리 완료: 클래스당 76개\n"
     ]
    },
    {
     "name": "stdout",
     "output_type": "stream",
     "text": [
      "✅ SN091 처리 완료: 클래스당 40개\n"
     ]
    },
    {
     "name": "stdout",
     "output_type": "stream",
     "text": [
      "✅ SN092 처리 완료: 클래스당 93개\n"
     ]
    },
    {
     "name": "stdout",
     "output_type": "stream",
     "text": [
      "✅ SN093 처리 완료: 클래스당 71개\n"
     ]
    },
    {
     "name": "stdout",
     "output_type": "stream",
     "text": [
      "✅ SN094 처리 완료: 클래스당 79개\n"
     ]
    },
    {
     "name": "stdout",
     "output_type": "stream",
     "text": [
      "✅ SN095 처리 완료: 클래스당 50개\n"
     ]
    },
    {
     "name": "stdout",
     "output_type": "stream",
     "text": [
      "✅ SN096 처리 완료: 클래스당 55개\n"
     ]
    },
    {
     "name": "stdout",
     "output_type": "stream",
     "text": [
      "✅ SN097 처리 완료: 클래스당 46개\n"
     ]
    },
    {
     "name": "stdout",
     "output_type": "stream",
     "text": [
      "✅ SN098 처리 완료: 클래스당 80개\n"
     ]
    },
    {
     "name": "stdout",
     "output_type": "stream",
     "text": [
      "✅ SN099 처리 완료: 클래스당 56개\n"
     ]
    },
    {
     "name": "stdout",
     "output_type": "stream",
     "text": [
      "✅ SN100 처리 완료: 클래스당 81개\n"
     ]
    },
    {
     "name": "stdout",
     "output_type": "stream",
     "text": [
      "✅ SN101 처리 완료: 클래스당 120개\n"
     ]
    },
    {
     "name": "stdout",
     "output_type": "stream",
     "text": [
      "✅ SN102 처리 완료: 클래스당 36개\n"
     ]
    },
    {
     "name": "stdout",
     "output_type": "stream",
     "text": [
      "✅ SN103 처리 완료: 클래스당 70개\n"
     ]
    },
    {
     "name": "stdout",
     "output_type": "stream",
     "text": [
      "✅ SN104 처리 완료: 클래스당 104개\n"
     ]
    },
    {
     "name": "stdout",
     "output_type": "stream",
     "text": [
      "✅ SN105 처리 완료: 클래스당 34개\n"
     ]
    },
    {
     "name": "stdout",
     "output_type": "stream",
     "text": [
      "✅ SN106 처리 완료: 클래스당 53개\n"
     ]
    },
    {
     "name": "stdout",
     "output_type": "stream",
     "text": [
      "✅ SN107 처리 완료: 클래스당 77개\n"
     ]
    },
    {
     "name": "stdout",
     "output_type": "stream",
     "text": [
      "✅ SN108 처리 완료: 클래스당 50개\n"
     ]
    },
    {
     "name": "stdout",
     "output_type": "stream",
     "text": [
      "✅ SN109 처리 완료: 클래스당 48개\n"
     ]
    },
    {
     "name": "stdout",
     "output_type": "stream",
     "text": [
      "✅ SN110 처리 완료: 클래스당 96개\n"
     ]
    },
    {
     "name": "stdout",
     "output_type": "stream",
     "text": [
      "✅ SN111 처리 완료: 클래스당 135개\n"
     ]
    },
    {
     "name": "stdout",
     "output_type": "stream",
     "text": [
      "✅ SN112 처리 완료: 클래스당 83개\n"
     ]
    },
    {
     "name": "stdout",
     "output_type": "stream",
     "text": [
      "✅ SN113 처리 완료: 클래스당 85개\n"
     ]
    },
    {
     "name": "stdout",
     "output_type": "stream",
     "text": [
      "✅ SN114 처리 완료: 클래스당 73개\n"
     ]
    },
    {
     "name": "stdout",
     "output_type": "stream",
     "text": [
      "✅ SN115 처리 완료: 클래스당 98개\n"
     ]
    },
    {
     "name": "stdout",
     "output_type": "stream",
     "text": [
      "✅ SN116 처리 완료: 클래스당 43개\n"
     ]
    },
    {
     "name": "stdout",
     "output_type": "stream",
     "text": [
      "✅ SN117 처리 완료: 클래스당 108개\n"
     ]
    },
    {
     "name": "stdout",
     "output_type": "stream",
     "text": [
      "✅ SN118 처리 완료: 클래스당 114개\n"
     ]
    },
    {
     "name": "stdout",
     "output_type": "stream",
     "text": [
      "✅ SN119 처리 완료: 클래스당 89개\n"
     ]
    },
    {
     "name": "stdout",
     "output_type": "stream",
     "text": [
      "✅ SN120 처리 완료: 클래스당 29개\n"
     ]
    },
    {
     "name": "stdout",
     "output_type": "stream",
     "text": [
      "✅ SN121 처리 완료: 클래스당 61개\n"
     ]
    },
    {
     "name": "stdout",
     "output_type": "stream",
     "text": [
      "✅ SN122 처리 완료: 클래스당 66개\n"
     ]
    },
    {
     "name": "stdout",
     "output_type": "stream",
     "text": [
      "✅ SN123 처리 완료: 클래스당 98개\n"
     ]
    },
    {
     "name": "stdout",
     "output_type": "stream",
     "text": [
      "❌ 파일 없음: SN135\n"
     ]
    }
   ],
   "source": [
    "X_train, y_train = load_balanced_data_from_sn(list(range(1, 94)))  # SN001 ~ SN093\n",
    "X_val, y_val = load_balanced_data_from_sn(list(range(94, 124)))   # SN094 ~ SN123\n",
    "X_test, y_test = load_data_from_sn(list(range(124, 154)))"
   ]
  },
  {
   "cell_type": "code",
   "execution_count": 5,
   "id": "d90d79e6",
   "metadata": {
    "execution": {
     "iopub.execute_input": "2025-05-21T13:48:57.313572Z",
     "iopub.status.busy": "2025-05-21T13:48:57.313039Z",
     "iopub.status.idle": "2025-05-21T13:48:57.327229Z",
     "shell.execute_reply": "2025-05-21T13:48:57.326155Z"
    },
    "papermill": {
     "duration": 0.024952,
     "end_time": "2025-05-21T13:48:57.328675",
     "exception": false,
     "start_time": "2025-05-21T13:48:57.303723",
     "status": "completed"
    },
    "tags": []
   },
   "outputs": [],
   "source": [
    "import torch\n",
    "import torch.nn as nn\n",
    "import torch.nn.functional as F\n",
    "from torch.utils.data import DataLoader, TensorDataset\n",
    "from collections import Counter\n",
    "import numpy as np\n",
    "\n",
    "# 🔹 모델 정의\n",
    "class ECGSleepCNN(nn.Module):\n",
    "    def __init__(self, num_classes=5):\n",
    "        super(ECGSleepCNN, self).__init__()\n",
    "        self.conv1 = nn.Conv1d(1, 16, kernel_size=7, padding=3)\n",
    "        self.bn1 = nn.BatchNorm1d(16)\n",
    "        self.pool1 = nn.MaxPool1d(2)\n",
    "        self.conv2 = nn.Conv1d(16, 32, kernel_size=5, padding=2)\n",
    "        self.bn2 = nn.BatchNorm1d(32)\n",
    "        self.pool2 = nn.MaxPool1d(2)\n",
    "        self.conv3 = nn.Conv1d(32, 64, kernel_size=3, padding=1)\n",
    "        self.bn3 = nn.BatchNorm1d(64)\n",
    "        self.pool3 = nn.MaxPool1d(2)\n",
    "        self.fc1 = nn.Linear(64 * 960, 256)\n",
    "        self.dropout = nn.Dropout(0.3)\n",
    "        self.fc2 = nn.Linear(256, num_classes)\n",
    "\n",
    "    def forward(self, x):\n",
    "        x = self.pool1(F.relu(self.bn1(self.conv1(x))))\n",
    "        x = self.pool2(F.relu(self.bn2(self.conv2(x))))\n",
    "        x = self.pool3(F.relu(self.bn3(self.conv3(x))))\n",
    "        x = x.view(x.size(0), -1)\n",
    "        x = self.dropout(F.relu(self.fc1(x)))\n",
    "        x = self.fc2(x)\n",
    "        return x"
   ]
  },
  {
   "cell_type": "code",
   "execution_count": 6,
   "id": "bc97752f",
   "metadata": {
    "execution": {
     "iopub.execute_input": "2025-05-21T13:48:57.362449Z",
     "iopub.status.busy": "2025-05-21T13:48:57.361675Z",
     "iopub.status.idle": "2025-05-21T14:23:36.985350Z",
     "shell.execute_reply": "2025-05-21T14:23:36.984011Z"
    },
    "papermill": {
     "duration": 2079.655665,
     "end_time": "2025-05-21T14:23:36.994222",
     "exception": false,
     "start_time": "2025-05-21T13:48:57.338557",
     "status": "completed"
    },
    "tags": []
   },
   "outputs": [
    {
     "name": "stdout",
     "output_type": "stream",
     "text": [
      "📘 Epoch 1 | Train Loss: 1237.8784 | Train Acc: 31.31% | Val Loss: 1.7465 | Val Acc: 33.15%\n"
     ]
    },
    {
     "name": "stdout",
     "output_type": "stream",
     "text": [
      "📘 Epoch 2 | Train Loss: 1188.1018 | Train Acc: 34.71% | Val Loss: 1.3411 | Val Acc: 34.97%\n"
     ]
    },
    {
     "name": "stdout",
     "output_type": "stream",
     "text": [
      "📘 Epoch 3 | Train Loss: 1161.4082 | Train Acc: 35.94% | Val Loss: 1.3483 | Val Acc: 33.15%\n"
     ]
    },
    {
     "name": "stdout",
     "output_type": "stream",
     "text": [
      "📘 Epoch 4 | Train Loss: 1141.3516 | Train Acc: 36.86% | Val Loss: 1.4057 | Val Acc: 32.34%\n"
     ]
    },
    {
     "name": "stdout",
     "output_type": "stream",
     "text": [
      "📘 Epoch 5 | Train Loss: 1121.6922 | Train Acc: 39.48% | Val Loss: 1.3634 | Val Acc: 34.09%\n"
     ]
    },
    {
     "name": "stdout",
     "output_type": "stream",
     "text": [
      "📘 Epoch 6 | Train Loss: 1095.8011 | Train Acc: 41.41% | Val Loss: 1.3174 | Val Acc: 35.63%\n"
     ]
    },
    {
     "name": "stdout",
     "output_type": "stream",
     "text": [
      "📘 Epoch 7 | Train Loss: 1064.8042 | Train Acc: 43.96% | Val Loss: 1.5876 | Val Acc: 34.22%\n"
     ]
    },
    {
     "name": "stdout",
     "output_type": "stream",
     "text": [
      "📘 Epoch 8 | Train Loss: 1031.3176 | Train Acc: 46.58% | Val Loss: 1.4743 | Val Acc: 34.88%\n"
     ]
    },
    {
     "name": "stdout",
     "output_type": "stream",
     "text": [
      "📘 Epoch 9 | Train Loss: 997.4209 | Train Acc: 48.92% | Val Loss: 1.5097 | Val Acc: 33.22%\n"
     ]
    },
    {
     "name": "stdout",
     "output_type": "stream",
     "text": [
      "📘 Epoch 10 | Train Loss: 955.1375 | Train Acc: 51.55% | Val Loss: 1.6401 | Val Acc: 34.34%\n"
     ]
    },
    {
     "name": "stdout",
     "output_type": "stream",
     "text": [
      "📘 Epoch 11 | Train Loss: 911.9792 | Train Acc: 53.97% | Val Loss: 1.8250 | Val Acc: 33.78%\n"
     ]
    },
    {
     "name": "stdout",
     "output_type": "stream",
     "text": [
      "📘 Epoch 12 | Train Loss: 870.4063 | Train Acc: 56.77% | Val Loss: 1.6647 | Val Acc: 34.32%\n"
     ]
    },
    {
     "name": "stdout",
     "output_type": "stream",
     "text": [
      "📘 Epoch 13 | Train Loss: 827.3618 | Train Acc: 59.29% | Val Loss: 1.7497 | Val Acc: 34.99%\n"
     ]
    },
    {
     "name": "stdout",
     "output_type": "stream",
     "text": [
      "📘 Epoch 14 | Train Loss: 777.3888 | Train Acc: 61.95% | Val Loss: 1.9473 | Val Acc: 34.82%\n"
     ]
    },
    {
     "name": "stdout",
     "output_type": "stream",
     "text": [
      "📘 Epoch 15 | Train Loss: 735.3187 | Train Acc: 64.62% | Val Loss: 1.8525 | Val Acc: 34.95%\n"
     ]
    },
    {
     "name": "stdout",
     "output_type": "stream",
     "text": [
      "📘 Epoch 16 | Train Loss: 685.0306 | Train Acc: 67.10% | Val Loss: 1.9462 | Val Acc: 34.15%\n"
     ]
    },
    {
     "name": "stdout",
     "output_type": "stream",
     "text": [
      "📘 Epoch 17 | Train Loss: 639.6963 | Train Acc: 69.62% | Val Loss: 1.9971 | Val Acc: 33.75%\n"
     ]
    },
    {
     "name": "stdout",
     "output_type": "stream",
     "text": [
      "📘 Epoch 18 | Train Loss: 594.0382 | Train Acc: 72.25% | Val Loss: 2.1560 | Val Acc: 34.10%\n"
     ]
    },
    {
     "name": "stdout",
     "output_type": "stream",
     "text": [
      "📘 Epoch 19 | Train Loss: 563.1045 | Train Acc: 73.52% | Val Loss: 2.1990 | Val Acc: 33.75%\n"
     ]
    },
    {
     "name": "stdout",
     "output_type": "stream",
     "text": [
      "📘 Epoch 20 | Train Loss: 521.9901 | Train Acc: 75.79% | Val Loss: 2.4155 | Val Acc: 33.84%\n"
     ]
    },
    {
     "name": "stdout",
     "output_type": "stream",
     "text": [
      "📘 Epoch 21 | Train Loss: 491.6526 | Train Acc: 76.97% | Val Loss: 2.3385 | Val Acc: 33.47%\n"
     ]
    },
    {
     "name": "stdout",
     "output_type": "stream",
     "text": [
      "📘 Epoch 22 | Train Loss: 467.5839 | Train Acc: 78.37% | Val Loss: 2.3233 | Val Acc: 34.46%\n"
     ]
    },
    {
     "name": "stdout",
     "output_type": "stream",
     "text": [
      "📘 Epoch 23 | Train Loss: 440.3474 | Train Acc: 79.32% | Val Loss: 2.7089 | Val Acc: 34.06%\n"
     ]
    },
    {
     "name": "stdout",
     "output_type": "stream",
     "text": [
      "📘 Epoch 24 | Train Loss: 417.8028 | Train Acc: 80.37% | Val Loss: 2.6495 | Val Acc: 34.55%\n"
     ]
    },
    {
     "name": "stdout",
     "output_type": "stream",
     "text": [
      "📘 Epoch 25 | Train Loss: 398.0741 | Train Acc: 81.36% | Val Loss: 2.7465 | Val Acc: 33.57%\n"
     ]
    },
    {
     "name": "stdout",
     "output_type": "stream",
     "text": [
      "📘 Epoch 26 | Train Loss: 378.6192 | Train Acc: 82.36% | Val Loss: 2.9155 | Val Acc: 33.57%\n"
     ]
    },
    {
     "name": "stdout",
     "output_type": "stream",
     "text": [
      "📘 Epoch 27 | Train Loss: 366.0190 | Train Acc: 82.80% | Val Loss: 2.6177 | Val Acc: 33.52%\n"
     ]
    },
    {
     "name": "stdout",
     "output_type": "stream",
     "text": [
      "📘 Epoch 28 | Train Loss: 344.7735 | Train Acc: 83.81% | Val Loss: 3.0783 | Val Acc: 34.63%\n"
     ]
    },
    {
     "name": "stdout",
     "output_type": "stream",
     "text": [
      "📘 Epoch 29 | Train Loss: 339.8696 | Train Acc: 84.07% | Val Loss: 2.9362 | Val Acc: 34.30%\n"
     ]
    },
    {
     "name": "stdout",
     "output_type": "stream",
     "text": [
      "📘 Epoch 30 | Train Loss: 327.7594 | Train Acc: 84.56% | Val Loss: 2.5850 | Val Acc: 34.30%\n"
     ]
    },
    {
     "name": "stdout",
     "output_type": "stream",
     "text": [
      "📘 Epoch 31 | Train Loss: 317.6493 | Train Acc: 85.09% | Val Loss: 2.8644 | Val Acc: 33.84%\n"
     ]
    },
    {
     "name": "stdout",
     "output_type": "stream",
     "text": [
      "📘 Epoch 32 | Train Loss: 305.6321 | Train Acc: 85.66% | Val Loss: 2.9214 | Val Acc: 33.39%\n"
     ]
    },
    {
     "name": "stdout",
     "output_type": "stream",
     "text": [
      "📘 Epoch 33 | Train Loss: 301.1867 | Train Acc: 85.62% | Val Loss: 3.3897 | Val Acc: 34.11%\n"
     ]
    },
    {
     "name": "stdout",
     "output_type": "stream",
     "text": [
      "📘 Epoch 34 | Train Loss: 292.3134 | Train Acc: 86.30% | Val Loss: 2.6635 | Val Acc: 33.86%\n"
     ]
    },
    {
     "name": "stdout",
     "output_type": "stream",
     "text": [
      "📘 Epoch 35 | Train Loss: 284.9836 | Train Acc: 86.50% | Val Loss: 3.0652 | Val Acc: 33.38%\n"
     ]
    },
    {
     "name": "stdout",
     "output_type": "stream",
     "text": [
      "📘 Epoch 36 | Train Loss: 282.4221 | Train Acc: 86.66% | Val Loss: 3.6818 | Val Acc: 33.41%\n"
     ]
    },
    {
     "name": "stdout",
     "output_type": "stream",
     "text": [
      "📘 Epoch 37 | Train Loss: 272.4817 | Train Acc: 87.22% | Val Loss: 3.6373 | Val Acc: 33.69%\n"
     ]
    },
    {
     "name": "stdout",
     "output_type": "stream",
     "text": [
      "📘 Epoch 38 | Train Loss: 265.1258 | Train Acc: 87.28% | Val Loss: 3.3634 | Val Acc: 34.31%\n"
     ]
    },
    {
     "name": "stdout",
     "output_type": "stream",
     "text": [
      "📘 Epoch 39 | Train Loss: 260.5691 | Train Acc: 87.51% | Val Loss: 3.2077 | Val Acc: 34.43%\n"
     ]
    },
    {
     "name": "stdout",
     "output_type": "stream",
     "text": [
      "📘 Epoch 40 | Train Loss: 251.1680 | Train Acc: 88.15% | Val Loss: 3.4743 | Val Acc: 34.23%\n"
     ]
    },
    {
     "name": "stdout",
     "output_type": "stream",
     "text": [
      "📘 Epoch 41 | Train Loss: 249.9682 | Train Acc: 88.25% | Val Loss: 3.1867 | Val Acc: 34.49%\n"
     ]
    },
    {
     "name": "stdout",
     "output_type": "stream",
     "text": [
      "📘 Epoch 42 | Train Loss: 245.2277 | Train Acc: 88.35% | Val Loss: 3.9583 | Val Acc: 34.92%\n"
     ]
    },
    {
     "name": "stdout",
     "output_type": "stream",
     "text": [
      "📘 Epoch 43 | Train Loss: 229.9383 | Train Acc: 89.07% | Val Loss: 3.6702 | Val Acc: 34.48%\n"
     ]
    },
    {
     "name": "stdout",
     "output_type": "stream",
     "text": [
      "📘 Epoch 44 | Train Loss: 237.6165 | Train Acc: 88.86% | Val Loss: 3.8607 | Val Acc: 34.31%\n"
     ]
    },
    {
     "name": "stdout",
     "output_type": "stream",
     "text": [
      "📘 Epoch 45 | Train Loss: 227.1958 | Train Acc: 89.16% | Val Loss: 3.9371 | Val Acc: 34.40%\n"
     ]
    },
    {
     "name": "stdout",
     "output_type": "stream",
     "text": [
      "📘 Epoch 46 | Train Loss: 219.7839 | Train Acc: 89.32% | Val Loss: 4.7210 | Val Acc: 34.50%\n"
     ]
    },
    {
     "name": "stdout",
     "output_type": "stream",
     "text": [
      "📘 Epoch 47 | Train Loss: 224.3863 | Train Acc: 89.45% | Val Loss: 3.8682 | Val Acc: 34.93%\n"
     ]
    },
    {
     "name": "stdout",
     "output_type": "stream",
     "text": [
      "📘 Epoch 48 | Train Loss: 216.7230 | Train Acc: 89.51% | Val Loss: 3.8665 | Val Acc: 34.31%\n"
     ]
    },
    {
     "name": "stdout",
     "output_type": "stream",
     "text": [
      "📘 Epoch 49 | Train Loss: 211.0770 | Train Acc: 89.82% | Val Loss: 3.9223 | Val Acc: 34.89%\n"
     ]
    },
    {
     "name": "stdout",
     "output_type": "stream",
     "text": [
      "📘 Epoch 50 | Train Loss: 207.4805 | Train Acc: 90.20% | Val Loss: 3.9738 | Val Acc: 34.25%\n"
     ]
    }
   ],
   "source": [
    "import torch, random, numpy as np\n",
    "from torch.utils.data import DataLoader, TensorDataset\n",
    "\n",
    "# 🔹 데이터로더 설정\n",
    "train_loader = DataLoader(TensorDataset(X_train, y_train), batch_size=32, shuffle=True)\n",
    "val_loader = DataLoader(TensorDataset(X_val, y_val), batch_size=32)\n",
    "\n",
    "# 🔹 학습 설정\n",
    "device = torch.device(\"cuda\" if torch.cuda.is_available() else \"cpu\")\n",
    "model = ECGSleepCNN(num_classes=4).to(device)\n",
    "criterion = torch.nn.CrossEntropyLoss()\n",
    "optimizer = torch.optim.Adam(model.parameters(), lr=1e-4)\n",
    "\n",
    "# 🔹 학습 루프 \n",
    "for epoch in range(50):  # 최대 50 epoch\n",
    "    model.train()\n",
    "    loss_sum, correct, total = 0.0, 0, 0\n",
    "\n",
    "    for xb, yb in train_loader:\n",
    "        xb, yb = xb.to(device), yb.to(device)\n",
    "        outputs = model(xb)\n",
    "        loss = criterion(outputs, yb)\n",
    "\n",
    "        optimizer.zero_grad()\n",
    "        loss.backward()\n",
    "        optimizer.step()\n",
    "\n",
    "        loss_sum += loss.item()\n",
    "        _, pred = torch.max(outputs, 1)\n",
    "        total += yb.size(0)\n",
    "        correct += (pred == yb).sum().item()\n",
    "\n",
    "    train_acc = 100 * correct / total\n",
    "\n",
    "    # 🔹 검증 단계\n",
    "    model.eval()\n",
    "    val_loss, val_correct, val_total = 0.0, 0, 0\n",
    "    with torch.no_grad():\n",
    "        for xb, yb in val_loader:\n",
    "            xb, yb = xb.to(device), yb.to(device)\n",
    "            outputs = model(xb)\n",
    "            loss = criterion(outputs, yb)\n",
    "\n",
    "            val_loss += loss.item()\n",
    "            _, pred = torch.max(outputs, 1)\n",
    "            val_total += yb.size(0)\n",
    "            val_correct += (pred == yb).sum().item()\n",
    "\n",
    "    val_acc = 100 * val_correct / val_total\n",
    "    avg_val_loss = val_loss / len(val_loader)\n",
    "\n",
    "    print(f\"📘 Epoch {epoch+1} | Train Loss: {loss_sum:.4f} | Train Acc: {train_acc:.2f}% | Val Loss: {avg_val_loss:.4f} | Val Acc: {val_acc:.2f}%\")\n"
   ]
  },
  {
   "cell_type": "code",
   "execution_count": 7,
   "id": "b290e670",
   "metadata": {
    "execution": {
     "iopub.execute_input": "2025-05-21T14:23:37.055990Z",
     "iopub.status.busy": "2025-05-21T14:23:37.055226Z",
     "iopub.status.idle": "2025-05-21T14:23:45.164146Z",
     "shell.execute_reply": "2025-05-21T14:23:45.163149Z"
    },
    "papermill": {
     "duration": 8.143339,
     "end_time": "2025-05-21T14:23:45.165572",
     "exception": false,
     "start_time": "2025-05-21T14:23:37.022233",
     "status": "completed"
    },
    "tags": []
   },
   "outputs": [],
   "source": [
    "model.eval()\n",
    "all_preds, all_labels = [], []\n",
    "\n",
    "with torch.no_grad():\n",
    "    for i in range(0, len(X_test), 32):\n",
    "        xb = X_test[i:i+32].to(device)\n",
    "        yb = y_test[i:i+32].to(device)\n",
    "        outputs = model(xb)\n",
    "        preds = torch.argmax(outputs, dim=1)\n",
    "        all_preds.extend(preds.cpu().numpy())\n",
    "        all_labels.extend(yb.cpu().numpy())\n"
   ]
  },
  {
   "cell_type": "code",
   "execution_count": 8,
   "id": "ebbf9413",
   "metadata": {
    "execution": {
     "iopub.execute_input": "2025-05-21T14:23:45.185786Z",
     "iopub.status.busy": "2025-05-21T14:23:45.185391Z",
     "iopub.status.idle": "2025-05-21T14:23:45.448980Z",
     "shell.execute_reply": "2025-05-21T14:23:45.448040Z"
    },
    "papermill": {
     "duration": 0.275134,
     "end_time": "2025-05-21T14:23:45.450295",
     "exception": false,
     "start_time": "2025-05-21T14:23:45.175161",
     "status": "completed"
    },
    "tags": []
   },
   "outputs": [
    {
     "data": {
      "image/png": "[encoded data removed]",
      "text/plain": [
       "<Figure size 600x500 with 2 Axes>"
      ]
     },
     "metadata": {},
     "output_type": "display_data"
    },
    {
     "name": "stdout",
     "output_type": "stream",
     "text": [
      "📄 Classification Report:\n",
      "              precision    recall  f1-score   support\n",
      "\n",
      "           W       0.30      0.61      0.40      4359\n",
      "         N12       0.50      0.28      0.36     12624\n",
      "          N3       0.24      0.17      0.20      5711\n",
      "           R       0.19      0.32      0.24      4172\n",
      "\n",
      "    accuracy                           0.32     26866\n",
      "   macro avg       0.31      0.34      0.30     26866\n",
      "weighted avg       0.36      0.32      0.31     26866\n",
      "\n"
     ]
    }
   ],
   "source": [
    "labels = ['W', 'N12', 'N3', 'R']\n",
    "\n",
    "# Confusion Matrix\n",
    "cm = confusion_matrix(all_labels, all_preds)\n",
    "plt.figure(figsize=(6, 5))\n",
    "sns.heatmap(cm, annot=True, fmt='d', cmap='Blues',\n",
    "            xticklabels=labels, yticklabels=labels)\n",
    "plt.xlabel(\"Predicted\")\n",
    "plt.ylabel(\"True\")\n",
    "plt.title(\"Confusion Matrix\")\n",
    "plt.tight_layout()\n",
    "plt.show()\n",
    "\n",
    "# Classification Report\n",
    "print(\"📄 Classification Report:\")\n",
    "print(classification_report(all_labels, all_preds, target_names=labels))\n"
   ]
  }
 ],
 "metadata": {
  "kernelspec": {
   "display_name": "Python 3",
   "language": "python",
   "name": "python3"
  },
  "language_info": {
   "codemirror_mode": {
    "name": "ipython",
    "version": 3
   },
   "file_extension": ".py",
   "mimetype": "text/x-python",
   "name": "python",
   "nbconvert_exporter": "python",
   "pygments_lexer": "ipython3",
   "version": "3.10.12"
  },
  "papermill": {
   "default_parameters": {},
   "duration": 2147.466749,
   "end_time": "2025-05-21T14:23:48.963114",
   "environment_variables": {},
   "exception": null,
   "input_path": "CNN2.ipynb",
   "output_path": "output2.ipynb",
   "parameters": {},
   "start_time": "2025-05-21T13:48:01.496365",
   "version": "2.6.0"
  }
 },
 "nbformat": 4,
 "nbformat_minor": 5
}