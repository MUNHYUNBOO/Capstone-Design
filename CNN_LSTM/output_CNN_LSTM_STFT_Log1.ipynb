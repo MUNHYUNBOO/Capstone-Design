{
 "cells": [
  {
   "cell_type": "code",
   "execution_count": 1,
   "id": "8f68b19a",
   "metadata": {
    "execution": {
     "iopub.execute_input": "2025-05-27T06:17:43.317106Z",
     "iopub.status.busy": "2025-05-27T06:17:43.316453Z",
     "iopub.status.idle": "2025-05-27T06:17:47.494648Z",
     "shell.execute_reply": "2025-05-27T06:17:47.493535Z"
    },
    "papermill": {
     "duration": 4.190586,
     "end_time": "2025-05-27T06:17:47.497311",
     "exception": false,
     "start_time": "2025-05-27T06:17:43.306725",
     "status": "completed"
    },
    "tags": []
   },
   "outputs": [],
   "source": [
    "import os\n",
    "import numpy as np\n",
    "import pyedflib\n",
    "from scipy.stats import zscore\n",
    "from scipy.signal import stft\n",
    "import torch\n",
    "import torch.nn as nn\n",
    "from torch.utils.data import Dataset, DataLoader\n",
    "from sklearn.metrics import classification_report, confusion_matrix, ConfusionMatrixDisplay\n",
    "import matplotlib.pyplot as plt\n",
    "\n",
    "# ⚙️ 설정\n",
    "root_dir = \"/home/mhb0917/캡스톤디자인/sleep/recordings\"\n",
    "seq_len = 10\n",
    "batch_size = 16\n",
    "epochs = 50\n",
    "learning_rate = 0.001\n",
    "\n",
    "label_map = {\n",
    "    'Sleep stage W': 0,\n",
    "    'Sleep stage N1': 1,\n",
    "    'Sleep stage N2': 1,\n",
    "    'Sleep stage N3': 2,\n",
    "    'Sleep stage R': 3\n",
    "}"
   ]
  },
  {
   "cell_type": "code",
   "execution_count": 2,
   "id": "3c5e7bc1",
   "metadata": {
    "execution": {
     "iopub.execute_input": "2025-05-27T06:17:47.510279Z",
     "iopub.status.busy": "2025-05-27T06:17:47.509796Z",
     "iopub.status.idle": "2025-05-27T06:17:47.519233Z",
     "shell.execute_reply": "2025-05-27T06:17:47.518275Z"
    },
    "papermill": {
     "duration": 0.016326,
     "end_time": "2025-05-27T06:17:47.521035",
     "exception": false,
     "start_time": "2025-05-27T06:17:47.504709",
     "status": "completed"
    },
    "tags": []
   },
   "outputs": [],
   "source": [
    "# 1️⃣ 데이터 로드\n",
    "def load_ecg_and_labels(sn_id, root_dir):\n",
    "    base = f\"SN{int(sn_id):03d}\"\n",
    "    ecg_path = os.path.join(root_dir, f\"{base}.edf\")\n",
    "    label_path = os.path.join(root_dir, f\"{base}_sleepscoring.edf\")\n",
    "    if not os.path.exists(ecg_path) or not os.path.exists(label_path):\n",
    "        print(f\"❌ 파일 없음: {base}\")\n",
    "        return [], []\n",
    "\n",
    "    with pyedflib.EdfReader(ecg_path) as ecg_reader:\n",
    "        ecg_signal = ecg_reader.readSignal(7)\n",
    "\n",
    "    with pyedflib.EdfReader(label_path) as label_reader:\n",
    "        onsets, durations, labels = label_reader.readAnnotations()\n",
    "\n",
    "    segments, segment_labels = [], []\n",
    "    for onset, duration, label in zip(onsets, durations, labels):\n",
    "        label_str = label.decode() if isinstance(label, bytes) else label\n",
    "        if label_str not in label_map:\n",
    "            continue\n",
    "        start = int(onset * 256)\n",
    "        num_segments = int(duration // 30)\n",
    "        for i in range(num_segments):\n",
    "            seg_start = start + i * 7680\n",
    "            seg_end = seg_start + 7680\n",
    "            if seg_end > len(ecg_signal):\n",
    "                break\n",
    "            segment = zscore(ecg_signal[seg_start:seg_end])\n",
    "            if np.isnan(segment).any():\n",
    "                continue\n",
    "            segments.append(segment.astype(np.float32))\n",
    "            segment_labels.append(label_map[label_str])\n",
    "    return segments, segment_labels"
   ]
  },
  {
   "cell_type": "code",
   "execution_count": 3,
   "id": "4c8e4f4d",
   "metadata": {
    "execution": {
     "iopub.execute_input": "2025-05-27T06:17:47.531773Z",
     "iopub.status.busy": "2025-05-27T06:17:47.530941Z",
     "iopub.status.idle": "2025-05-27T06:17:47.536825Z",
     "shell.execute_reply": "2025-05-27T06:17:47.535791Z"
    },
    "papermill": {
     "duration": 0.012828,
     "end_time": "2025-05-27T06:17:47.538651",
     "exception": false,
     "start_time": "2025-05-27T06:17:47.525823",
     "status": "completed"
    },
    "tags": []
   },
   "outputs": [],
   "source": [
    "# 2️⃣ STFT 함수\n",
    "def compute_stft(segment, fs=256, nperseg=256, noverlap=128):\n",
    "    f, t, Zxx = stft(segment, fs=fs, nperseg=nperseg, noverlap=noverlap)\n",
    "    # 로그 스케일 변환\n",
    "    magnitude = 10 * np.log10(np.abs(Zxx) + 1e-8)\n",
    "    return magnitude.T  # (time, freq)\n"
   ]
  },
  {
   "cell_type": "code",
   "execution_count": 4,
   "id": "82099291",
   "metadata": {
    "execution": {
     "iopub.execute_input": "2025-05-27T06:17:47.550998Z",
     "iopub.status.busy": "2025-05-27T06:17:47.550010Z",
     "iopub.status.idle": "2025-05-27T06:17:47.563144Z",
     "shell.execute_reply": "2025-05-27T06:17:47.561917Z"
    },
    "papermill": {
     "duration": 0.02103,
     "end_time": "2025-05-27T06:17:47.565373",
     "exception": false,
     "start_time": "2025-05-27T06:17:47.544343",
     "status": "completed"
    },
    "tags": []
   },
   "outputs": [],
   "source": [
    "# 3️⃣ STFT + 시퀀스 생성\n",
    "def create_sequences_stft(segments, labels, seq_len=10):\n",
    "    X, y = [], []\n",
    "    for i in range(len(segments) - seq_len + 1):\n",
    "        stft_seqs = []\n",
    "        for seg in segments[i:i+seq_len]:\n",
    "            stft_feat = compute_stft(seg)  # (time, freq)\n",
    "            stft_seqs.append(stft_feat)  # (time, freq)\n",
    "        X.append(np.stack(stft_seqs))  # (seq_len, time, freq)\n",
    "        y.append(labels[i + seq_len - 1])\n",
    "    return np.array(X), np.array(y)\n",
    "\n",
    "def merge_data(data_dict):\n",
    "    X_all, y_all = [], []\n",
    "    for X, y in data_dict.values():\n",
    "        if len(X) == 0:\n",
    "            continue\n",
    "        X_all.append(X)\n",
    "        y_all.append(y)\n",
    "    if len(X_all) == 0:\n",
    "        return np.array([]), np.array([])\n",
    "    return np.concatenate(X_all), np.concatenate(y_all)\n"
   ]
  },
  {
   "cell_type": "code",
   "execution_count": 5,
   "id": "f92522da",
   "metadata": {
    "execution": {
     "iopub.execute_input": "2025-05-27T06:17:47.580064Z",
     "iopub.status.busy": "2025-05-27T06:17:47.579075Z",
     "iopub.status.idle": "2025-05-27T06:17:47.588484Z",
     "shell.execute_reply": "2025-05-27T06:17:47.586924Z"
    },
    "papermill": {
     "duration": 0.018665,
     "end_time": "2025-05-27T06:17:47.590330",
     "exception": false,
     "start_time": "2025-05-27T06:17:47.571665",
     "status": "completed"
    },
    "tags": []
   },
   "outputs": [],
   "source": [
    "# 4️⃣ Dataset\n",
    "class SleepDataset(Dataset):\n",
    "    def __init__(self, X, y):\n",
    "        self.X = torch.tensor(X, dtype=torch.float32)\n",
    "        self.y = torch.tensor(y, dtype=torch.long)\n",
    "    def __len__(self):\n",
    "        return len(self.X)\n",
    "    def __getitem__(self, idx):\n",
    "        return self.X[idx], self.y[idx]"
   ]
  },
  {
   "cell_type": "code",
   "execution_count": 6,
   "id": "0d8f5cb5",
   "metadata": {
    "execution": {
     "iopub.execute_input": "2025-05-27T06:17:47.600692Z",
     "iopub.status.busy": "2025-05-27T06:17:47.600252Z",
     "iopub.status.idle": "2025-05-27T06:17:47.616367Z",
     "shell.execute_reply": "2025-05-27T06:17:47.614858Z"
    },
    "papermill": {
     "duration": 0.023632,
     "end_time": "2025-05-27T06:17:47.618369",
     "exception": false,
     "start_time": "2025-05-27T06:17:47.594737",
     "status": "completed"
    },
    "tags": []
   },
   "outputs": [],
   "source": [
    "# 5️⃣ 모델 정의\n",
    "class CNN_STFT_LSTM(nn.Module):\n",
    "    def __init__(self, time_bins, freq_bins, cnn_out=64, lstm_hidden=128, num_classes=4):\n",
    "        super(CNN_STFT_LSTM, self).__init__()\n",
    "        \n",
    "        # 1️⃣ CNN Feature Extractor (3단계 CNN)\n",
    "        self.cnn = nn.Sequential(\n",
    "            nn.Conv2d(1, 32, kernel_size=(3,3), stride=(1,1), padding=(1,1)),\n",
    "            nn.BatchNorm2d(32),\n",
    "            nn.ReLU(),\n",
    "            \n",
    "            nn.Conv2d(32, 64, kernel_size=(3,3), stride=(1,1), padding=(1,1)),\n",
    "            nn.BatchNorm2d(64),\n",
    "            nn.ReLU(),\n",
    "            \n",
    "            nn.Conv2d(64, cnn_out, kernel_size=(3,3), stride=(1,1), padding=(1,1)),\n",
    "            nn.BatchNorm2d(cnn_out),\n",
    "            nn.ReLU(),\n",
    "            \n",
    "            nn.AdaptiveAvgPool2d((1, 1))  # (batch*seq, channels, 1, 1)\n",
    "        )\n",
    "        \n",
    "        # 2️⃣ LSTM for Sequence Modeling\n",
    "        self.lstm = nn.LSTM(\n",
    "            input_size=cnn_out,\n",
    "            hidden_size=lstm_hidden,\n",
    "            num_layers=2,\n",
    "            batch_first=True\n",
    "        )\n",
    "        \n",
    "        # 3️⃣ Fully Connected Output Layer\n",
    "        self.fc = nn.Linear(lstm_hidden, num_classes)\n",
    "\n",
    "    def forward(self, x):\n",
    "        # x shape: (batch_size, seq_len, time_bins, freq_bins)\n",
    "        batch_size, seq_len, time_bins, freq_bins = x.shape\n",
    "        \n",
    "        # CNN 입력을 위해 채널 차원 추가 (1 채널)\n",
    "        x = x.view(batch_size * seq_len, 1, time_bins, freq_bins)  # (batch*seq, 1, time, freq)\n",
    "        \n",
    "        # CNN 처리\n",
    "        x = self.cnn(x)  # (batch*seq, cnn_out, 1, 1)\n",
    "        x = x.view(batch_size, seq_len, -1)  # (batch, seq_len, cnn_out)\n",
    "        \n",
    "        # LSTM 처리\n",
    "        out, _ = self.lstm(x)  # (batch, seq_len, lstm_hidden)\n",
    "        \n",
    "        # 마지막 시퀀스의 출력만 사용\n",
    "        out = out[:, -1, :]  # (batch, lstm_hidden)\n",
    "        \n",
    "        # 최종 분류\n",
    "        return self.fc(out)\n"
   ]
  },
  {
   "cell_type": "code",
   "execution_count": 7,
   "id": "5b14116b",
   "metadata": {
    "execution": {
     "iopub.execute_input": "2025-05-27T06:17:47.625957Z",
     "iopub.status.busy": "2025-05-27T06:17:47.625694Z",
     "iopub.status.idle": "2025-05-27T06:17:47.634651Z",
     "shell.execute_reply": "2025-05-27T06:17:47.633834Z"
    },
    "papermill": {
     "duration": 0.013676,
     "end_time": "2025-05-27T06:17:47.635597",
     "exception": false,
     "start_time": "2025-05-27T06:17:47.621921",
     "status": "completed"
    },
    "tags": []
   },
   "outputs": [],
   "source": [
    "# 4️⃣ 학습 및 평가 함수\n",
    "def train_model(model, train_loader, val_loader, epochs=50, lr=0.001, device='cuda'):\n",
    "    model.to(device)\n",
    "    optimizer = torch.optim.Adam(model.parameters(), lr=lr)\n",
    "    criterion = nn.CrossEntropyLoss()\n",
    "\n",
    "    train_losses, val_losses = [], []\n",
    "\n",
    "    for epoch in range(epochs):\n",
    "        # Train\n",
    "        model.train()\n",
    "        total_loss, correct, total = 0, 0, 0\n",
    "        for X_batch, y_batch in train_loader:\n",
    "            X_batch, y_batch = X_batch.to(device), y_batch.to(device)\n",
    "            optimizer.zero_grad()\n",
    "            outputs = model(X_batch)\n",
    "            loss = criterion(outputs, y_batch)\n",
    "            loss.backward()\n",
    "            optimizer.step()\n",
    "            total_loss += loss.item()\n",
    "            correct += (outputs.argmax(1) == y_batch).sum().item()\n",
    "            total += y_batch.size(0)\n",
    "        avg_train_loss = total_loss / len(train_loader)\n",
    "        train_acc = correct / total if total > 0 else 0\n",
    "        train_losses.append(avg_train_loss)\n",
    "\n",
    "        # Validation\n",
    "        model.eval()\n",
    "        total_val_loss = 0\n",
    "        with torch.no_grad():\n",
    "            for X_batch, y_batch in val_loader:\n",
    "                X_batch, y_batch = X_batch.to(device), y_batch.to(device)\n",
    "                outputs = model(X_batch)\n",
    "                loss = criterion(outputs, y_batch)\n",
    "                total_val_loss += loss.item()\n",
    "        avg_val_loss = total_val_loss / len(val_loader)\n",
    "        val_losses.append(avg_val_loss)\n",
    "\n",
    "        print(f\"Epoch [{epoch+1}/{epochs}] Train Loss: {avg_train_loss:.4f} Acc: {train_acc:.4f} | Val Loss: {avg_val_loss:.4f}\")\n",
    "\n",
    "    return train_losses, val_losses\n",
    "\n",
    "def evaluate_model(model, loader, device='cuda'):\n",
    "    model = model.to(device)\n",
    "    model.eval()\n",
    "    all_preds, all_labels = [], []\n",
    "    with torch.no_grad():\n",
    "        for X_batch, y_batch in loader:\n",
    "            X_batch = X_batch.to(device)\n",
    "            outputs = model(X_batch)\n",
    "            preds = outputs.argmax(1).cpu().numpy()\n",
    "            all_preds.extend(preds)\n",
    "            all_labels.extend(y_batch.numpy())\n",
    "\n",
    "    print(classification_report(all_labels, all_preds, labels=[0,1,2,3], target_names=[\"W\", \"N1/2\", \"N3\", \"R\"], zero_division=0))\n",
    "    cm = confusion_matrix(all_labels, all_preds, labels=[0,1,2,3])\n",
    "    disp = ConfusionMatrixDisplay(confusion_matrix=cm, display_labels=[\"W\", \"N1/2\", \"N3\", \"R\"])\n",
    "    disp.plot(cmap=\"Blues\", values_format=\"d\")\n",
    "    plt.title(\"Confusion Matrix\")\n",
    "    plt.show()\n"
   ]
  },
  {
   "cell_type": "code",
   "execution_count": 8,
   "id": "b0bff446",
   "metadata": {
    "execution": {
     "iopub.execute_input": "2025-05-27T06:17:47.641708Z",
     "iopub.status.busy": "2025-05-27T06:17:47.641180Z",
     "iopub.status.idle": "2025-05-27T06:29:38.539952Z",
     "shell.execute_reply": "2025-05-27T06:29:38.538112Z"
    },
    "papermill": {
     "duration": 710.911841,
     "end_time": "2025-05-27T06:29:38.549903",
     "exception": false,
     "start_time": "2025-05-27T06:17:47.638062",
     "status": "completed"
    },
    "tags": []
   },
   "outputs": [
    {
     "name": "stdout",
     "output_type": "stream",
     "text": [
      "❌ 파일 없음: SN014\n"
     ]
    },
    {
     "name": "stdout",
     "output_type": "stream",
     "text": [
      "❌ 파일 없음: SN064\n"
     ]
    },
    {
     "name": "stdout",
     "output_type": "stream",
     "text": [
      "❌ 파일 없음: SN135\n"
     ]
    },
    {
     "name": "stdout",
     "output_type": "stream",
     "text": [
      "✅ Train shape: (81795, 10, 61, 129), time=61, freq=129\n"
     ]
    }
   ],
   "source": [
    "# 5️⃣ 데이터 처리 및 학습\n",
    "train_X, train_y = [], []\n",
    "val_data, test_data = {}, {}\n",
    "\n",
    "for i in range(1, 155):\n",
    "    segments, labels = load_ecg_and_labels(i, root_dir)\n",
    "    if segments is not None and len(segments) > 0:\n",
    "        X_seq, y_seq = create_sequences_stft(segments, labels, seq_len)\n",
    "        if len(X_seq) == 0:\n",
    "            continue\n",
    "        if 1 <= i <= 93:\n",
    "            train_X.append(X_seq)\n",
    "            train_y.append(y_seq)\n",
    "        elif 94 <= i <= 123:\n",
    "            val_data[f\"SN{i:03d}\"] = (X_seq, y_seq)\n",
    "        else:\n",
    "            test_data[f\"SN{i:03d}\"] = (X_seq, y_seq)\n",
    "\n",
    "train_X = np.concatenate(train_X)\n",
    "train_y = np.concatenate(train_y)\n",
    "\n",
    "val_X, val_y = [], []\n",
    "for X, y in val_data.values():\n",
    "    val_X.append(X)\n",
    "    val_y.append(y)\n",
    "val_X = np.concatenate(val_X)\n",
    "val_y = np.concatenate(val_y)\n",
    "\n",
    "time_bins, freq_bins = train_X.shape[2], train_X.shape[3]\n",
    "print(f\"✅ Train shape: {train_X.shape}, time={time_bins}, freq={freq_bins}\")"
   ]
  },
  {
   "cell_type": "code",
   "execution_count": 9,
   "id": "e7d2d63d",
   "metadata": {
    "execution": {
     "iopub.execute_input": "2025-05-27T06:29:38.588684Z",
     "iopub.status.busy": "2025-05-27T06:29:38.588025Z",
     "iopub.status.idle": "2025-05-27T23:16:06.855987Z",
     "shell.execute_reply": "2025-05-27T23:16:06.855044Z"
    },
    "papermill": {
     "duration": 60388.287539,
     "end_time": "2025-05-27T23:16:06.868165",
     "exception": false,
     "start_time": "2025-05-27T06:29:38.580626",
     "status": "completed"
    },
    "tags": []
   },
   "outputs": [
    {
     "name": "stdout",
     "output_type": "stream",
     "text": [
      "Epoch [1/50] Train Loss: 1.0845 Acc: 0.5263 | Val Loss: 1.1103\n"
     ]
    },
    {
     "name": "stdout",
     "output_type": "stream",
     "text": [
      "Epoch [2/50] Train Loss: 0.9783 Acc: 0.5638 | Val Loss: 1.1146\n"
     ]
    },
    {
     "name": "stdout",
     "output_type": "stream",
     "text": [
      "Epoch [3/50] Train Loss: 0.9105 Acc: 0.5963 | Val Loss: 1.2342\n"
     ]
    },
    {
     "name": "stdout",
     "output_type": "stream",
     "text": [
      "Epoch [4/50] Train Loss: 0.8525 Acc: 0.6272 | Val Loss: 1.2374\n"
     ]
    },
    {
     "name": "stdout",
     "output_type": "stream",
     "text": [
      "Epoch [5/50] Train Loss: 0.7994 Acc: 0.6534 | Val Loss: 1.2257\n"
     ]
    },
    {
     "name": "stdout",
     "output_type": "stream",
     "text": [
      "Epoch [6/50] Train Loss: 0.7523 Acc: 0.6745 | Val Loss: 1.2365\n"
     ]
    },
    {
     "name": "stdout",
     "output_type": "stream",
     "text": [
      "Epoch [7/50] Train Loss: 0.7089 Acc: 0.6955 | Val Loss: 1.2802\n"
     ]
    },
    {
     "name": "stdout",
     "output_type": "stream",
     "text": [
      "Epoch [8/50] Train Loss: 0.6698 Acc: 0.7137 | Val Loss: 1.4207\n"
     ]
    },
    {
     "name": "stdout",
     "output_type": "stream",
     "text": [
      "Epoch [9/50] Train Loss: 0.6343 Acc: 0.7319 | Val Loss: 1.4065\n"
     ]
    },
    {
     "name": "stdout",
     "output_type": "stream",
     "text": [
      "Epoch [10/50] Train Loss: 0.5957 Acc: 0.7496 | Val Loss: 1.5436\n"
     ]
    },
    {
     "name": "stdout",
     "output_type": "stream",
     "text": [
      "Epoch [11/50] Train Loss: 0.5639 Acc: 0.7649 | Val Loss: 1.4265\n"
     ]
    },
    {
     "name": "stdout",
     "output_type": "stream",
     "text": [
      "Epoch [12/50] Train Loss: 0.5333 Acc: 0.7802 | Val Loss: 1.6352\n"
     ]
    },
    {
     "name": "stdout",
     "output_type": "stream",
     "text": [
      "Epoch [13/50] Train Loss: 0.5061 Acc: 0.7910 | Val Loss: 1.6391\n"
     ]
    },
    {
     "name": "stdout",
     "output_type": "stream",
     "text": [
      "Epoch [14/50] Train Loss: 0.4793 Acc: 0.8010 | Val Loss: 1.6206\n"
     ]
    },
    {
     "name": "stdout",
     "output_type": "stream",
     "text": [
      "Epoch [15/50] Train Loss: 0.4508 Acc: 0.8156 | Val Loss: 1.6321\n"
     ]
    },
    {
     "name": "stdout",
     "output_type": "stream",
     "text": [
      "Epoch [16/50] Train Loss: 0.4268 Acc: 0.8267 | Val Loss: 1.7643\n"
     ]
    },
    {
     "name": "stdout",
     "output_type": "stream",
     "text": [
      "Epoch [17/50] Train Loss: 0.4081 Acc: 0.8355 | Val Loss: 1.8409\n"
     ]
    },
    {
     "name": "stdout",
     "output_type": "stream",
     "text": [
      "Epoch [18/50] Train Loss: 0.3883 Acc: 0.8439 | Val Loss: 1.9090\n"
     ]
    },
    {
     "name": "stdout",
     "output_type": "stream",
     "text": [
      "Epoch [19/50] Train Loss: 0.3670 Acc: 0.8528 | Val Loss: 1.9183\n"
     ]
    },
    {
     "name": "stdout",
     "output_type": "stream",
     "text": [
      "Epoch [20/50] Train Loss: 0.3476 Acc: 0.8621 | Val Loss: 1.9389\n"
     ]
    },
    {
     "name": "stdout",
     "output_type": "stream",
     "text": [
      "Epoch [21/50] Train Loss: 0.3319 Acc: 0.8680 | Val Loss: 1.9105\n"
     ]
    },
    {
     "name": "stdout",
     "output_type": "stream",
     "text": [
      "Epoch [22/50] Train Loss: 0.3152 Acc: 0.8750 | Val Loss: 2.1570\n"
     ]
    },
    {
     "name": "stdout",
     "output_type": "stream",
     "text": [
      "Epoch [23/50] Train Loss: 0.2979 Acc: 0.8812 | Val Loss: 2.1007\n"
     ]
    },
    {
     "name": "stdout",
     "output_type": "stream",
     "text": [
      "Epoch [24/50] Train Loss: 0.2880 Acc: 0.8869 | Val Loss: 2.1989\n"
     ]
    },
    {
     "name": "stdout",
     "output_type": "stream",
     "text": [
      "Epoch [25/50] Train Loss: 0.2741 Acc: 0.8925 | Val Loss: 2.1405\n"
     ]
    },
    {
     "name": "stdout",
     "output_type": "stream",
     "text": [
      "Epoch [26/50] Train Loss: 0.2617 Acc: 0.8988 | Val Loss: 2.4536\n"
     ]
    },
    {
     "name": "stdout",
     "output_type": "stream",
     "text": [
      "Epoch [27/50] Train Loss: 0.2502 Acc: 0.9032 | Val Loss: 2.2801\n"
     ]
    },
    {
     "name": "stdout",
     "output_type": "stream",
     "text": [
      "Epoch [28/50] Train Loss: 0.2391 Acc: 0.9075 | Val Loss: 2.4045\n"
     ]
    },
    {
     "name": "stdout",
     "output_type": "stream",
     "text": [
      "Epoch [29/50] Train Loss: 0.2351 Acc: 0.9085 | Val Loss: 2.4603\n"
     ]
    },
    {
     "name": "stdout",
     "output_type": "stream",
     "text": [
      "Epoch [30/50] Train Loss: 0.2222 Acc: 0.9141 | Val Loss: 2.4299\n"
     ]
    },
    {
     "name": "stdout",
     "output_type": "stream",
     "text": [
      "Epoch [31/50] Train Loss: 0.2139 Acc: 0.9178 | Val Loss: 2.7844\n"
     ]
    },
    {
     "name": "stdout",
     "output_type": "stream",
     "text": [
      "Epoch [32/50] Train Loss: 0.2074 Acc: 0.9197 | Val Loss: 2.4111\n"
     ]
    },
    {
     "name": "stdout",
     "output_type": "stream",
     "text": [
      "Epoch [33/50] Train Loss: 0.1993 Acc: 0.9233 | Val Loss: 2.5350\n"
     ]
    },
    {
     "name": "stdout",
     "output_type": "stream",
     "text": [
      "Epoch [34/50] Train Loss: 0.1892 Acc: 0.9268 | Val Loss: 2.5611\n"
     ]
    },
    {
     "name": "stdout",
     "output_type": "stream",
     "text": [
      "Epoch [35/50] Train Loss: 0.1871 Acc: 0.9282 | Val Loss: 2.7143\n"
     ]
    },
    {
     "name": "stdout",
     "output_type": "stream",
     "text": [
      "Epoch [36/50] Train Loss: 0.1775 Acc: 0.9321 | Val Loss: 2.8686\n"
     ]
    },
    {
     "name": "stdout",
     "output_type": "stream",
     "text": [
      "Epoch [37/50] Train Loss: 0.1728 Acc: 0.9348 | Val Loss: 3.0775\n"
     ]
    },
    {
     "name": "stdout",
     "output_type": "stream",
     "text": [
      "Epoch [38/50] Train Loss: 0.1704 Acc: 0.9351 | Val Loss: 2.8583\n"
     ]
    },
    {
     "name": "stdout",
     "output_type": "stream",
     "text": [
      "Epoch [39/50] Train Loss: 0.1631 Acc: 0.9383 | Val Loss: 2.7788\n"
     ]
    },
    {
     "name": "stdout",
     "output_type": "stream",
     "text": [
      "Epoch [40/50] Train Loss: 0.1628 Acc: 0.9384 | Val Loss: 2.9076\n"
     ]
    },
    {
     "name": "stdout",
     "output_type": "stream",
     "text": [
      "Epoch [41/50] Train Loss: 0.1554 Acc: 0.9408 | Val Loss: 2.9854\n"
     ]
    },
    {
     "name": "stdout",
     "output_type": "stream",
     "text": [
      "Epoch [42/50] Train Loss: 0.1530 Acc: 0.9417 | Val Loss: 2.8666\n"
     ]
    },
    {
     "name": "stdout",
     "output_type": "stream",
     "text": [
      "Epoch [43/50] Train Loss: 0.1474 Acc: 0.9439 | Val Loss: 2.9753\n"
     ]
    },
    {
     "name": "stdout",
     "output_type": "stream",
     "text": [
      "Epoch [44/50] Train Loss: 0.1483 Acc: 0.9434 | Val Loss: 2.9379\n"
     ]
    },
    {
     "name": "stdout",
     "output_type": "stream",
     "text": [
      "Epoch [45/50] Train Loss: 0.1404 Acc: 0.9470 | Val Loss: 2.9310\n"
     ]
    },
    {
     "name": "stdout",
     "output_type": "stream",
     "text": [
      "Epoch [46/50] Train Loss: 0.1350 Acc: 0.9484 | Val Loss: 3.0570\n"
     ]
    },
    {
     "name": "stdout",
     "output_type": "stream",
     "text": [
      "Epoch [47/50] Train Loss: 0.1332 Acc: 0.9498 | Val Loss: 2.9362\n"
     ]
    },
    {
     "name": "stdout",
     "output_type": "stream",
     "text": [
      "Epoch [48/50] Train Loss: 0.1336 Acc: 0.9507 | Val Loss: 3.0749\n"
     ]
    },
    {
     "name": "stdout",
     "output_type": "stream",
     "text": [
      "Epoch [49/50] Train Loss: 0.1284 Acc: 0.9516 | Val Loss: 3.0344\n"
     ]
    },
    {
     "name": "stdout",
     "output_type": "stream",
     "text": [
      "Epoch [50/50] Train Loss: 0.1267 Acc: 0.9525 | Val Loss: 3.1432\n"
     ]
    }
   ],
   "source": [
    "train_loader = DataLoader(SleepDataset(train_X, train_y), batch_size=batch_size, shuffle=True)\n",
    "val_loader = DataLoader(SleepDataset(val_X, val_y), batch_size=batch_size, shuffle=False)\n",
    "\n",
    "model = CNN_STFT_LSTM(time_bins, freq_bins)\n",
    "\n",
    "train_losses, val_losses = train_model(model, train_loader, val_loader, epochs=epochs, lr=learning_rate, device='cuda')\n"
   ]
  },
  {
   "cell_type": "code",
   "execution_count": 10,
   "id": "0720d8d0",
   "metadata": {
    "execution": {
     "iopub.execute_input": "2025-05-27T23:16:06.916568Z",
     "iopub.status.busy": "2025-05-27T23:16:06.915702Z",
     "iopub.status.idle": "2025-05-27T23:16:07.258403Z",
     "shell.execute_reply": "2025-05-27T23:16:07.257221Z"
    },
    "papermill": {
     "duration": 0.370318,
     "end_time": "2025-05-27T23:16:07.261450",
     "exception": false,
     "start_time": "2025-05-27T23:16:06.891132",
     "status": "completed"
    },
    "tags": []
   },
   "outputs": [
    {
     "data": {
      "image/png": "[encoded data removed]",
      "text/plain": [
       "<Figure size 800x600 with 1 Axes>"
      ]
     },
     "metadata": {},
     "output_type": "display_data"
    }
   ],
   "source": [
    "# Loss 그래프 출력\n",
    "plt.figure(figsize=(8,6))\n",
    "plt.plot(range(1, len(train_losses)+1), train_losses, label='Train Loss', color='blue')\n",
    "plt.plot(range(1, len(val_losses)+1), val_losses, label='Validation Loss', color='orange')\n",
    "plt.xlabel('Epoch')\n",
    "plt.ylabel('Loss')\n",
    "plt.title('Training and Validation Loss over Epochs')\n",
    "plt.legend()\n",
    "plt.grid(True)\n",
    "plt.show()"
   ]
  },
  {
   "cell_type": "code",
   "execution_count": 11,
   "id": "84e849f3",
   "metadata": {
    "execution": {
     "iopub.execute_input": "2025-05-27T23:16:07.284280Z",
     "iopub.status.busy": "2025-05-27T23:16:07.283670Z",
     "iopub.status.idle": "2025-05-27T23:18:27.192107Z",
     "shell.execute_reply": "2025-05-27T23:18:27.190760Z"
    },
    "papermill": {
     "duration": 139.917995,
     "end_time": "2025-05-27T23:18:27.194780",
     "exception": false,
     "start_time": "2025-05-27T23:16:07.276785",
     "status": "completed"
    },
    "tags": []
   },
   "outputs": [
    {
     "name": "stdout",
     "output_type": "stream",
     "text": [
      "\n",
      "📊 Validation (전체) 평가\n"
     ]
    },
    {
     "name": "stdout",
     "output_type": "stream",
     "text": [
      "              precision    recall  f1-score   support\n",
      "\n",
      "           W       0.42      0.52      0.46      4851\n",
      "        N1/2       0.52      0.58      0.55     11507\n",
      "          N3       0.49      0.32      0.39      5008\n",
      "           R       0.39      0.31      0.34      3633\n",
      "\n",
      "    accuracy                           0.48     24999\n",
      "   macro avg       0.45      0.43      0.43     24999\n",
      "weighted avg       0.47      0.48      0.47     24999\n",
      "\n"
     ]
    },
    {
     "data": {
      "image/png": "[encoded data removed]",
      "text/plain": [
       "<Figure size 640x480 with 2 Axes>"
      ]
     },
     "metadata": {},
     "output_type": "display_data"
    },
    {
     "name": "stdout",
     "output_type": "stream",
     "text": [
      "\n",
      "📊 Test (전체) 평가\n"
     ]
    },
    {
     "name": "stdout",
     "output_type": "stream",
     "text": [
      "              precision    recall  f1-score   support\n",
      "\n",
      "           W       0.51      0.57      0.54      4228\n",
      "        N1/2       0.55      0.61      0.58     13288\n",
      "          N3       0.50      0.36      0.42      5803\n",
      "           R       0.35      0.33      0.34      4280\n",
      "\n",
      "    accuracy                           0.51     27599\n",
      "   macro avg       0.48      0.47      0.47     27599\n",
      "weighted avg       0.50      0.51      0.50     27599\n",
      "\n"
     ]
    },
    {
     "data": {
      "image/png": "[encoded data removed]",
      "text/plain": [
       "<Figure size 640x480 with 2 Axes>"
      ]
     },
     "metadata": {},
     "output_type": "display_data"
    }
   ],
   "source": [
    "# 9️⃣ 전체 평가\n",
    "X_val_all, y_val_all = merge_data(val_data)\n",
    "if len(X_val_all) > 0:\n",
    "    print(\"\\n📊 Validation (전체) 평가\")\n",
    "    evaluate_model(model, DataLoader(SleepDataset(X_val_all, y_val_all), batch_size=batch_size, shuffle=False))\n",
    "\n",
    "X_test_all, y_test_all = merge_data(test_data)\n",
    "if len(X_test_all) > 0:\n",
    "    print(\"\\n📊 Test (전체) 평가\")\n",
    "    evaluate_model(model, DataLoader(SleepDataset(X_test_all, y_test_all), batch_size=batch_size, shuffle=False))"
   ]
  }
 ],
 "metadata": {
  "kernelspec": {
   "display_name": "Python 3",
   "language": "python",
   "name": "python3"
  },
  "language_info": {
   "codemirror_mode": {
    "name": "ipython",
    "version": 3
   },
   "file_extension": ".py",
   "mimetype": "text/x-python",
   "name": "python",
   "nbconvert_exporter": "python",
   "pygments_lexer": "ipython3",
   "version": "3.10.12"
  },
  "papermill": {
   "default_parameters": {},
   "duration": 61248.26361,
   "end_time": "2025-05-27T23:18:30.251724",
   "environment_variables": {},
   "exception": null,
   "input_path": "CNN_LSTM_STFT_Log1.ipynb",
   "output_path": "output_CNN_LSTM_STFT_Log1.ipynb",
   "parameters": {},
   "start_time": "2025-05-27T06:17:41.988114",
   "version": "2.6.0"
  }
 },
 "nbformat": 4,
 "nbformat_minor": 5
}