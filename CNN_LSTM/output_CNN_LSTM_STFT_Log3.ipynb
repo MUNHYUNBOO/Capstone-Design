{
 "cells": [
  {
   "cell_type": "code",
   "execution_count": 1,
   "id": "8f68b19a",
   "metadata": {
    "execution": {
     "iopub.execute_input": "2025-05-27T01:45:19.786919Z",
     "iopub.status.busy": "2025-05-27T01:45:19.786164Z",
     "iopub.status.idle": "2025-05-27T01:45:22.513947Z",
     "shell.execute_reply": "2025-05-27T01:45:22.512970Z"
    },
    "papermill": {
     "duration": 2.737474,
     "end_time": "2025-05-27T01:45:22.516753",
     "exception": false,
     "start_time": "2025-05-27T01:45:19.779279",
     "status": "completed"
    },
    "tags": []
   },
   "outputs": [],
   "source": [
    "import os\n",
    "import numpy as np\n",
    "import pyedflib\n",
    "from scipy.stats import zscore\n",
    "from scipy.signal import stft\n",
    "import torch\n",
    "import torch.nn as nn\n",
    "from torch.utils.data import Dataset, DataLoader\n",
    "from sklearn.metrics import classification_report, confusion_matrix, ConfusionMatrixDisplay\n",
    "import matplotlib.pyplot as plt\n",
    "\n",
    "# ⚙️ 설정\n",
    "root_dir = \"/home/mhb0917/캡스톤디자인/sleep/recordings\"\n",
    "seq_len = 10\n",
    "batch_size = 16\n",
    "epochs = 50\n",
    "learning_rate = 0.00001\n",
    "\n",
    "label_map = {\n",
    "    'Sleep stage W': 0,\n",
    "    'Sleep stage N1': 1,\n",
    "    'Sleep stage N2': 1,\n",
    "    'Sleep stage N3': 2,\n",
    "    'Sleep stage R': 3\n",
    "}"
   ]
  },
  {
   "cell_type": "code",
   "execution_count": 2,
   "id": "3c5e7bc1",
   "metadata": {
    "execution": {
     "iopub.execute_input": "2025-05-27T01:45:22.531441Z",
     "iopub.status.busy": "2025-05-27T01:45:22.531081Z",
     "iopub.status.idle": "2025-05-27T01:45:22.541158Z",
     "shell.execute_reply": "2025-05-27T01:45:22.540033Z"
    },
    "papermill": {
     "duration": 0.018761,
     "end_time": "2025-05-27T01:45:22.543250",
     "exception": false,
     "start_time": "2025-05-27T01:45:22.524489",
     "status": "completed"
    },
    "tags": []
   },
   "outputs": [],
   "source": [
    "# 1️⃣ 데이터 로드\n",
    "def load_ecg_and_labels(sn_id, root_dir):\n",
    "    base = f\"SN{int(sn_id):03d}\"\n",
    "    ecg_path = os.path.join(root_dir, f\"{base}.edf\")\n",
    "    label_path = os.path.join(root_dir, f\"{base}_sleepscoring.edf\")\n",
    "    if not os.path.exists(ecg_path) or not os.path.exists(label_path):\n",
    "        print(f\"❌ 파일 없음: {base}\")\n",
    "        return [], []\n",
    "\n",
    "    with pyedflib.EdfReader(ecg_path) as ecg_reader:\n",
    "        ecg_signal = ecg_reader.readSignal(7)\n",
    "\n",
    "    with pyedflib.EdfReader(label_path) as label_reader:\n",
    "        onsets, durations, labels = label_reader.readAnnotations()\n",
    "\n",
    "    segments, segment_labels = [], []\n",
    "    for onset, duration, label in zip(onsets, durations, labels):\n",
    "        label_str = label.decode() if isinstance(label, bytes) else label\n",
    "        if label_str not in label_map:\n",
    "            continue\n",
    "        start = int(onset * 256)\n",
    "        num_segments = int(duration // 30)\n",
    "        for i in range(num_segments):\n",
    "            seg_start = start + i * 7680\n",
    "            seg_end = seg_start + 7680\n",
    "            if seg_end > len(ecg_signal):\n",
    "                break\n",
    "            segment = zscore(ecg_signal[seg_start:seg_end])\n",
    "            if np.isnan(segment).any():\n",
    "                continue\n",
    "            segments.append(segment.astype(np.float32))\n",
    "            segment_labels.append(label_map[label_str])\n",
    "    return segments, segment_labels"
   ]
  },
  {
   "cell_type": "code",
   "execution_count": 3,
   "id": "4c8e4f4d",
   "metadata": {
    "execution": {
     "iopub.execute_input": "2025-05-27T01:45:22.561323Z",
     "iopub.status.busy": "2025-05-27T01:45:22.560344Z",
     "iopub.status.idle": "2025-05-27T01:45:22.568212Z",
     "shell.execute_reply": "2025-05-27T01:45:22.566764Z"
    },
    "papermill": {
     "duration": 0.016193,
     "end_time": "2025-05-27T01:45:22.571028",
     "exception": false,
     "start_time": "2025-05-27T01:45:22.554835",
     "status": "completed"
    },
    "tags": []
   },
   "outputs": [],
   "source": [
    "# 2️⃣ STFT 함수\n",
    "def compute_stft(segment, fs=256, nperseg=256, noverlap=128):\n",
    "    f, t, Zxx = stft(segment, fs=fs, nperseg=nperseg, noverlap=noverlap)\n",
    "    # 로그 스케일 변환\n",
    "    magnitude = 10 * np.log10(np.abs(Zxx) + 1e-8)\n",
    "    return magnitude.T  # (time, freq)\n"
   ]
  },
  {
   "cell_type": "code",
   "execution_count": 4,
   "id": "82099291",
   "metadata": {
    "execution": {
     "iopub.execute_input": "2025-05-27T01:45:22.592532Z",
     "iopub.status.busy": "2025-05-27T01:45:22.591617Z",
     "iopub.status.idle": "2025-05-27T01:45:22.602159Z",
     "shell.execute_reply": "2025-05-27T01:45:22.600947Z"
    },
    "papermill": {
     "duration": 0.017212,
     "end_time": "2025-05-27T01:45:22.603724",
     "exception": false,
     "start_time": "2025-05-27T01:45:22.586512",
     "status": "completed"
    },
    "tags": []
   },
   "outputs": [],
   "source": [
    "# 3️⃣ STFT + 시퀀스 생성\n",
    "def create_sequences_stft(segments, labels, seq_len=10):\n",
    "    X, y = [], []\n",
    "    for i in range(len(segments) - seq_len + 1):\n",
    "        stft_seqs = []\n",
    "        for seg in segments[i:i+seq_len]:\n",
    "            stft_feat = compute_stft(seg)  # (time, freq)\n",
    "            stft_seqs.append(stft_feat)  # (time, freq)\n",
    "        X.append(np.stack(stft_seqs))  # (seq_len, time, freq)\n",
    "        y.append(labels[i + seq_len - 1])\n",
    "    return np.array(X), np.array(y)\n",
    "\n",
    "def merge_data(data_dict):\n",
    "    X_all, y_all = [], []\n",
    "    for X, y in data_dict.values():\n",
    "        if len(X) == 0:\n",
    "            continue\n",
    "        X_all.append(X)\n",
    "        y_all.append(y)\n",
    "    if len(X_all) == 0:\n",
    "        return np.array([]), np.array([])\n",
    "    return np.concatenate(X_all), np.concatenate(y_all)\n"
   ]
  },
  {
   "cell_type": "code",
   "execution_count": 5,
   "id": "f92522da",
   "metadata": {
    "execution": {
     "iopub.execute_input": "2025-05-27T01:45:22.618830Z",
     "iopub.status.busy": "2025-05-27T01:45:22.617614Z",
     "iopub.status.idle": "2025-05-27T01:45:22.626981Z",
     "shell.execute_reply": "2025-05-27T01:45:22.625663Z"
    },
    "papermill": {
     "duration": 0.016921,
     "end_time": "2025-05-27T01:45:22.629439",
     "exception": false,
     "start_time": "2025-05-27T01:45:22.612518",
     "status": "completed"
    },
    "tags": []
   },
   "outputs": [],
   "source": [
    "# 4️⃣ Dataset\n",
    "class SleepDataset(Dataset):\n",
    "    def __init__(self, X, y):\n",
    "        self.X = torch.tensor(X, dtype=torch.float32)\n",
    "        self.y = torch.tensor(y, dtype=torch.long)\n",
    "    def __len__(self):\n",
    "        return len(self.X)\n",
    "    def __getitem__(self, idx):\n",
    "        return self.X[idx], self.y[idx]"
   ]
  },
  {
   "cell_type": "code",
   "execution_count": 6,
   "id": "0d8f5cb5",
   "metadata": {
    "execution": {
     "iopub.execute_input": "2025-05-27T01:45:22.642734Z",
     "iopub.status.busy": "2025-05-27T01:45:22.642187Z",
     "iopub.status.idle": "2025-05-27T01:45:22.659986Z",
     "shell.execute_reply": "2025-05-27T01:45:22.658917Z"
    },
    "papermill": {
     "duration": 0.026244,
     "end_time": "2025-05-27T01:45:22.662410",
     "exception": false,
     "start_time": "2025-05-27T01:45:22.636166",
     "status": "completed"
    },
    "tags": []
   },
   "outputs": [],
   "source": [
    "# 5️⃣ 모델 정의\n",
    "class CNN_STFT_LSTM(nn.Module):\n",
    "    def __init__(self, time_bins, freq_bins, cnn_out=64, lstm_hidden=128, num_classes=4):\n",
    "        super(CNN_STFT_LSTM, self).__init__()\n",
    "        \n",
    "        # 1️⃣ CNN Feature Extractor (3단계 CNN)\n",
    "        self.cnn = nn.Sequential(\n",
    "            nn.Conv2d(1, 32, kernel_size=(3,3), stride=(1,1), padding=(1,1)),\n",
    "            nn.BatchNorm2d(32),\n",
    "            nn.ReLU(),\n",
    "            \n",
    "            nn.Conv2d(32, 64, kernel_size=(3,3), stride=(1,1), padding=(1,1)),\n",
    "            nn.BatchNorm2d(64),\n",
    "            nn.ReLU(),\n",
    "            \n",
    "            nn.Conv2d(64, cnn_out, kernel_size=(3,3), stride=(1,1), padding=(1,1)),\n",
    "            nn.BatchNorm2d(cnn_out),\n",
    "            nn.ReLU(),\n",
    "            \n",
    "            nn.AdaptiveAvgPool2d((1, 1))  # (batch*seq, channels, 1, 1)\n",
    "        )\n",
    "        \n",
    "        # 2️⃣ LSTM for Sequence Modeling\n",
    "        self.lstm = nn.LSTM(\n",
    "            input_size=cnn_out,\n",
    "            hidden_size=lstm_hidden,\n",
    "            num_layers=2,\n",
    "            batch_first=True\n",
    "        )\n",
    "        \n",
    "        # 3️⃣ Fully Connected Output Layer\n",
    "        self.fc = nn.Linear(lstm_hidden, num_classes)\n",
    "\n",
    "    def forward(self, x):\n",
    "        # x shape: (batch_size, seq_len, time_bins, freq_bins)\n",
    "        batch_size, seq_len, time_bins, freq_bins = x.shape\n",
    "        \n",
    "        # CNN 입력을 위해 채널 차원 추가 (1 채널)\n",
    "        x = x.view(batch_size * seq_len, 1, time_bins, freq_bins)  # (batch*seq, 1, time, freq)\n",
    "        \n",
    "        # CNN 처리\n",
    "        x = self.cnn(x)  # (batch*seq, cnn_out, 1, 1)\n",
    "        x = x.view(batch_size, seq_len, -1)  # (batch, seq_len, cnn_out)\n",
    "        \n",
    "        # LSTM 처리\n",
    "        out, _ = self.lstm(x)  # (batch, seq_len, lstm_hidden)\n",
    "        \n",
    "        # 마지막 시퀀스의 출력만 사용\n",
    "        out = out[:, -1, :]  # (batch, lstm_hidden)\n",
    "        \n",
    "        # 최종 분류\n",
    "        return self.fc(out)\n"
   ]
  },
  {
   "cell_type": "code",
   "execution_count": 7,
   "id": "5b14116b",
   "metadata": {
    "execution": {
     "iopub.execute_input": "2025-05-27T01:45:22.675945Z",
     "iopub.status.busy": "2025-05-27T01:45:22.675187Z",
     "iopub.status.idle": "2025-05-27T01:45:22.696631Z",
     "shell.execute_reply": "2025-05-27T01:45:22.695454Z"
    },
    "papermill": {
     "duration": 0.029116,
     "end_time": "2025-05-27T01:45:22.698468",
     "exception": false,
     "start_time": "2025-05-27T01:45:22.669352",
     "status": "completed"
    },
    "tags": []
   },
   "outputs": [],
   "source": [
    "# 4️⃣ 학습 및 평가 함수\n",
    "def train_model(model, train_loader, val_loader, epochs=50, lr=0.00001, device='cuda'):\n",
    "    model.to(device)\n",
    "    optimizer = torch.optim.Adam(model.parameters(), lr=lr)\n",
    "    criterion = nn.CrossEntropyLoss()\n",
    "\n",
    "    train_losses, val_losses = [], []\n",
    "\n",
    "    for epoch in range(epochs):\n",
    "        # Train\n",
    "        model.train()\n",
    "        total_loss, correct, total = 0, 0, 0\n",
    "        for X_batch, y_batch in train_loader:\n",
    "            X_batch, y_batch = X_batch.to(device), y_batch.to(device)\n",
    "            optimizer.zero_grad()\n",
    "            outputs = model(X_batch)\n",
    "            loss = criterion(outputs, y_batch)\n",
    "            loss.backward()\n",
    "            optimizer.step()\n",
    "            total_loss += loss.item()\n",
    "            correct += (outputs.argmax(1) == y_batch).sum().item()\n",
    "            total += y_batch.size(0)\n",
    "        avg_train_loss = total_loss / len(train_loader)\n",
    "        train_acc = correct / total if total > 0 else 0\n",
    "        train_losses.append(avg_train_loss)\n",
    "\n",
    "        # Validation\n",
    "        model.eval()\n",
    "        total_val_loss = 0\n",
    "        with torch.no_grad():\n",
    "            for X_batch, y_batch in val_loader:\n",
    "                X_batch, y_batch = X_batch.to(device), y_batch.to(device)\n",
    "                outputs = model(X_batch)\n",
    "                loss = criterion(outputs, y_batch)\n",
    "                total_val_loss += loss.item()\n",
    "        avg_val_loss = total_val_loss / len(val_loader)\n",
    "        val_losses.append(avg_val_loss)\n",
    "\n",
    "        print(f\"Epoch [{epoch+1}/{epochs}] Train Loss: {avg_train_loss:.4f} Acc: {train_acc:.4f} | Val Loss: {avg_val_loss:.4f}\")\n",
    "\n",
    "    return train_losses, val_losses\n",
    "\n",
    "def evaluate_model(model, loader, device='cuda'):\n",
    "    model = model.to(device)\n",
    "    model.eval()\n",
    "    all_preds, all_labels = [], []\n",
    "    with torch.no_grad():\n",
    "        for X_batch, y_batch in loader:\n",
    "            X_batch = X_batch.to(device)\n",
    "            outputs = model(X_batch)\n",
    "            preds = outputs.argmax(1).cpu().numpy()\n",
    "            all_preds.extend(preds)\n",
    "            all_labels.extend(y_batch.numpy())\n",
    "\n",
    "    print(classification_report(all_labels, all_preds, labels=[0,1,2,3], target_names=[\"W\", \"N1/2\", \"N3\", \"R\"], zero_division=0))\n",
    "    cm = confusion_matrix(all_labels, all_preds, labels=[0,1,2,3])\n",
    "    disp = ConfusionMatrixDisplay(confusion_matrix=cm, display_labels=[\"W\", \"N1/2\", \"N3\", \"R\"])\n",
    "    disp.plot(cmap=\"Blues\", values_format=\"d\")\n",
    "    plt.title(\"Confusion Matrix\")\n",
    "    plt.show()\n"
   ]
  },
  {
   "cell_type": "code",
   "execution_count": 8,
   "id": "b0bff446",
   "metadata": {
    "execution": {
     "iopub.execute_input": "2025-05-27T01:45:22.708841Z",
     "iopub.status.busy": "2025-05-27T01:45:22.708442Z",
     "iopub.status.idle": "2025-05-27T01:57:41.174524Z",
     "shell.execute_reply": "2025-05-27T01:57:41.168653Z"
    },
    "papermill": {
     "duration": 738.500305,
     "end_time": "2025-05-27T01:57:41.203938",
     "exception": false,
     "start_time": "2025-05-27T01:45:22.703633",
     "status": "completed"
    },
    "tags": []
   },
   "outputs": [
    {
     "name": "stdout",
     "output_type": "stream",
     "text": [
      "❌ 파일 없음: SN014\n"
     ]
    },
    {
     "name": "stdout",
     "output_type": "stream",
     "text": [
      "❌ 파일 없음: SN064\n"
     ]
    },
    {
     "name": "stdout",
     "output_type": "stream",
     "text": [
      "❌ 파일 없음: SN135\n"
     ]
    },
    {
     "name": "stdout",
     "output_type": "stream",
     "text": [
      "✅ Train shape: (81795, 10, 61, 129), time=61, freq=129\n"
     ]
    }
   ],
   "source": [
    "# 5️⃣ 데이터 처리 및 학습\n",
    "train_X, train_y = [], []\n",
    "val_data, test_data = {}, {}\n",
    "\n",
    "for i in range(1, 155):\n",
    "    segments, labels = load_ecg_and_labels(i, root_dir)\n",
    "    if segments is not None and len(segments) > 0:\n",
    "        X_seq, y_seq = create_sequences_stft(segments, labels, seq_len)\n",
    "        if len(X_seq) == 0:\n",
    "            continue\n",
    "        if 1 <= i <= 93:\n",
    "            train_X.append(X_seq)\n",
    "            train_y.append(y_seq)\n",
    "        elif 94 <= i <= 123:\n",
    "            val_data[f\"SN{i:03d}\"] = (X_seq, y_seq)\n",
    "        else:\n",
    "            test_data[f\"SN{i:03d}\"] = (X_seq, y_seq)\n",
    "\n",
    "train_X = np.concatenate(train_X)\n",
    "train_y = np.concatenate(train_y)\n",
    "\n",
    "val_X, val_y = [], []\n",
    "for X, y in val_data.values():\n",
    "    val_X.append(X)\n",
    "    val_y.append(y)\n",
    "val_X = np.concatenate(val_X)\n",
    "val_y = np.concatenate(val_y)\n",
    "\n",
    "time_bins, freq_bins = train_X.shape[2], train_X.shape[3]\n",
    "print(f\"✅ Train shape: {train_X.shape}, time={time_bins}, freq={freq_bins}\")"
   ]
  },
  {
   "cell_type": "code",
   "execution_count": 9,
   "id": "e7d2d63d",
   "metadata": {
    "execution": {
     "iopub.execute_input": "2025-05-27T01:57:41.244458Z",
     "iopub.status.busy": "2025-05-27T01:57:41.243753Z",
     "iopub.status.idle": "2025-05-27T21:05:37.153433Z",
     "shell.execute_reply": "2025-05-27T21:05:37.151853Z"
    },
    "papermill": {
     "duration": 68875.941418,
     "end_time": "2025-05-27T21:05:37.171929",
     "exception": false,
     "start_time": "2025-05-27T01:57:41.230511",
     "status": "completed"
    },
    "tags": []
   },
   "outputs": [
    {
     "name": "stdout",
     "output_type": "stream",
     "text": [
      "Epoch [1/50] Train Loss: 1.2332 Acc: 0.4868 | Val Loss: 1.2472\n"
     ]
    },
    {
     "name": "stdout",
     "output_type": "stream",
     "text": [
      "Epoch [2/50] Train Loss: 1.1884 Acc: 0.5020 | Val Loss: 1.2340\n"
     ]
    },
    {
     "name": "stdout",
     "output_type": "stream",
     "text": [
      "Epoch [3/50] Train Loss: 1.1672 Acc: 0.5065 | Val Loss: 1.2312\n"
     ]
    },
    {
     "name": "stdout",
     "output_type": "stream",
     "text": [
      "Epoch [4/50] Train Loss: 1.1524 Acc: 0.5106 | Val Loss: 1.2199\n"
     ]
    },
    {
     "name": "stdout",
     "output_type": "stream",
     "text": [
      "Epoch [5/50] Train Loss: 1.1371 Acc: 0.5136 | Val Loss: 1.2087\n"
     ]
    },
    {
     "name": "stdout",
     "output_type": "stream",
     "text": [
      "Epoch [6/50] Train Loss: 1.1240 Acc: 0.5174 | Val Loss: 1.2197\n"
     ]
    },
    {
     "name": "stdout",
     "output_type": "stream",
     "text": [
      "Epoch [7/50] Train Loss: 1.1105 Acc: 0.5204 | Val Loss: 1.2046\n"
     ]
    },
    {
     "name": "stdout",
     "output_type": "stream",
     "text": [
      "Epoch [8/50] Train Loss: 1.0998 Acc: 0.5246 | Val Loss: 1.2117\n"
     ]
    },
    {
     "name": "stdout",
     "output_type": "stream",
     "text": [
      "Epoch [9/50] Train Loss: 1.0899 Acc: 0.5292 | Val Loss: 1.2078\n"
     ]
    },
    {
     "name": "stdout",
     "output_type": "stream",
     "text": [
      "Epoch [10/50] Train Loss: 1.0798 Acc: 0.5322 | Val Loss: 1.1905\n"
     ]
    },
    {
     "name": "stdout",
     "output_type": "stream",
     "text": [
      "Epoch [11/50] Train Loss: 1.0718 Acc: 0.5351 | Val Loss: 1.1982\n"
     ]
    },
    {
     "name": "stdout",
     "output_type": "stream",
     "text": [
      "Epoch [12/50] Train Loss: 1.0633 Acc: 0.5377 | Val Loss: 1.2182\n"
     ]
    },
    {
     "name": "stdout",
     "output_type": "stream",
     "text": [
      "Epoch [13/50] Train Loss: 1.0561 Acc: 0.5391 | Val Loss: 1.1873\n"
     ]
    },
    {
     "name": "stdout",
     "output_type": "stream",
     "text": [
      "Epoch [14/50] Train Loss: 1.0499 Acc: 0.5422 | Val Loss: 1.2055\n"
     ]
    },
    {
     "name": "stdout",
     "output_type": "stream",
     "text": [
      "Epoch [15/50] Train Loss: 1.0440 Acc: 0.5439 | Val Loss: 1.3044\n"
     ]
    },
    {
     "name": "stdout",
     "output_type": "stream",
     "text": [
      "Epoch [16/50] Train Loss: 1.0368 Acc: 0.5460 | Val Loss: 1.2331\n"
     ]
    },
    {
     "name": "stdout",
     "output_type": "stream",
     "text": [
      "Epoch [17/50] Train Loss: 1.0311 Acc: 0.5476 | Val Loss: 1.2005\n"
     ]
    },
    {
     "name": "stdout",
     "output_type": "stream",
     "text": [
      "Epoch [18/50] Train Loss: 1.0255 Acc: 0.5499 | Val Loss: 1.2229\n"
     ]
    },
    {
     "name": "stdout",
     "output_type": "stream",
     "text": [
      "Epoch [19/50] Train Loss: 1.0194 Acc: 0.5524 | Val Loss: 1.1962\n"
     ]
    },
    {
     "name": "stdout",
     "output_type": "stream",
     "text": [
      "Epoch [20/50] Train Loss: 1.0154 Acc: 0.5552 | Val Loss: 1.2201\n"
     ]
    },
    {
     "name": "stdout",
     "output_type": "stream",
     "text": [
      "Epoch [21/50] Train Loss: 1.0109 Acc: 0.5572 | Val Loss: 1.2462\n"
     ]
    },
    {
     "name": "stdout",
     "output_type": "stream",
     "text": [
      "Epoch [22/50] Train Loss: 1.0059 Acc: 0.5574 | Val Loss: 1.2074\n"
     ]
    },
    {
     "name": "stdout",
     "output_type": "stream",
     "text": [
      "Epoch [23/50] Train Loss: 0.9986 Acc: 0.5626 | Val Loss: 1.2070\n"
     ]
    },
    {
     "name": "stdout",
     "output_type": "stream",
     "text": [
      "Epoch [24/50] Train Loss: 0.9964 Acc: 0.5610 | Val Loss: 1.2168\n"
     ]
    },
    {
     "name": "stdout",
     "output_type": "stream",
     "text": [
      "Epoch [25/50] Train Loss: 0.9922 Acc: 0.5642 | Val Loss: 1.2947\n"
     ]
    },
    {
     "name": "stdout",
     "output_type": "stream",
     "text": [
      "Epoch [26/50] Train Loss: 0.9869 Acc: 0.5655 | Val Loss: 1.2080\n"
     ]
    },
    {
     "name": "stdout",
     "output_type": "stream",
     "text": [
      "Epoch [27/50] Train Loss: 0.9853 Acc: 0.5651 | Val Loss: 1.2689\n"
     ]
    },
    {
     "name": "stdout",
     "output_type": "stream",
     "text": [
      "Epoch [28/50] Train Loss: 0.9802 Acc: 0.5686 | Val Loss: 1.2641\n"
     ]
    },
    {
     "name": "stdout",
     "output_type": "stream",
     "text": [
      "Epoch [29/50] Train Loss: 0.9755 Acc: 0.5677 | Val Loss: 1.2330\n"
     ]
    },
    {
     "name": "stdout",
     "output_type": "stream",
     "text": [
      "Epoch [30/50] Train Loss: 0.9736 Acc: 0.5694 | Val Loss: 1.2105\n"
     ]
    },
    {
     "name": "stdout",
     "output_type": "stream",
     "text": [
      "Epoch [31/50] Train Loss: 0.9697 Acc: 0.5717 | Val Loss: 1.2434\n"
     ]
    },
    {
     "name": "stdout",
     "output_type": "stream",
     "text": [
      "Epoch [32/50] Train Loss: 0.9658 Acc: 0.5732 | Val Loss: 1.2648\n"
     ]
    },
    {
     "name": "stdout",
     "output_type": "stream",
     "text": [
      "Epoch [33/50] Train Loss: 0.9639 Acc: 0.5737 | Val Loss: 1.2374\n"
     ]
    },
    {
     "name": "stdout",
     "output_type": "stream",
     "text": [
      "Epoch [34/50] Train Loss: 0.9591 Acc: 0.5755 | Val Loss: 1.2482\n"
     ]
    },
    {
     "name": "stdout",
     "output_type": "stream",
     "text": [
      "Epoch [35/50] Train Loss: 0.9569 Acc: 0.5757 | Val Loss: 1.3808\n"
     ]
    },
    {
     "name": "stdout",
     "output_type": "stream",
     "text": [
      "Epoch [36/50] Train Loss: 0.9554 Acc: 0.5755 | Val Loss: 1.2424\n"
     ]
    },
    {
     "name": "stdout",
     "output_type": "stream",
     "text": [
      "Epoch [37/50] Train Loss: 0.9510 Acc: 0.5780 | Val Loss: 1.3615\n"
     ]
    },
    {
     "name": "stdout",
     "output_type": "stream",
     "text": [
      "Epoch [38/50] Train Loss: 0.9492 Acc: 0.5790 | Val Loss: 1.2274\n"
     ]
    },
    {
     "name": "stdout",
     "output_type": "stream",
     "text": [
      "Epoch [39/50] Train Loss: 0.9466 Acc: 0.5804 | Val Loss: 1.2271\n"
     ]
    },
    {
     "name": "stdout",
     "output_type": "stream",
     "text": [
      "Epoch [40/50] Train Loss: 0.9439 Acc: 0.5814 | Val Loss: 1.2470\n"
     ]
    },
    {
     "name": "stdout",
     "output_type": "stream",
     "text": [
      "Epoch [41/50] Train Loss: 0.9400 Acc: 0.5838 | Val Loss: 1.2647\n"
     ]
    },
    {
     "name": "stdout",
     "output_type": "stream",
     "text": [
      "Epoch [42/50] Train Loss: 0.9357 Acc: 0.5867 | Val Loss: 1.2647\n"
     ]
    },
    {
     "name": "stdout",
     "output_type": "stream",
     "text": [
      "Epoch [43/50] Train Loss: 0.9355 Acc: 0.5843 | Val Loss: 1.2876\n"
     ]
    },
    {
     "name": "stdout",
     "output_type": "stream",
     "text": [
      "Epoch [44/50] Train Loss: 0.9333 Acc: 0.5850 | Val Loss: 1.2528\n"
     ]
    },
    {
     "name": "stdout",
     "output_type": "stream",
     "text": [
      "Epoch [45/50] Train Loss: 0.9301 Acc: 0.5884 | Val Loss: 1.2634\n"
     ]
    },
    {
     "name": "stdout",
     "output_type": "stream",
     "text": [
      "Epoch [46/50] Train Loss: 0.9263 Acc: 0.5894 | Val Loss: 1.2840\n"
     ]
    },
    {
     "name": "stdout",
     "output_type": "stream",
     "text": [
      "Epoch [47/50] Train Loss: 0.9240 Acc: 0.5909 | Val Loss: 1.2643\n"
     ]
    },
    {
     "name": "stdout",
     "output_type": "stream",
     "text": [
      "Epoch [48/50] Train Loss: 0.9236 Acc: 0.5884 | Val Loss: 1.2746\n"
     ]
    },
    {
     "name": "stdout",
     "output_type": "stream",
     "text": [
      "Epoch [49/50] Train Loss: 0.9208 Acc: 0.5905 | Val Loss: 1.2534\n"
     ]
    },
    {
     "name": "stdout",
     "output_type": "stream",
     "text": [
      "Epoch [50/50] Train Loss: 0.9185 Acc: 0.5928 | Val Loss: 1.3045\n"
     ]
    }
   ],
   "source": [
    "train_loader = DataLoader(SleepDataset(train_X, train_y), batch_size=batch_size, shuffle=True)\n",
    "val_loader = DataLoader(SleepDataset(val_X, val_y), batch_size=batch_size, shuffle=False)\n",
    "\n",
    "model = CNN_STFT_LSTM(time_bins, freq_bins)\n",
    "\n",
    "train_losses, val_losses = train_model(model, train_loader, val_loader, epochs=epochs, lr=learning_rate, device='cuda')\n"
   ]
  },
  {
   "cell_type": "code",
   "execution_count": 10,
   "id": "0720d8d0",
   "metadata": {
    "execution": {
     "iopub.execute_input": "2025-05-27T21:05:37.206479Z",
     "iopub.status.busy": "2025-05-27T21:05:37.205228Z",
     "iopub.status.idle": "2025-05-27T21:05:38.124180Z",
     "shell.execute_reply": "2025-05-27T21:05:38.123338Z"
    },
    "papermill": {
     "duration": 0.931512,
     "end_time": "2025-05-27T21:05:38.127902",
     "exception": false,
     "start_time": "2025-05-27T21:05:37.196390",
     "status": "completed"
    },
    "tags": []
   },
   "outputs": [
    {
     "data": {
      "image/png": "[encoded data removed]",
      "text/plain": [
       "<Figure size 800x600 with 1 Axes>"
      ]
     },
     "metadata": {},
     "output_type": "display_data"
    }
   ],
   "source": [
    "# Loss 그래프 출력\n",
    "plt.figure(figsize=(8,6))\n",
    "plt.plot(range(1, len(train_losses)+1), train_losses, label='Train Loss', color='blue')\n",
    "plt.plot(range(1, len(val_losses)+1), val_losses, label='Validation Loss', color='orange')\n",
    "plt.xlabel('Epoch')\n",
    "plt.ylabel('Loss')\n",
    "plt.title('Training and Validation Loss over Epochs')\n",
    "plt.legend()\n",
    "plt.grid(True)\n",
    "plt.show()"
   ]
  },
  {
   "cell_type": "code",
   "execution_count": 11,
   "id": "84e849f3",
   "metadata": {
    "execution": {
     "iopub.execute_input": "2025-05-27T21:05:38.142704Z",
     "iopub.status.busy": "2025-05-27T21:05:38.142254Z",
     "iopub.status.idle": "2025-05-27T21:11:31.444313Z",
     "shell.execute_reply": "2025-05-27T21:11:31.442568Z"
    },
    "papermill": {
     "duration": 353.311652,
     "end_time": "2025-05-27T21:11:31.447340",
     "exception": false,
     "start_time": "2025-05-27T21:05:38.135688",
     "status": "completed"
    },
    "tags": []
   },
   "outputs": [
    {
     "name": "stdout",
     "output_type": "stream",
     "text": [
      "\n",
      "📊 Validation (전체) 평가\n"
     ]
    },
    {
     "name": "stdout",
     "output_type": "stream",
     "text": [
      "              precision    recall  f1-score   support\n",
      "\n",
      "           W       0.43      0.58      0.49      4851\n",
      "        N1/2       0.49      0.68      0.57     11507\n",
      "          N3       0.36      0.13      0.20      5008\n",
      "           R       0.18      0.03      0.04      3633\n",
      "\n",
      "    accuracy                           0.46     24999\n",
      "   macro avg       0.37      0.36      0.33     24999\n",
      "weighted avg       0.41      0.46      0.40     24999\n",
      "\n"
     ]
    },
    {
     "data": {
      "image/png": "[encoded data removed]",
      "text/plain": [
       "<Figure size 640x480 with 2 Axes>"
      ]
     },
     "metadata": {},
     "output_type": "display_data"
    },
    {
     "name": "stdout",
     "output_type": "stream",
     "text": [
      "\n",
      "📊 Test (전체) 평가\n"
     ]
    },
    {
     "name": "stdout",
     "output_type": "stream",
     "text": [
      "              precision    recall  f1-score   support\n",
      "\n",
      "           W       0.47      0.63      0.53      4228\n",
      "        N1/2       0.52      0.72      0.60     13288\n",
      "          N3       0.44      0.25      0.32      5803\n",
      "           R       0.33      0.03      0.06      4280\n",
      "\n",
      "    accuracy                           0.50     27599\n",
      "   macro avg       0.44      0.41      0.38     27599\n",
      "weighted avg       0.47      0.50      0.45     27599\n",
      "\n"
     ]
    },
    {
     "data": {
      "image/png": "[encoded data removed]",
      "text/plain": [
       "<Figure size 640x480 with 2 Axes>"
      ]
     },
     "metadata": {},
     "output_type": "display_data"
    }
   ],
   "source": [
    "# 9️⃣ 전체 평가\n",
    "X_val_all, y_val_all = merge_data(val_data)\n",
    "if len(X_val_all) > 0:\n",
    "    print(\"\\n📊 Validation (전체) 평가\")\n",
    "    evaluate_model(model, DataLoader(SleepDataset(X_val_all, y_val_all), batch_size=batch_size, shuffle=False))\n",
    "\n",
    "X_test_all, y_test_all = merge_data(test_data)\n",
    "if len(X_test_all) > 0:\n",
    "    print(\"\\n📊 Test (전체) 평가\")\n",
    "    evaluate_model(model, DataLoader(SleepDataset(X_test_all, y_test_all), batch_size=batch_size, shuffle=False))"
   ]
  }
 ],
 "metadata": {
  "kernelspec": {
   "display_name": "Python 3",
   "language": "python",
   "name": "python3"
  },
  "language_info": {
   "codemirror_mode": {
    "name": "ipython",
    "version": 3
   },
   "file_extension": ".py",
   "mimetype": "text/x-python",
   "name": "python",
   "nbconvert_exporter": "python",
   "pygments_lexer": "ipython3",
   "version": "3.10.12"
  },
  "papermill": {
   "default_parameters": {},
   "duration": 69976.799688,
   "end_time": "2025-05-27T21:11:35.622819",
   "environment_variables": {},
   "exception": null,
   "input_path": "CNN_LSTM_STFT_Log3.ipynb",
   "output_path": "output_CNN_LSTM_STFT_Log3.ipynb",
   "parameters": {},
   "start_time": "2025-05-27T01:45:18.823131",
   "version": "2.6.0"
  }
 },
 "nbformat": 4,
 "nbformat_minor": 5
}
