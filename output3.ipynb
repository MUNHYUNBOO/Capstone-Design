{
 "cells": [
  {
   "cell_type": "code",
   "execution_count": 1,
   "id": "3aada3b7",
   "metadata": {
    "execution": {
     "iopub.execute_input": "2025-05-21T13:09:49.633659Z",
     "iopub.status.busy": "2025-05-21T13:09:49.632915Z",
     "iopub.status.idle": "2025-05-21T13:09:53.328978Z",
     "shell.execute_reply": "2025-05-21T13:09:53.327961Z"
    },
    "papermill": {
     "duration": 3.703975,
     "end_time": "2025-05-21T13:09:53.331738",
     "exception": false,
     "start_time": "2025-05-21T13:09:49.627763",
     "status": "completed"
    },
    "tags": []
   },
   "outputs": [],
   "source": [
    "import os\n",
    "import numpy as np\n",
    "import torch\n",
    "import pyedflib\n",
    "import matplotlib.pyplot as plt\n",
    "import seaborn as sns\n",
    "from torch.utils.data import TensorDataset, DataLoader\n",
    "from sklearn.metrics import confusion_matrix, classification_report\n",
    "import torch.nn as nn\n",
    "import torch.nn.functional as F\n",
    "\n",
    "# 고정 설정\n",
    "sampling_rate = 256\n",
    "segment_length = 30 * sampling_rate\n",
    "label_map = {\n",
    "    'Sleep stage W': 0,\n",
    "    'Sleep stage N1': 1,\n",
    "    'Sleep stage N2': 1,\n",
    "    'Sleep stage N3': 2,\n",
    "    'Sleep stage R': 3\n",
    "}\n",
    "root_dir = \"/home/mhb0917/캡스톤디자인/sleep/recordings\"\n"
   ]
  },
  {
   "cell_type": "code",
   "execution_count": 2,
   "id": "ce987686",
   "metadata": {
    "execution": {
     "iopub.execute_input": "2025-05-21T13:09:53.344787Z",
     "iopub.status.busy": "2025-05-21T13:09:53.344260Z",
     "iopub.status.idle": "2025-05-21T13:09:53.355966Z",
     "shell.execute_reply": "2025-05-21T13:09:53.354971Z"
    },
    "papermill": {
     "duration": 0.019854,
     "end_time": "2025-05-21T13:09:53.358185",
     "exception": false,
     "start_time": "2025-05-21T13:09:53.338331",
     "status": "completed"
    },
    "tags": []
   },
   "outputs": [],
   "source": [
    "def load_data_from_sn(sn_list):\n",
    "    all_segments = []\n",
    "    all_labels = []\n",
    "\n",
    "    for sn in sn_list:\n",
    "        base = f\"SN{sn:03d}\"\n",
    "        ecg_path = os.path.join(root_dir, f\"{base}.edf\")\n",
    "        label_path = os.path.join(root_dir, f\"{base}_sleepscoring.edf\")\n",
    "\n",
    "        if not os.path.exists(ecg_path) or not os.path.exists(label_path):\n",
    "            print(f\"❌ 파일 없음: {base}\")\n",
    "            continue\n",
    "\n",
    "        try:\n",
    "            ecg_reader = pyedflib.EdfReader(ecg_path)\n",
    "            ecg_signal = ecg_reader.readSignal(7)\n",
    "        finally:\n",
    "            ecg_reader._close()\n",
    "\n",
    "        try:\n",
    "            label_reader = pyedflib.EdfReader(label_path)\n",
    "            annotations = label_reader.readAnnotations()\n",
    "        finally:\n",
    "            label_reader._close()\n",
    "\n",
    "        onsets, durations, labels = annotations\n",
    "        label_seq = []\n",
    "        for i in range(len(labels)):\n",
    "            label_str = labels[i].decode() if isinstance(labels[i], bytes) else labels[i]\n",
    "            if label_str in label_map:\n",
    "                label_index = label_map[label_str]\n",
    "                num_segments = int(durations[i] // 30)\n",
    "                label_seq.extend([label_index] * num_segments)\n",
    "\n",
    "        max_segments = len(ecg_signal) // segment_length\n",
    "        num_segments = min(len(label_seq), max_segments)\n",
    "\n",
    "        for i in range(num_segments):\n",
    "            start = i * segment_length\n",
    "            end = start + segment_length\n",
    "            segment = ecg_signal[start:end]\n",
    "            all_segments.append(segment)\n",
    "            all_labels.append(label_seq[i])\n",
    "\n",
    "    X = torch.tensor(np.array(all_segments), dtype=torch.float32).unsqueeze(1)\n",
    "    y = torch.tensor(all_labels, dtype=torch.long)\n",
    "    return X, y\n"
   ]
  },
  {
   "cell_type": "code",
   "execution_count": 3,
   "id": "c4ec1914",
   "metadata": {
    "execution": {
     "iopub.execute_input": "2025-05-21T13:09:53.371619Z",
     "iopub.status.busy": "2025-05-21T13:09:53.370930Z",
     "iopub.status.idle": "2025-05-21T13:09:53.387841Z",
     "shell.execute_reply": "2025-05-21T13:09:53.386788Z"
    },
    "papermill": {
     "duration": 0.025769,
     "end_time": "2025-05-21T13:09:53.389811",
     "exception": false,
     "start_time": "2025-05-21T13:09:53.364042",
     "status": "completed"
    },
    "tags": []
   },
   "outputs": [],
   "source": [
    "from collections import Counter\n",
    "import numpy as np\n",
    "import torch\n",
    "\n",
    "def load_balanced_data_from_sn(sn_list):\n",
    "    all_segments = []\n",
    "    all_labels = []\n",
    "\n",
    "    for sn in sn_list:\n",
    "        try:\n",
    "            X, y = load_data_from_sn([sn])  # SN 하나만 불러옴\n",
    "        except Exception as e:\n",
    "            print(f\"❌ SN{sn:03d} 불러오기 실패: {e}\")\n",
    "            continue\n",
    "\n",
    "        if len(y) == 0:\n",
    "            print(f\"⚠️ SN{sn:03d}: 라벨 없음 → 건너뜀\")\n",
    "            continue\n",
    "\n",
    "        y_np = y.numpy()\n",
    "        X_np = X.numpy()\n",
    "\n",
    "        label_counts = Counter(y_np)\n",
    "        if len(label_counts) < 2:\n",
    "            print(f\"⚠️ SN{sn:03d}: 라벨 다양성 부족 → 건너뜀\")\n",
    "            continue\n",
    "\n",
    "        min_count = min(label_counts.values())\n",
    "        indices = []\n",
    "\n",
    "        for label in sorted(label_counts.keys()):\n",
    "            label_indices = np.where(y_np == label)[0]\n",
    "            if len(label_indices) < min_count:\n",
    "                continue\n",
    "            sampled = np.random.choice(label_indices, min_count, replace=False)\n",
    "            indices.extend(sampled)\n",
    "\n",
    "        if not indices:\n",
    "            print(f\"⚠️ SN{sn:03d}: 유효한 샘플 없음 → 건너뜀\")\n",
    "            continue\n",
    "\n",
    "        np.random.shuffle(indices)\n",
    "        all_segments.append(X_np[indices])\n",
    "        all_labels.append(y_np[indices])\n",
    "\n",
    "        print(f\"✅ SN{sn:03d} 처리 완료: 클래스당 {min_count}개\")\n",
    "\n",
    "    if not all_segments:\n",
    "        raise ValueError(\"⚠️ 유효한 데이터가 없습니다. SN 목록을 다시 확인하세요.\")\n",
    "\n",
    "    X_all = torch.tensor(np.concatenate(all_segments), dtype=torch.float32)\n",
    "    y_all = torch.tensor(np.concatenate(all_labels), dtype=torch.long)\n",
    "    return X_all, y_all\n"
   ]
  },
  {
   "cell_type": "code",
   "execution_count": 4,
   "id": "55fee5f6",
   "metadata": {
    "execution": {
     "iopub.execute_input": "2025-05-21T13:09:53.402120Z",
     "iopub.status.busy": "2025-05-21T13:09:53.401064Z",
     "iopub.status.idle": "2025-05-21T13:10:49.079221Z",
     "shell.execute_reply": "2025-05-21T13:10:49.077425Z"
    },
    "papermill": {
     "duration": 55.68821,
     "end_time": "2025-05-21T13:10:49.083055",
     "exception": false,
     "start_time": "2025-05-21T13:09:53.394845",
     "status": "completed"
    },
    "tags": []
   },
   "outputs": [
    {
     "name": "stdout",
     "output_type": "stream",
     "text": [
      "✅ SN001 처리 완료: 클래스당 23개\n"
     ]
    },
    {
     "name": "stdout",
     "output_type": "stream",
     "text": [
      "✅ SN002 처리 완료: 클래스당 82개\n"
     ]
    },
    {
     "name": "stdout",
     "output_type": "stream",
     "text": [
      "✅ SN003 처리 완료: 클래스당 150개\n"
     ]
    },
    {
     "name": "stdout",
     "output_type": "stream",
     "text": [
      "✅ SN004 처리 완료: 클래스당 64개\n"
     ]
    },
    {
     "name": "stdout",
     "output_type": "stream",
     "text": [
      "✅ SN005 처리 완료: 클래스당 127개\n"
     ]
    },
    {
     "name": "stdout",
     "output_type": "stream",
     "text": [
      "✅ SN006 처리 완료: 클래스당 65개\n"
     ]
    },
    {
     "name": "stdout",
     "output_type": "stream",
     "text": [
      "✅ SN007 처리 완료: 클래스당 67개\n"
     ]
    },
    {
     "name": "stdout",
     "output_type": "stream",
     "text": [
      "✅ SN008 처리 완료: 클래스당 39개\n"
     ]
    },
    {
     "name": "stdout",
     "output_type": "stream",
     "text": [
      "✅ SN009 처리 완료: 클래스당 91개\n"
     ]
    },
    {
     "name": "stdout",
     "output_type": "stream",
     "text": [
      "✅ SN010 처리 완료: 클래스당 101개\n"
     ]
    },
    {
     "name": "stdout",
     "output_type": "stream",
     "text": [
      "✅ SN011 처리 완료: 클래스당 37개\n"
     ]
    },
    {
     "name": "stdout",
     "output_type": "stream",
     "text": [
      "✅ SN012 처리 완료: 클래스당 184개\n"
     ]
    },
    {
     "name": "stdout",
     "output_type": "stream",
     "text": [
      "✅ SN013 처리 완료: 클래스당 65개\n",
      "❌ 파일 없음: SN014\n",
      "⚠️ SN014: 라벨 없음 → 건너뜀\n"
     ]
    },
    {
     "name": "stdout",
     "output_type": "stream",
     "text": [
      "✅ SN015 처리 완료: 클래스당 102개\n"
     ]
    },
    {
     "name": "stdout",
     "output_type": "stream",
     "text": [
      "✅ SN016 처리 완료: 클래스당 24개\n"
     ]
    },
    {
     "name": "stdout",
     "output_type": "stream",
     "text": [
      "✅ SN017 처리 완료: 클래스당 96개\n"
     ]
    },
    {
     "name": "stdout",
     "output_type": "stream",
     "text": [
      "✅ SN018 처리 완료: 클래스당 19개\n"
     ]
    },
    {
     "name": "stdout",
     "output_type": "stream",
     "text": [
      "✅ SN019 처리 완료: 클래스당 72개\n"
     ]
    },
    {
     "name": "stdout",
     "output_type": "stream",
     "text": [
      "✅ SN020 처리 완료: 클래스당 67개\n"
     ]
    },
    {
     "name": "stdout",
     "output_type": "stream",
     "text": [
      "✅ SN021 처리 완료: 클래스당 156개\n"
     ]
    },
    {
     "name": "stdout",
     "output_type": "stream",
     "text": [
      "✅ SN022 처리 완료: 클래스당 115개\n"
     ]
    },
    {
     "name": "stdout",
     "output_type": "stream",
     "text": [
      "✅ SN023 처리 완료: 클래스당 74개\n"
     ]
    },
    {
     "name": "stdout",
     "output_type": "stream",
     "text": [
      "✅ SN024 처리 완료: 클래스당 70개\n"
     ]
    },
    {
     "name": "stdout",
     "output_type": "stream",
     "text": [
      "✅ SN025 처리 완료: 클래스당 106개\n"
     ]
    },
    {
     "name": "stdout",
     "output_type": "stream",
     "text": [
      "✅ SN026 처리 완료: 클래스당 127개\n"
     ]
    },
    {
     "name": "stdout",
     "output_type": "stream",
     "text": [
      "✅ SN027 처리 완료: 클래스당 19개\n"
     ]
    },
    {
     "name": "stdout",
     "output_type": "stream",
     "text": [
      "✅ SN028 처리 완료: 클래스당 136개\n"
     ]
    },
    {
     "name": "stdout",
     "output_type": "stream",
     "text": [
      "✅ SN029 처리 완료: 클래스당 59개\n"
     ]
    },
    {
     "name": "stdout",
     "output_type": "stream",
     "text": [
      "✅ SN030 처리 완료: 클래스당 108개\n"
     ]
    },
    {
     "name": "stdout",
     "output_type": "stream",
     "text": [
      "✅ SN031 처리 완료: 클래스당 74개\n"
     ]
    },
    {
     "name": "stdout",
     "output_type": "stream",
     "text": [
      "✅ SN032 처리 완료: 클래스당 133개\n",
      "✅ SN033 처리 완료: 클래스당 47개\n"
     ]
    },
    {
     "name": "stdout",
     "output_type": "stream",
     "text": [
      "✅ SN034 처리 완료: 클래스당 75개\n"
     ]
    },
    {
     "name": "stdout",
     "output_type": "stream",
     "text": [
      "✅ SN035 처리 완료: 클래스당 108개\n"
     ]
    },
    {
     "name": "stdout",
     "output_type": "stream",
     "text": [
      "✅ SN036 처리 완료: 클래스당 87개\n"
     ]
    },
    {
     "name": "stdout",
     "output_type": "stream",
     "text": [
      "✅ SN037 처리 완료: 클래스당 65개\n"
     ]
    },
    {
     "name": "stdout",
     "output_type": "stream",
     "text": [
      "✅ SN038 처리 완료: 클래스당 61개\n"
     ]
    },
    {
     "name": "stdout",
     "output_type": "stream",
     "text": [
      "✅ SN039 처리 완료: 클래스당 108개\n"
     ]
    },
    {
     "name": "stdout",
     "output_type": "stream",
     "text": [
      "✅ SN040 처리 완료: 클래스당 62개\n"
     ]
    },
    {
     "name": "stdout",
     "output_type": "stream",
     "text": [
      "✅ SN041 처리 완료: 클래스당 130개\n"
     ]
    },
    {
     "name": "stdout",
     "output_type": "stream",
     "text": [
      "✅ SN042 처리 완료: 클래스당 148개\n"
     ]
    },
    {
     "name": "stdout",
     "output_type": "stream",
     "text": [
      "✅ SN043 처리 완료: 클래스당 56개\n"
     ]
    },
    {
     "name": "stdout",
     "output_type": "stream",
     "text": [
      "✅ SN044 처리 완료: 클래스당 55개\n"
     ]
    },
    {
     "name": "stdout",
     "output_type": "stream",
     "text": [
      "✅ SN045 처리 완료: 클래스당 129개\n"
     ]
    },
    {
     "name": "stdout",
     "output_type": "stream",
     "text": [
      "✅ SN046 처리 완료: 클래스당 49개\n"
     ]
    },
    {
     "name": "stdout",
     "output_type": "stream",
     "text": [
      "✅ SN047 처리 완료: 클래스당 125개\n"
     ]
    },
    {
     "name": "stdout",
     "output_type": "stream",
     "text": [
      "✅ SN048 처리 완료: 클래스당 146개\n"
     ]
    },
    {
     "name": "stdout",
     "output_type": "stream",
     "text": [
      "✅ SN049 처리 완료: 클래스당 41개\n"
     ]
    },
    {
     "name": "stdout",
     "output_type": "stream",
     "text": [
      "✅ SN050 처리 완료: 클래스당 25개\n"
     ]
    },
    {
     "name": "stdout",
     "output_type": "stream",
     "text": [
      "✅ SN051 처리 완료: 클래스당 84개\n"
     ]
    },
    {
     "name": "stdout",
     "output_type": "stream",
     "text": [
      "✅ SN052 처리 완료: 클래스당 59개\n"
     ]
    },
    {
     "name": "stdout",
     "output_type": "stream",
     "text": [
      "✅ SN053 처리 완료: 클래스당 163개\n",
      "✅ SN054 처리 완료: 클래스당 28개\n"
     ]
    },
    {
     "name": "stdout",
     "output_type": "stream",
     "text": [
      "✅ SN055 처리 완료: 클래스당 115개\n"
     ]
    },
    {
     "name": "stdout",
     "output_type": "stream",
     "text": [
      "✅ SN056 처리 완료: 클래스당 64개\n"
     ]
    },
    {
     "name": "stdout",
     "output_type": "stream",
     "text": [
      "✅ SN057 처리 완료: 클래스당 7개\n"
     ]
    },
    {
     "name": "stdout",
     "output_type": "stream",
     "text": [
      "✅ SN058 처리 완료: 클래스당 103개\n"
     ]
    },
    {
     "name": "stdout",
     "output_type": "stream",
     "text": [
      "✅ SN059 처리 완료: 클래스당 138개\n"
     ]
    },
    {
     "name": "stdout",
     "output_type": "stream",
     "text": [
      "✅ SN060 처리 완료: 클래스당 46개\n"
     ]
    },
    {
     "name": "stdout",
     "output_type": "stream",
     "text": [
      "✅ SN061 처리 완료: 클래스당 150개\n",
      "✅ SN062 처리 완료: 클래스당 5개\n"
     ]
    },
    {
     "name": "stdout",
     "output_type": "stream",
     "text": [
      "✅ SN063 처리 완료: 클래스당 139개\n",
      "❌ 파일 없음: SN064\n",
      "⚠️ SN064: 라벨 없음 → 건너뜀\n"
     ]
    },
    {
     "name": "stdout",
     "output_type": "stream",
     "text": [
      "✅ SN065 처리 완료: 클래스당 65개\n"
     ]
    },
    {
     "name": "stdout",
     "output_type": "stream",
     "text": [
      "✅ SN066 처리 완료: 클래스당 88개\n"
     ]
    },
    {
     "name": "stdout",
     "output_type": "stream",
     "text": [
      "✅ SN067 처리 완료: 클래스당 123개\n"
     ]
    },
    {
     "name": "stdout",
     "output_type": "stream",
     "text": [
      "✅ SN068 처리 완료: 클래스당 116개\n"
     ]
    },
    {
     "name": "stdout",
     "output_type": "stream",
     "text": [
      "✅ SN069 처리 완료: 클래스당 69개\n"
     ]
    },
    {
     "name": "stdout",
     "output_type": "stream",
     "text": [
      "✅ SN070 처리 완료: 클래스당 35개\n"
     ]
    },
    {
     "name": "stdout",
     "output_type": "stream",
     "text": [
      "✅ SN071 처리 완료: 클래스당 16개\n"
     ]
    },
    {
     "name": "stdout",
     "output_type": "stream",
     "text": [
      "✅ SN072 처리 완료: 클래스당 115개\n"
     ]
    },
    {
     "name": "stdout",
     "output_type": "stream",
     "text": [
      "✅ SN073 처리 완료: 클래스당 39개\n"
     ]
    },
    {
     "name": "stdout",
     "output_type": "stream",
     "text": [
      "✅ SN074 처리 완료: 클래스당 37개\n"
     ]
    },
    {
     "name": "stdout",
     "output_type": "stream",
     "text": [
      "✅ SN075 처리 완료: 클래스당 186개\n"
     ]
    },
    {
     "name": "stdout",
     "output_type": "stream",
     "text": [
      "✅ SN076 처리 완료: 클래스당 56개\n"
     ]
    },
    {
     "name": "stdout",
     "output_type": "stream",
     "text": [
      "✅ SN077 처리 완료: 클래스당 85개\n"
     ]
    },
    {
     "name": "stdout",
     "output_type": "stream",
     "text": [
      "✅ SN078 처리 완료: 클래스당 55개\n"
     ]
    },
    {
     "name": "stdout",
     "output_type": "stream",
     "text": [
      "✅ SN079 처리 완료: 클래스당 61개\n"
     ]
    },
    {
     "name": "stdout",
     "output_type": "stream",
     "text": [
      "✅ SN080 처리 완료: 클래스당 28개\n"
     ]
    },
    {
     "name": "stdout",
     "output_type": "stream",
     "text": [
      "✅ SN081 처리 완료: 클래스당 2개\n"
     ]
    },
    {
     "name": "stdout",
     "output_type": "stream",
     "text": [
      "✅ SN082 처리 완료: 클래스당 37개\n"
     ]
    },
    {
     "name": "stdout",
     "output_type": "stream",
     "text": [
      "✅ SN083 처리 완료: 클래스당 136개\n"
     ]
    },
    {
     "name": "stdout",
     "output_type": "stream",
     "text": [
      "✅ SN084 처리 완료: 클래스당 27개\n"
     ]
    },
    {
     "name": "stdout",
     "output_type": "stream",
     "text": [
      "✅ SN085 처리 완료: 클래스당 111개\n"
     ]
    },
    {
     "name": "stdout",
     "output_type": "stream",
     "text": [
      "✅ SN086 처리 완료: 클래스당 110개\n"
     ]
    },
    {
     "name": "stdout",
     "output_type": "stream",
     "text": [
      "✅ SN087 처리 완료: 클래스당 34개\n"
     ]
    },
    {
     "name": "stdout",
     "output_type": "stream",
     "text": [
      "✅ SN088 처리 완료: 클래스당 125개\n"
     ]
    },
    {
     "name": "stdout",
     "output_type": "stream",
     "text": [
      "✅ SN089 처리 완료: 클래스당 85개\n"
     ]
    },
    {
     "name": "stdout",
     "output_type": "stream",
     "text": [
      "✅ SN090 처리 완료: 클래스당 76개\n"
     ]
    },
    {
     "name": "stdout",
     "output_type": "stream",
     "text": [
      "✅ SN091 처리 완료: 클래스당 40개\n"
     ]
    },
    {
     "name": "stdout",
     "output_type": "stream",
     "text": [
      "✅ SN092 처리 완료: 클래스당 93개\n"
     ]
    },
    {
     "name": "stdout",
     "output_type": "stream",
     "text": [
      "✅ SN093 처리 완료: 클래스당 71개\n"
     ]
    },
    {
     "name": "stdout",
     "output_type": "stream",
     "text": [
      "✅ SN094 처리 완료: 클래스당 79개\n"
     ]
    },
    {
     "name": "stdout",
     "output_type": "stream",
     "text": [
      "✅ SN095 처리 완료: 클래스당 50개\n"
     ]
    },
    {
     "name": "stdout",
     "output_type": "stream",
     "text": [
      "✅ SN096 처리 완료: 클래스당 55개\n"
     ]
    },
    {
     "name": "stdout",
     "output_type": "stream",
     "text": [
      "✅ SN097 처리 완료: 클래스당 46개\n"
     ]
    },
    {
     "name": "stdout",
     "output_type": "stream",
     "text": [
      "✅ SN098 처리 완료: 클래스당 80개\n"
     ]
    },
    {
     "name": "stdout",
     "output_type": "stream",
     "text": [
      "✅ SN099 처리 완료: 클래스당 56개\n"
     ]
    },
    {
     "name": "stdout",
     "output_type": "stream",
     "text": [
      "✅ SN100 처리 완료: 클래스당 81개\n"
     ]
    },
    {
     "name": "stdout",
     "output_type": "stream",
     "text": [
      "✅ SN101 처리 완료: 클래스당 120개\n"
     ]
    },
    {
     "name": "stdout",
     "output_type": "stream",
     "text": [
      "✅ SN102 처리 완료: 클래스당 36개\n"
     ]
    },
    {
     "name": "stdout",
     "output_type": "stream",
     "text": [
      "✅ SN103 처리 완료: 클래스당 70개\n"
     ]
    },
    {
     "name": "stdout",
     "output_type": "stream",
     "text": [
      "✅ SN104 처리 완료: 클래스당 104개\n"
     ]
    },
    {
     "name": "stdout",
     "output_type": "stream",
     "text": [
      "✅ SN105 처리 완료: 클래스당 34개\n"
     ]
    },
    {
     "name": "stdout",
     "output_type": "stream",
     "text": [
      "✅ SN106 처리 완료: 클래스당 53개\n"
     ]
    },
    {
     "name": "stdout",
     "output_type": "stream",
     "text": [
      "✅ SN107 처리 완료: 클래스당 77개\n"
     ]
    },
    {
     "name": "stdout",
     "output_type": "stream",
     "text": [
      "✅ SN108 처리 완료: 클래스당 50개\n"
     ]
    },
    {
     "name": "stdout",
     "output_type": "stream",
     "text": [
      "✅ SN109 처리 완료: 클래스당 48개\n"
     ]
    },
    {
     "name": "stdout",
     "output_type": "stream",
     "text": [
      "✅ SN110 처리 완료: 클래스당 96개\n"
     ]
    },
    {
     "name": "stdout",
     "output_type": "stream",
     "text": [
      "✅ SN111 처리 완료: 클래스당 135개\n"
     ]
    },
    {
     "name": "stdout",
     "output_type": "stream",
     "text": [
      "✅ SN112 처리 완료: 클래스당 83개\n"
     ]
    },
    {
     "name": "stdout",
     "output_type": "stream",
     "text": [
      "✅ SN113 처리 완료: 클래스당 85개\n"
     ]
    },
    {
     "name": "stdout",
     "output_type": "stream",
     "text": [
      "✅ SN114 처리 완료: 클래스당 73개\n"
     ]
    },
    {
     "name": "stdout",
     "output_type": "stream",
     "text": [
      "✅ SN115 처리 완료: 클래스당 98개\n"
     ]
    },
    {
     "name": "stdout",
     "output_type": "stream",
     "text": [
      "✅ SN116 처리 완료: 클래스당 43개\n"
     ]
    },
    {
     "name": "stdout",
     "output_type": "stream",
     "text": [
      "✅ SN117 처리 완료: 클래스당 108개\n"
     ]
    },
    {
     "name": "stdout",
     "output_type": "stream",
     "text": [
      "✅ SN118 처리 완료: 클래스당 114개\n"
     ]
    },
    {
     "name": "stdout",
     "output_type": "stream",
     "text": [
      "✅ SN119 처리 완료: 클래스당 89개\n"
     ]
    },
    {
     "name": "stdout",
     "output_type": "stream",
     "text": [
      "✅ SN120 처리 완료: 클래스당 29개\n"
     ]
    },
    {
     "name": "stdout",
     "output_type": "stream",
     "text": [
      "✅ SN121 처리 완료: 클래스당 61개\n"
     ]
    },
    {
     "name": "stdout",
     "output_type": "stream",
     "text": [
      "✅ SN122 처리 완료: 클래스당 66개\n"
     ]
    },
    {
     "name": "stdout",
     "output_type": "stream",
     "text": [
      "✅ SN123 처리 완료: 클래스당 98개\n"
     ]
    },
    {
     "name": "stdout",
     "output_type": "stream",
     "text": [
      "❌ 파일 없음: SN135\n"
     ]
    }
   ],
   "source": [
    "X_train, y_train = load_balanced_data_from_sn(list(range(1, 94)))  # SN001 ~ SN093\n",
    "X_val, y_val = load_balanced_data_from_sn(list(range(94, 124)))   # SN094 ~ SN123\n",
    "X_test, y_test = load_data_from_sn(list(range(124, 154)))"
   ]
  },
  {
   "cell_type": "code",
   "execution_count": 5,
   "id": "d90d79e6",
   "metadata": {
    "execution": {
     "iopub.execute_input": "2025-05-21T13:10:49.133673Z",
     "iopub.status.busy": "2025-05-21T13:10:49.132873Z",
     "iopub.status.idle": "2025-05-21T13:10:49.152859Z",
     "shell.execute_reply": "2025-05-21T13:10:49.151417Z"
    },
    "papermill": {
     "duration": 0.051339,
     "end_time": "2025-05-21T13:10:49.154822",
     "exception": false,
     "start_time": "2025-05-21T13:10:49.103483",
     "status": "completed"
    },
    "tags": []
   },
   "outputs": [],
   "source": [
    "import torch\n",
    "import torch.nn as nn\n",
    "import torch.nn.functional as F\n",
    "from torch.utils.data import DataLoader, TensorDataset\n",
    "from collections import Counter\n",
    "import numpy as np\n",
    "\n",
    "# 🔹 모델 정의\n",
    "class ECGSleepCNN(nn.Module):\n",
    "    def __init__(self, num_classes=5):\n",
    "        super(ECGSleepCNN, self).__init__()\n",
    "        self.conv1 = nn.Conv1d(1, 16, kernel_size=7, padding=3)\n",
    "        self.bn1 = nn.BatchNorm1d(16)\n",
    "        self.pool1 = nn.MaxPool1d(2)\n",
    "        self.conv2 = nn.Conv1d(16, 32, kernel_size=5, padding=2)\n",
    "        self.bn2 = nn.BatchNorm1d(32)\n",
    "        self.pool2 = nn.MaxPool1d(2)\n",
    "        self.conv3 = nn.Conv1d(32, 64, kernel_size=3, padding=1)\n",
    "        self.bn3 = nn.BatchNorm1d(64)\n",
    "        self.pool3 = nn.MaxPool1d(2)\n",
    "        self.fc1 = nn.Linear(64 * 960, 256)\n",
    "        self.dropout = nn.Dropout(0.3)\n",
    "        self.fc2 = nn.Linear(256, num_classes)\n",
    "\n",
    "    def forward(self, x):\n",
    "        x = self.pool1(F.relu(self.bn1(self.conv1(x))))\n",
    "        x = self.pool2(F.relu(self.bn2(self.conv2(x))))\n",
    "        x = self.pool3(F.relu(self.bn3(self.conv3(x))))\n",
    "        x = x.view(x.size(0), -1)\n",
    "        x = self.dropout(F.relu(self.fc1(x)))\n",
    "        x = self.fc2(x)\n",
    "        return x"
   ]
  },
  {
   "cell_type": "code",
   "execution_count": 6,
   "id": "bc97752f",
   "metadata": {
    "execution": {
     "iopub.execute_input": "2025-05-21T13:10:49.180454Z",
     "iopub.status.busy": "2025-05-21T13:10:49.179406Z",
     "iopub.status.idle": "2025-05-21T13:55:58.933696Z",
     "shell.execute_reply": "2025-05-21T13:55:58.932480Z"
    },
    "papermill": {
     "duration": 2709.776883,
     "end_time": "2025-05-21T13:55:58.945710",
     "exception": false,
     "start_time": "2025-05-21T13:10:49.168827",
     "status": "completed"
    },
    "tags": []
   },
   "outputs": [
    {
     "name": "stdout",
     "output_type": "stream",
     "text": [
      "📘 Epoch 1 | Train Loss: 1247.0543 | Train Acc: 31.34% | Val Loss: 1.4787 | Val Acc: 33.24%\n"
     ]
    },
    {
     "name": "stdout",
     "output_type": "stream",
     "text": [
      "📘 Epoch 2 | Train Loss: 1185.4001 | Train Acc: 36.98% | Val Loss: 1.6003 | Val Acc: 32.81%\n"
     ]
    },
    {
     "name": "stdout",
     "output_type": "stream",
     "text": [
      "📘 Epoch 3 | Train Loss: 1130.2635 | Train Acc: 42.99% | Val Loss: 1.6283 | Val Acc: 33.88%\n"
     ]
    },
    {
     "name": "stdout",
     "output_type": "stream",
     "text": [
      "📘 Epoch 4 | Train Loss: 1069.6677 | Train Acc: 47.29% | Val Loss: 1.6050 | Val Acc: 32.98%\n"
     ]
    },
    {
     "name": "stdout",
     "output_type": "stream",
     "text": [
      "📘 Epoch 5 | Train Loss: 1008.6536 | Train Acc: 52.05% | Val Loss: 1.6003 | Val Acc: 33.75%\n"
     ]
    },
    {
     "name": "stdout",
     "output_type": "stream",
     "text": [
      "📘 Epoch 6 | Train Loss: 942.0469 | Train Acc: 57.17% | Val Loss: 1.5689 | Val Acc: 34.14%\n"
     ]
    },
    {
     "name": "stdout",
     "output_type": "stream",
     "text": [
      "📘 Epoch 7 | Train Loss: 879.2931 | Train Acc: 61.39% | Val Loss: 1.5812 | Val Acc: 33.69%\n"
     ]
    },
    {
     "name": "stdout",
     "output_type": "stream",
     "text": [
      "📘 Epoch 8 | Train Loss: 815.7990 | Train Acc: 65.52% | Val Loss: 1.7217 | Val Acc: 34.09%\n"
     ]
    },
    {
     "name": "stdout",
     "output_type": "stream",
     "text": [
      "📘 Epoch 9 | Train Loss: 755.4855 | Train Acc: 69.27% | Val Loss: 1.5956 | Val Acc: 33.26%\n"
     ]
    },
    {
     "name": "stdout",
     "output_type": "stream",
     "text": [
      "📘 Epoch 10 | Train Loss: 699.6448 | Train Acc: 72.73% | Val Loss: 1.5703 | Val Acc: 33.34%\n"
     ]
    },
    {
     "name": "stdout",
     "output_type": "stream",
     "text": [
      "📘 Epoch 11 | Train Loss: 642.6535 | Train Acc: 76.09% | Val Loss: 1.6115 | Val Acc: 33.14%\n"
     ]
    },
    {
     "name": "stdout",
     "output_type": "stream",
     "text": [
      "📘 Epoch 12 | Train Loss: 595.4951 | Train Acc: 78.82% | Val Loss: 1.7511 | Val Acc: 33.33%\n"
     ]
    },
    {
     "name": "stdout",
     "output_type": "stream",
     "text": [
      "📘 Epoch 13 | Train Loss: 544.8485 | Train Acc: 81.44% | Val Loss: 1.6604 | Val Acc: 33.12%\n"
     ]
    },
    {
     "name": "stdout",
     "output_type": "stream",
     "text": [
      "📘 Epoch 14 | Train Loss: 500.6110 | Train Acc: 83.46% | Val Loss: 1.7072 | Val Acc: 33.88%\n"
     ]
    },
    {
     "name": "stdout",
     "output_type": "stream",
     "text": [
      "📘 Epoch 15 | Train Loss: 459.7085 | Train Acc: 85.50% | Val Loss: 1.8136 | Val Acc: 34.21%\n"
     ]
    },
    {
     "name": "stdout",
     "output_type": "stream",
     "text": [
      "📘 Epoch 16 | Train Loss: 418.5402 | Train Acc: 87.38% | Val Loss: 1.9505 | Val Acc: 33.28%\n"
     ]
    },
    {
     "name": "stdout",
     "output_type": "stream",
     "text": [
      "📘 Epoch 17 | Train Loss: 384.4101 | Train Acc: 88.93% | Val Loss: 1.9647 | Val Acc: 32.62%\n"
     ]
    },
    {
     "name": "stdout",
     "output_type": "stream",
     "text": [
      "📘 Epoch 18 | Train Loss: 349.4353 | Train Acc: 90.65% | Val Loss: 2.1747 | Val Acc: 33.35%\n"
     ]
    },
    {
     "name": "stdout",
     "output_type": "stream",
     "text": [
      "📘 Epoch 19 | Train Loss: 318.5387 | Train Acc: 91.48% | Val Loss: 2.0736 | Val Acc: 33.36%\n"
     ]
    },
    {
     "name": "stdout",
     "output_type": "stream",
     "text": [
      "📘 Epoch 20 | Train Loss: 290.0936 | Train Acc: 92.57% | Val Loss: 2.1163 | Val Acc: 33.14%\n"
     ]
    },
    {
     "name": "stdout",
     "output_type": "stream",
     "text": [
      "📘 Epoch 21 | Train Loss: 262.5256 | Train Acc: 93.71% | Val Loss: 2.1483 | Val Acc: 33.61%\n"
     ]
    },
    {
     "name": "stdout",
     "output_type": "stream",
     "text": [
      "📘 Epoch 22 | Train Loss: 239.0489 | Train Acc: 94.45% | Val Loss: 2.2360 | Val Acc: 32.70%\n"
     ]
    },
    {
     "name": "stdout",
     "output_type": "stream",
     "text": [
      "📘 Epoch 23 | Train Loss: 214.6551 | Train Acc: 95.29% | Val Loss: 2.2515 | Val Acc: 32.71%\n"
     ]
    },
    {
     "name": "stdout",
     "output_type": "stream",
     "text": [
      "📘 Epoch 24 | Train Loss: 198.4358 | Train Acc: 95.81% | Val Loss: 2.4056 | Val Acc: 33.03%\n"
     ]
    },
    {
     "name": "stdout",
     "output_type": "stream",
     "text": [
      "📘 Epoch 25 | Train Loss: 179.2411 | Train Acc: 96.16% | Val Loss: 2.4859 | Val Acc: 32.62%\n"
     ]
    },
    {
     "name": "stdout",
     "output_type": "stream",
     "text": [
      "📘 Epoch 26 | Train Loss: 163.6340 | Train Acc: 96.75% | Val Loss: 2.5810 | Val Acc: 32.66%\n"
     ]
    },
    {
     "name": "stdout",
     "output_type": "stream",
     "text": [
      "📘 Epoch 27 | Train Loss: 148.4872 | Train Acc: 97.13% | Val Loss: 2.3613 | Val Acc: 33.51%\n"
     ]
    },
    {
     "name": "stdout",
     "output_type": "stream",
     "text": [
      "📘 Epoch 28 | Train Loss: 136.6588 | Train Acc: 97.35% | Val Loss: 2.5393 | Val Acc: 32.68%\n"
     ]
    },
    {
     "name": "stdout",
     "output_type": "stream",
     "text": [
      "📘 Epoch 29 | Train Loss: 123.0479 | Train Acc: 97.82% | Val Loss: 2.6574 | Val Acc: 32.86%\n"
     ]
    },
    {
     "name": "stdout",
     "output_type": "stream",
     "text": [
      "📘 Epoch 30 | Train Loss: 111.9924 | Train Acc: 97.93% | Val Loss: 2.4507 | Val Acc: 32.82%\n"
     ]
    },
    {
     "name": "stdout",
     "output_type": "stream",
     "text": [
      "📘 Epoch 31 | Train Loss: 101.9752 | Train Acc: 98.19% | Val Loss: 2.6644 | Val Acc: 32.61%\n"
     ]
    },
    {
     "name": "stdout",
     "output_type": "stream",
     "text": [
      "📘 Epoch 32 | Train Loss: 96.8629 | Train Acc: 98.23% | Val Loss: 2.6682 | Val Acc: 32.48%\n"
     ]
    },
    {
     "name": "stdout",
     "output_type": "stream",
     "text": [
      "📘 Epoch 33 | Train Loss: 87.9115 | Train Acc: 98.36% | Val Loss: 2.9189 | Val Acc: 32.67%\n"
     ]
    },
    {
     "name": "stdout",
     "output_type": "stream",
     "text": [
      "📘 Epoch 34 | Train Loss: 81.0761 | Train Acc: 98.50% | Val Loss: 2.6282 | Val Acc: 32.97%\n"
     ]
    },
    {
     "name": "stdout",
     "output_type": "stream",
     "text": [
      "📘 Epoch 35 | Train Loss: 74.0886 | Train Acc: 98.60% | Val Loss: 2.8198 | Val Acc: 32.89%\n"
     ]
    },
    {
     "name": "stdout",
     "output_type": "stream",
     "text": [
      "📘 Epoch 36 | Train Loss: 69.2652 | Train Acc: 98.74% | Val Loss: 2.8261 | Val Acc: 33.18%\n"
     ]
    },
    {
     "name": "stdout",
     "output_type": "stream",
     "text": [
      "📘 Epoch 37 | Train Loss: 64.4789 | Train Acc: 98.81% | Val Loss: 2.7330 | Val Acc: 32.64%\n"
     ]
    },
    {
     "name": "stdout",
     "output_type": "stream",
     "text": [
      "📘 Epoch 38 | Train Loss: 60.8875 | Train Acc: 98.82% | Val Loss: 2.8886 | Val Acc: 32.61%\n"
     ]
    },
    {
     "name": "stdout",
     "output_type": "stream",
     "text": [
      "📘 Epoch 39 | Train Loss: 56.9248 | Train Acc: 98.89% | Val Loss: 2.9676 | Val Acc: 32.43%\n"
     ]
    },
    {
     "name": "stdout",
     "output_type": "stream",
     "text": [
      "📘 Epoch 40 | Train Loss: 53.0883 | Train Acc: 98.87% | Val Loss: 2.8357 | Val Acc: 32.12%\n"
     ]
    },
    {
     "name": "stdout",
     "output_type": "stream",
     "text": [
      "📘 Epoch 41 | Train Loss: 51.0600 | Train Acc: 98.98% | Val Loss: 3.2046 | Val Acc: 32.71%\n"
     ]
    },
    {
     "name": "stdout",
     "output_type": "stream",
     "text": [
      "📘 Epoch 42 | Train Loss: 47.4836 | Train Acc: 98.92% | Val Loss: 3.0798 | Val Acc: 32.41%\n"
     ]
    },
    {
     "name": "stdout",
     "output_type": "stream",
     "text": [
      "📘 Epoch 43 | Train Loss: 44.7024 | Train Acc: 99.07% | Val Loss: 2.9815 | Val Acc: 32.59%\n"
     ]
    },
    {
     "name": "stdout",
     "output_type": "stream",
     "text": [
      "📘 Epoch 44 | Train Loss: 43.1935 | Train Acc: 98.99% | Val Loss: 3.1512 | Val Acc: 32.17%\n"
     ]
    },
    {
     "name": "stdout",
     "output_type": "stream",
     "text": [
      "📘 Epoch 45 | Train Loss: 42.1184 | Train Acc: 99.04% | Val Loss: 3.1047 | Val Acc: 32.26%\n"
     ]
    },
    {
     "name": "stdout",
     "output_type": "stream",
     "text": [
      "📘 Epoch 46 | Train Loss: 39.2773 | Train Acc: 99.07% | Val Loss: 3.1641 | Val Acc: 32.24%\n"
     ]
    },
    {
     "name": "stdout",
     "output_type": "stream",
     "text": [
      "📘 Epoch 47 | Train Loss: 35.8196 | Train Acc: 99.14% | Val Loss: 3.0029 | Val Acc: 32.02%\n"
     ]
    },
    {
     "name": "stdout",
     "output_type": "stream",
     "text": [
      "📘 Epoch 48 | Train Loss: 35.1257 | Train Acc: 99.13% | Val Loss: 2.9831 | Val Acc: 32.19%\n"
     ]
    },
    {
     "name": "stdout",
     "output_type": "stream",
     "text": [
      "📘 Epoch 49 | Train Loss: 36.0700 | Train Acc: 99.08% | Val Loss: 3.2322 | Val Acc: 32.40%\n"
     ]
    },
    {
     "name": "stdout",
     "output_type": "stream",
     "text": [
      "📘 Epoch 50 | Train Loss: 31.7582 | Train Acc: 99.21% | Val Loss: 3.2461 | Val Acc: 32.66%\n"
     ]
    }
   ],
   "source": [
    "import torch, random, numpy as np\n",
    "from torch.utils.data import DataLoader, TensorDataset\n",
    "\n",
    "# 🔹 데이터로더 설정\n",
    "train_loader = DataLoader(TensorDataset(X_train, y_train), batch_size=32, shuffle=True)\n",
    "val_loader = DataLoader(TensorDataset(X_val, y_val), batch_size=32)\n",
    "\n",
    "# 🔹 학습 설정\n",
    "device = torch.device(\"cuda\" if torch.cuda.is_available() else \"cpu\")\n",
    "model = ECGSleepCNN(num_classes=4).to(device)\n",
    "criterion = torch.nn.CrossEntropyLoss()\n",
    "optimizer = torch.optim.Adam(model.parameters(), lr=1e-5)\n",
    "\n",
    "# 🔹 학습 루프 \n",
    "for epoch in range(50):  # 최대 50 epoch\n",
    "    model.train()\n",
    "    loss_sum, correct, total = 0.0, 0, 0\n",
    "\n",
    "    for xb, yb in train_loader:\n",
    "        xb, yb = xb.to(device), yb.to(device)\n",
    "        outputs = model(xb)\n",
    "        loss = criterion(outputs, yb)\n",
    "\n",
    "        optimizer.zero_grad()\n",
    "        loss.backward()\n",
    "        optimizer.step()\n",
    "\n",
    "        loss_sum += loss.item()\n",
    "        _, pred = torch.max(outputs, 1)\n",
    "        total += yb.size(0)\n",
    "        correct += (pred == yb).sum().item()\n",
    "\n",
    "    train_acc = 100 * correct / total\n",
    "\n",
    "    # 🔹 검증 단계\n",
    "    model.eval()\n",
    "    val_loss, val_correct, val_total = 0.0, 0, 0\n",
    "    with torch.no_grad():\n",
    "        for xb, yb in val_loader:\n",
    "            xb, yb = xb.to(device), yb.to(device)\n",
    "            outputs = model(xb)\n",
    "            loss = criterion(outputs, yb)\n",
    "\n",
    "            val_loss += loss.item()\n",
    "            _, pred = torch.max(outputs, 1)\n",
    "            val_total += yb.size(0)\n",
    "            val_correct += (pred == yb).sum().item()\n",
    "\n",
    "    val_acc = 100 * val_correct / val_total\n",
    "    avg_val_loss = val_loss / len(val_loader)\n",
    "\n",
    "    print(f\"📘 Epoch {epoch+1} | Train Loss: {loss_sum:.4f} | Train Acc: {train_acc:.2f}% | Val Loss: {avg_val_loss:.4f} | Val Acc: {val_acc:.2f}%\")\n"
   ]
  },
  {
   "cell_type": "code",
   "execution_count": 7,
   "id": "b290e670",
   "metadata": {
    "execution": {
     "iopub.execute_input": "2025-05-21T13:55:58.972672Z",
     "iopub.status.busy": "2025-05-21T13:55:58.971795Z",
     "iopub.status.idle": "2025-05-21T13:56:09.855481Z",
     "shell.execute_reply": "2025-05-21T13:56:09.854503Z"
    },
    "papermill": {
     "duration": 10.89586,
     "end_time": "2025-05-21T13:56:09.857052",
     "exception": false,
     "start_time": "2025-05-21T13:55:58.961192",
     "status": "completed"
    },
    "tags": []
   },
   "outputs": [],
   "source": [
    "model.eval()\n",
    "all_preds, all_labels = [], []\n",
    "\n",
    "with torch.no_grad():\n",
    "    for i in range(0, len(X_test), 32):\n",
    "        xb = X_test[i:i+32].to(device)\n",
    "        yb = y_test[i:i+32].to(device)\n",
    "        outputs = model(xb)\n",
    "        preds = torch.argmax(outputs, dim=1)\n",
    "        all_preds.extend(preds.cpu().numpy())\n",
    "        all_labels.extend(yb.cpu().numpy())\n"
   ]
  },
  {
   "cell_type": "code",
   "execution_count": 8,
   "id": "ebbf9413",
   "metadata": {
    "execution": {
     "iopub.execute_input": "2025-05-21T13:56:09.907455Z",
     "iopub.status.busy": "2025-05-21T13:56:09.906965Z",
     "iopub.status.idle": "2025-05-21T13:56:10.164490Z",
     "shell.execute_reply": "2025-05-21T13:56:10.163545Z"
    },
    "papermill": {
     "duration": 0.284876,
     "end_time": "2025-05-21T13:56:10.166626",
     "exception": false,
     "start_time": "2025-05-21T13:56:09.881750",
     "status": "completed"
    },
    "tags": []
   },
   "outputs": [
    {
     "data": {
      "image/png": "[encoded data removed]",
      "text/plain": [
       "<Figure size 600x500 with 2 Axes>"
      ]
     },
     "metadata": {},
     "output_type": "display_data"
    },
    {
     "name": "stdout",
     "output_type": "stream",
     "text": [
      "📄 Classification Report:\n",
      "              precision    recall  f1-score   support\n",
      "\n",
      "           W       0.31      0.52      0.39      4359\n",
      "         N12       0.50      0.25      0.33     12624\n",
      "          N3       0.23      0.26      0.25      5711\n",
      "           R       0.18      0.30      0.22      4172\n",
      "\n",
      "    accuracy                           0.30     26866\n",
      "   macro avg       0.31      0.33      0.30     26866\n",
      "weighted avg       0.36      0.30      0.31     26866\n",
      "\n"
     ]
    }
   ],
   "source": [
    "labels = ['W', 'N12', 'N3', 'R']\n",
    "\n",
    "# Confusion Matrix\n",
    "cm = confusion_matrix(all_labels, all_preds)\n",
    "plt.figure(figsize=(6, 5))\n",
    "sns.heatmap(cm, annot=True, fmt='d', cmap='Blues',\n",
    "            xticklabels=labels, yticklabels=labels)\n",
    "plt.xlabel(\"Predicted\")\n",
    "plt.ylabel(\"True\")\n",
    "plt.title(\"Confusion Matrix\")\n",
    "plt.tight_layout()\n",
    "plt.show()\n",
    "\n",
    "# Classification Report\n",
    "print(\"📄 Classification Report:\")\n",
    "print(classification_report(all_labels, all_preds, target_names=labels))\n"
   ]
  }
 ],
 "metadata": {
  "kernelspec": {
   "display_name": "Python 3",
   "language": "python",
   "name": "python3"
  },
  "language_info": {
   "codemirror_mode": {
    "name": "ipython",
    "version": 3
   },
   "file_extension": ".py",
   "mimetype": "text/x-python",
   "name": "python",
   "nbconvert_exporter": "python",
   "pygments_lexer": "ipython3",
   "version": "3.10.12"
  },
  "papermill": {
   "default_parameters": {},
   "duration": 2784.911448,
   "end_time": "2025-05-21T13:56:13.223701",
   "environment_variables": {},
   "exception": null,
   "input_path": "test3.ipynb",
   "output_path": "output3.ipynb",
   "parameters": {},
   "start_time": "2025-05-21T13:09:48.312253",
   "version": "2.6.0"
  }
 },
 "nbformat": 4,
 "nbformat_minor": 5
}