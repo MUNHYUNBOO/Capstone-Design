{
 "cells": [
  {
   "cell_type": "code",
   "execution_count": 1,
   "id": "8f68b19a",
   "metadata": {
    "execution": {
     "iopub.execute_input": "2025-05-26T10:48:16.111054Z",
     "iopub.status.busy": "2025-05-26T10:48:16.110290Z",
     "iopub.status.idle": "2025-05-26T10:48:19.942641Z",
     "shell.execute_reply": "2025-05-26T10:48:19.940821Z"
    },
    "papermill": {
     "duration": 3.844289,
     "end_time": "2025-05-26T10:48:19.945665",
     "exception": false,
     "start_time": "2025-05-26T10:48:16.101376",
     "status": "completed"
    },
    "tags": []
   },
   "outputs": [],
   "source": [
    "import os\n",
    "import numpy as np\n",
    "import pyedflib\n",
    "from scipy.stats import zscore\n",
    "from scipy.signal import stft\n",
    "import torch\n",
    "import torch.nn as nn\n",
    "from torch.utils.data import Dataset, DataLoader\n",
    "from sklearn.metrics import classification_report, confusion_matrix, ConfusionMatrixDisplay\n",
    "import matplotlib.pyplot as plt\n",
    "\n",
    "# ⚙️ 설정\n",
    "root_dir = \"/home/mhb0917/캡스톤디자인/sleep/recordings\"\n",
    "seq_len = 10\n",
    "batch_size = 16\n",
    "epochs = 50\n",
    "learning_rate = 0.0001\n",
    "\n",
    "label_map = {\n",
    "    'Sleep stage W': 0,\n",
    "    'Sleep stage N1': 1,\n",
    "    'Sleep stage N2': 1,\n",
    "    'Sleep stage N3': 2,\n",
    "    'Sleep stage R': 3\n",
    "}"
   ]
  },
  {
   "cell_type": "code",
   "execution_count": 2,
   "id": "3c5e7bc1",
   "metadata": {
    "execution": {
     "iopub.execute_input": "2025-05-26T10:48:19.961269Z",
     "iopub.status.busy": "2025-05-26T10:48:19.960600Z",
     "iopub.status.idle": "2025-05-26T10:48:19.973039Z",
     "shell.execute_reply": "2025-05-26T10:48:19.971828Z"
    },
    "papermill": {
     "duration": 0.022552,
     "end_time": "2025-05-26T10:48:19.975540",
     "exception": false,
     "start_time": "2025-05-26T10:48:19.952988",
     "status": "completed"
    },
    "tags": []
   },
   "outputs": [],
   "source": [
    "# 1️⃣ 데이터 로드\n",
    "def load_ecg_and_labels(sn_id, root_dir):\n",
    "    base = f\"SN{int(sn_id):03d}\"\n",
    "    ecg_path = os.path.join(root_dir, f\"{base}.edf\")\n",
    "    label_path = os.path.join(root_dir, f\"{base}_sleepscoring.edf\")\n",
    "    if not os.path.exists(ecg_path) or not os.path.exists(label_path):\n",
    "        print(f\"❌ 파일 없음: {base}\")\n",
    "        return [], []\n",
    "\n",
    "    with pyedflib.EdfReader(ecg_path) as ecg_reader:\n",
    "        ecg_signal = ecg_reader.readSignal(7)\n",
    "\n",
    "    with pyedflib.EdfReader(label_path) as label_reader:\n",
    "        onsets, durations, labels = label_reader.readAnnotations()\n",
    "\n",
    "    segments, segment_labels = [], []\n",
    "    for onset, duration, label in zip(onsets, durations, labels):\n",
    "        label_str = label.decode() if isinstance(label, bytes) else label\n",
    "        if label_str not in label_map:\n",
    "            continue\n",
    "        start = int(onset * 256)\n",
    "        num_segments = int(duration // 30)\n",
    "        for i in range(num_segments):\n",
    "            seg_start = start + i * 7680\n",
    "            seg_end = seg_start + 7680\n",
    "            if seg_end > len(ecg_signal):\n",
    "                break\n",
    "            segment = zscore(ecg_signal[seg_start:seg_end])\n",
    "            if np.isnan(segment).any():\n",
    "                continue\n",
    "            segments.append(segment.astype(np.float32))\n",
    "            segment_labels.append(label_map[label_str])\n",
    "    return segments, segment_labels"
   ]
  },
  {
   "cell_type": "code",
   "execution_count": 3,
   "id": "4c8e4f4d",
   "metadata": {
    "execution": {
     "iopub.execute_input": "2025-05-26T10:48:19.989277Z",
     "iopub.status.busy": "2025-05-26T10:48:19.988806Z",
     "iopub.status.idle": "2025-05-26T10:48:19.995321Z",
     "shell.execute_reply": "2025-05-26T10:48:19.994184Z"
    },
    "papermill": {
     "duration": 0.015831,
     "end_time": "2025-05-26T10:48:19.997555",
     "exception": false,
     "start_time": "2025-05-26T10:48:19.981724",
     "status": "completed"
    },
    "tags": []
   },
   "outputs": [],
   "source": [
    "# 2️⃣ STFT 함수\n",
    "def compute_stft(segment, fs=256, nperseg=256, noverlap=128):\n",
    "    f, t, Zxx = stft(segment, fs=fs, nperseg=nperseg, noverlap=noverlap)\n",
    "    magnitude = np.abs(Zxx)\n",
    "    return magnitude.T  # (time, freq)"
   ]
  },
  {
   "cell_type": "code",
   "execution_count": 4,
   "id": "82099291",
   "metadata": {
    "execution": {
     "iopub.execute_input": "2025-05-26T10:48:20.011634Z",
     "iopub.status.busy": "2025-05-26T10:48:20.010906Z",
     "iopub.status.idle": "2025-05-26T10:48:20.024353Z",
     "shell.execute_reply": "2025-05-26T10:48:20.023151Z"
    },
    "papermill": {
     "duration": 0.022781,
     "end_time": "2025-05-26T10:48:20.026315",
     "exception": false,
     "start_time": "2025-05-26T10:48:20.003534",
     "status": "completed"
    },
    "tags": []
   },
   "outputs": [],
   "source": [
    "# 3️⃣ STFT + 시퀀스 생성\n",
    "def create_sequences_stft(segments, labels, seq_len=10):\n",
    "    X, y = [], []\n",
    "    for i in range(len(segments) - seq_len + 1):\n",
    "        stft_seqs = []\n",
    "        for seg in segments[i:i+seq_len]:\n",
    "            stft_feat = compute_stft(seg)  # (time, freq)\n",
    "            stft_seqs.append(stft_feat)  # (time, freq)\n",
    "        X.append(np.stack(stft_seqs))  # (seq_len, time, freq)\n",
    "        y.append(labels[i + seq_len - 1])\n",
    "    return np.array(X), np.array(y)\n",
    "\n",
    "def merge_data(data_dict):\n",
    "    X_all, y_all = [], []\n",
    "    for X, y in data_dict.values():\n",
    "        if len(X) == 0:\n",
    "            continue\n",
    "        X_all.append(X)\n",
    "        y_all.append(y)\n",
    "    if len(X_all) == 0:\n",
    "        return np.array([]), np.array([])\n",
    "    return np.concatenate(X_all), np.concatenate(y_all)\n"
   ]
  },
  {
   "cell_type": "code",
   "execution_count": 5,
   "id": "f92522da",
   "metadata": {
    "execution": {
     "iopub.execute_input": "2025-05-26T10:48:20.038874Z",
     "iopub.status.busy": "2025-05-26T10:48:20.038310Z",
     "iopub.status.idle": "2025-05-26T10:48:20.048069Z",
     "shell.execute_reply": "2025-05-26T10:48:20.046498Z"
    },
    "papermill": {
     "duration": 0.019135,
     "end_time": "2025-05-26T10:48:20.050218",
     "exception": false,
     "start_time": "2025-05-26T10:48:20.031083",
     "status": "completed"
    },
    "tags": []
   },
   "outputs": [],
   "source": [
    "# 4️⃣ Dataset\n",
    "class SleepDataset(Dataset):\n",
    "    def __init__(self, X, y):\n",
    "        self.X = torch.tensor(X, dtype=torch.float32)\n",
    "        self.y = torch.tensor(y, dtype=torch.long)\n",
    "    def __len__(self):\n",
    "        return len(self.X)\n",
    "    def __getitem__(self, idx):\n",
    "        return self.X[idx], self.y[idx]"
   ]
  },
  {
   "cell_type": "code",
   "execution_count": 6,
   "id": "0d8f5cb5",
   "metadata": {
    "execution": {
     "iopub.execute_input": "2025-05-26T10:48:20.064513Z",
     "iopub.status.busy": "2025-05-26T10:48:20.063359Z",
     "iopub.status.idle": "2025-05-26T10:48:20.079136Z",
     "shell.execute_reply": "2025-05-26T10:48:20.077656Z"
    },
    "papermill": {
     "duration": 0.025253,
     "end_time": "2025-05-26T10:48:20.081620",
     "exception": false,
     "start_time": "2025-05-26T10:48:20.056367",
     "status": "completed"
    },
    "tags": []
   },
   "outputs": [],
   "source": [
    "# 5️⃣ CNN-STFT-LSTM 모델\n",
    "class CNN_STFT_LSTM(nn.Module):\n",
    "    def __init__(self, time_bins, freq_bins, cnn_out=64, lstm_hidden=128, num_classes=4):\n",
    "        super(CNN_STFT_LSTM, self).__init__()\n",
    "        self.cnn = nn.Sequential(\n",
    "            nn.Conv2d(1, 32, kernel_size=(3,3), stride=(1,1), padding=(1,1)),\n",
    "            nn.BatchNorm2d(32),\n",
    "            nn.ReLU(),\n",
    "            nn.Conv2d(32, cnn_out, kernel_size=(3,3), stride=(1,1), padding=(1,1)),\n",
    "            nn.BatchNorm2d(cnn_out),\n",
    "            nn.ReLU(),\n",
    "            nn.AdaptiveAvgPool2d((1, 1))  # (batch*seq, channels, 1, 1)\n",
    "        )\n",
    "        self.lstm = nn.LSTM(input_size=cnn_out, hidden_size=lstm_hidden, num_layers=2, batch_first=True)\n",
    "        self.fc = nn.Linear(lstm_hidden, num_classes)\n",
    "\n",
    "    def forward(self, x):\n",
    "        batch_size, seq_len, time_bins, freq_bins = x.shape\n",
    "        x = x.view(batch_size * seq_len, 1, time_bins, freq_bins)  # (batch*seq, 1, time, freq)\n",
    "        x = self.cnn(x)  # (batch*seq, channels, 1, 1)\n",
    "        x = x.view(batch_size, seq_len, -1)  # (batch, seq, channels)\n",
    "        out, _ = self.lstm(x)\n",
    "        out = out[:, -1, :]\n",
    "        return self.fc(out)"
   ]
  },
  {
   "cell_type": "code",
   "execution_count": 7,
   "id": "5b14116b",
   "metadata": {
    "execution": {
     "iopub.execute_input": "2025-05-26T10:48:20.096230Z",
     "iopub.status.busy": "2025-05-26T10:48:20.095669Z",
     "iopub.status.idle": "2025-05-26T10:48:20.197077Z",
     "shell.execute_reply": "2025-05-26T10:48:20.195809Z"
    },
    "papermill": {
     "duration": 0.111611,
     "end_time": "2025-05-26T10:48:20.199760",
     "exception": false,
     "start_time": "2025-05-26T10:48:20.088149",
     "status": "completed"
    },
    "tags": []
   },
   "outputs": [],
   "source": [
    "# 6️⃣ 학습 및 평가 함수\n",
    "def train_model(model, loader, epochs=10, lr=0.0001, device='cuda' if torch.cuda.is_available() else 'cpu'):\n",
    "    model.to(device)\n",
    "    optimizer = torch.optim.Adam(model.parameters(), lr=lr)\n",
    "    criterion = nn.CrossEntropyLoss()\n",
    "    for epoch in range(epochs):\n",
    "        model.train()\n",
    "        total_loss, correct, total = 0, 0, 0\n",
    "        for X_batch, y_batch in loader:\n",
    "            X_batch, y_batch = X_batch.to(device), y_batch.to(device)\n",
    "            optimizer.zero_grad()\n",
    "            outputs = model(X_batch)\n",
    "            loss = criterion(outputs, y_batch)\n",
    "            loss.backward()\n",
    "            optimizer.step()\n",
    "            total_loss += loss.item()\n",
    "            correct += (outputs.argmax(1) == y_batch).sum().item()\n",
    "            total += y_batch.size(0)\n",
    "        acc = correct / total if total > 0 else 0\n",
    "        print(f\"Epoch [{epoch+1}/{epochs}] Loss: {total_loss:.4f} Acc: {acc:.4f}\")\n",
    "\n",
    "def evaluate_model(model, loader, device='cuda' if torch.cuda.is_available() else 'cpu'):\n",
    "    model = model.to(device)\n",
    "    model.eval()\n",
    "    all_preds, all_labels = [], []\n",
    "    with torch.no_grad():\n",
    "        for X_batch, y_batch in loader:\n",
    "            X_batch = X_batch.to(device)\n",
    "            outputs = model(X_batch)\n",
    "            preds = outputs.argmax(1).cpu().numpy()\n",
    "            all_preds.extend(preds)\n",
    "            all_labels.extend(y_batch.numpy())\n",
    "    print(classification_report(all_labels, all_preds, labels=[0,1,2,3], target_names=[\"W\", \"N1/2\", \"N3\", \"R\"], zero_division=0))\n",
    "    cm = confusion_matrix(all_labels, all_preds, labels=[0,1,2,3])\n",
    "    disp = ConfusionMatrixDisplay(confusion_matrix=cm, display_labels=[\"W\", \"N1/2\", \"N3\", \"R\"])\n",
    "    disp.plot(cmap=\"Blues\", values_format=\"d\")\n",
    "    plt.title(\"Confusion Matrix\")\n",
    "    plt.show()"
   ]
  },
  {
   "cell_type": "code",
   "execution_count": 8,
   "id": "b0bff446",
   "metadata": {
    "execution": {
     "iopub.execute_input": "2025-05-26T10:48:20.233928Z",
     "iopub.status.busy": "2025-05-26T10:48:20.233365Z",
     "iopub.status.idle": "2025-05-26T10:59:06.946276Z",
     "shell.execute_reply": "2025-05-26T10:59:06.944329Z"
    },
    "papermill": {
     "duration": 646.761057,
     "end_time": "2025-05-26T10:59:06.967429",
     "exception": false,
     "start_time": "2025-05-26T10:48:20.206372",
     "status": "completed"
    },
    "tags": []
   },
   "outputs": [
    {
     "name": "stdout",
     "output_type": "stream",
     "text": [
      "❌ 파일 없음: SN014\n"
     ]
    },
    {
     "name": "stdout",
     "output_type": "stream",
     "text": [
      "❌ 파일 없음: SN064\n"
     ]
    },
    {
     "name": "stdout",
     "output_type": "stream",
     "text": [
      "❌ 파일 없음: SN135\n"
     ]
    },
    {
     "name": "stdout",
     "output_type": "stream",
     "text": [
      "✅ Train shape: (81795, 10, 61, 129), time=61, freq=129\n"
     ]
    }
   ],
   "source": [
    "# 7️⃣ 데이터 로드 및 처리\n",
    "train_X, train_y = [], []\n",
    "val_data, test_data = {}, {}\n",
    "for i in range(1, 155):\n",
    "    segments, labels = load_ecg_and_labels(i, root_dir)\n",
    "    if segments:\n",
    "        X_seq, y_seq = create_sequences_stft(segments, labels, seq_len)\n",
    "        if 1 <= i <= 93:\n",
    "            train_X.append(X_seq)\n",
    "            train_y.append(y_seq)\n",
    "        elif 94 <= i <= 123:\n",
    "            val_data[f\"SN{i:03d}\"] = (X_seq, y_seq)\n",
    "        else:\n",
    "            test_data[f\"SN{i:03d}\"] = (X_seq, y_seq)\n",
    "\n",
    "train_X = np.concatenate(train_X)\n",
    "train_y = np.concatenate(train_y)\n",
    "time_bins, freq_bins = train_X.shape[2], train_X.shape[3]\n",
    "print(f\"✅ Train shape: {train_X.shape}, time={time_bins}, freq={freq_bins}\")\n"
   ]
  },
  {
   "cell_type": "code",
   "execution_count": 9,
   "id": "e7d2d63d",
   "metadata": {
    "execution": {
     "iopub.execute_input": "2025-05-26T10:59:07.000831Z",
     "iopub.status.busy": "2025-05-26T10:59:07.000127Z",
     "iopub.status.idle": "2025-05-26T17:34:54.348631Z",
     "shell.execute_reply": "2025-05-26T17:34:54.346867Z"
    },
    "papermill": {
     "duration": 23747.372801,
     "end_time": "2025-05-26T17:34:54.364162",
     "exception": false,
     "start_time": "2025-05-26T10:59:06.991361",
     "status": "completed"
    },
    "tags": []
   },
   "outputs": [
    {
     "name": "stdout",
     "output_type": "stream",
     "text": [
      "Epoch [1/50] Loss: 6084.0413 Acc: 0.5025\n"
     ]
    },
    {
     "name": "stdout",
     "output_type": "stream",
     "text": [
      "Epoch [2/50] Loss: 5761.8771 Acc: 0.5217\n"
     ]
    },
    {
     "name": "stdout",
     "output_type": "stream",
     "text": [
      "Epoch [3/50] Loss: 5588.1678 Acc: 0.5306\n"
     ]
    },
    {
     "name": "stdout",
     "output_type": "stream",
     "text": [
      "Epoch [4/50] Loss: 5459.9679 Acc: 0.5370\n"
     ]
    },
    {
     "name": "stdout",
     "output_type": "stream",
     "text": [
      "Epoch [5/50] Loss: 5346.8437 Acc: 0.5427\n"
     ]
    },
    {
     "name": "stdout",
     "output_type": "stream",
     "text": [
      "Epoch [6/50] Loss: 5236.6933 Acc: 0.5495\n"
     ]
    },
    {
     "name": "stdout",
     "output_type": "stream",
     "text": [
      "Epoch [7/50] Loss: 5118.9284 Acc: 0.5578\n"
     ]
    },
    {
     "name": "stdout",
     "output_type": "stream",
     "text": [
      "Epoch [8/50] Loss: 4975.5691 Acc: 0.5696\n"
     ]
    },
    {
     "name": "stdout",
     "output_type": "stream",
     "text": [
      "Epoch [9/50] Loss: 4844.6153 Acc: 0.5828\n"
     ]
    },
    {
     "name": "stdout",
     "output_type": "stream",
     "text": [
      "Epoch [10/50] Loss: 4718.8948 Acc: 0.5986\n"
     ]
    },
    {
     "name": "stdout",
     "output_type": "stream",
     "text": [
      "Epoch [11/50] Loss: 4595.4286 Acc: 0.6084\n"
     ]
    },
    {
     "name": "stdout",
     "output_type": "stream",
     "text": [
      "Epoch [12/50] Loss: 4504.2853 Acc: 0.6178\n"
     ]
    },
    {
     "name": "stdout",
     "output_type": "stream",
     "text": [
      "Epoch [13/50] Loss: 4386.7642 Acc: 0.6292\n"
     ]
    },
    {
     "name": "stdout",
     "output_type": "stream",
     "text": [
      "Epoch [14/50] Loss: 4298.1652 Acc: 0.6364\n"
     ]
    },
    {
     "name": "stdout",
     "output_type": "stream",
     "text": [
      "Epoch [15/50] Loss: 4196.5431 Acc: 0.6452\n"
     ]
    },
    {
     "name": "stdout",
     "output_type": "stream",
     "text": [
      "Epoch [16/50] Loss: 4114.1043 Acc: 0.6548\n"
     ]
    },
    {
     "name": "stdout",
     "output_type": "stream",
     "text": [
      "Epoch [17/50] Loss: 4020.7112 Acc: 0.6643\n"
     ]
    },
    {
     "name": "stdout",
     "output_type": "stream",
     "text": [
      "Epoch [18/50] Loss: 3934.6378 Acc: 0.6713\n"
     ]
    },
    {
     "name": "stdout",
     "output_type": "stream",
     "text": [
      "Epoch [19/50] Loss: 3862.2540 Acc: 0.6789\n"
     ]
    },
    {
     "name": "stdout",
     "output_type": "stream",
     "text": [
      "Epoch [20/50] Loss: 3787.3083 Acc: 0.6838\n"
     ]
    },
    {
     "name": "stdout",
     "output_type": "stream",
     "text": [
      "Epoch [21/50] Loss: 3711.9788 Acc: 0.6914\n"
     ]
    },
    {
     "name": "stdout",
     "output_type": "stream",
     "text": [
      "Epoch [22/50] Loss: 3634.9635 Acc: 0.6980\n"
     ]
    },
    {
     "name": "stdout",
     "output_type": "stream",
     "text": [
      "Epoch [23/50] Loss: 3579.4316 Acc: 0.7037\n"
     ]
    },
    {
     "name": "stdout",
     "output_type": "stream",
     "text": [
      "Epoch [24/50] Loss: 3506.9264 Acc: 0.7104\n"
     ]
    },
    {
     "name": "stdout",
     "output_type": "stream",
     "text": [
      "Epoch [25/50] Loss: 3438.9246 Acc: 0.7170\n"
     ]
    },
    {
     "name": "stdout",
     "output_type": "stream",
     "text": [
      "Epoch [26/50] Loss: 3382.4389 Acc: 0.7215\n"
     ]
    },
    {
     "name": "stdout",
     "output_type": "stream",
     "text": [
      "Epoch [27/50] Loss: 3318.9603 Acc: 0.7259\n"
     ]
    },
    {
     "name": "stdout",
     "output_type": "stream",
     "text": [
      "Epoch [28/50] Loss: 3259.8012 Acc: 0.7318\n"
     ]
    },
    {
     "name": "stdout",
     "output_type": "stream",
     "text": [
      "Epoch [29/50] Loss: 3200.1862 Acc: 0.7361\n"
     ]
    },
    {
     "name": "stdout",
     "output_type": "stream",
     "text": [
      "Epoch [30/50] Loss: 3142.4110 Acc: 0.7423\n"
     ]
    },
    {
     "name": "stdout",
     "output_type": "stream",
     "text": [
      "Epoch [31/50] Loss: 3104.5962 Acc: 0.7457\n"
     ]
    },
    {
     "name": "stdout",
     "output_type": "stream",
     "text": [
      "Epoch [32/50] Loss: 3036.4438 Acc: 0.7515\n"
     ]
    },
    {
     "name": "stdout",
     "output_type": "stream",
     "text": [
      "Epoch [33/50] Loss: 2980.9433 Acc: 0.7556\n"
     ]
    },
    {
     "name": "stdout",
     "output_type": "stream",
     "text": [
      "Epoch [34/50] Loss: 2937.4859 Acc: 0.7589\n"
     ]
    },
    {
     "name": "stdout",
     "output_type": "stream",
     "text": [
      "Epoch [35/50] Loss: 2875.8197 Acc: 0.7645\n"
     ]
    },
    {
     "name": "stdout",
     "output_type": "stream",
     "text": [
      "Epoch [36/50] Loss: 2833.8205 Acc: 0.7688\n"
     ]
    },
    {
     "name": "stdout",
     "output_type": "stream",
     "text": [
      "Epoch [37/50] Loss: 2790.6192 Acc: 0.7726\n"
     ]
    },
    {
     "name": "stdout",
     "output_type": "stream",
     "text": [
      "Epoch [38/50] Loss: 2735.4025 Acc: 0.7765\n"
     ]
    },
    {
     "name": "stdout",
     "output_type": "stream",
     "text": [
      "Epoch [39/50] Loss: 2695.2143 Acc: 0.7803\n"
     ]
    },
    {
     "name": "stdout",
     "output_type": "stream",
     "text": [
      "Epoch [40/50] Loss: 2641.1920 Acc: 0.7859\n"
     ]
    },
    {
     "name": "stdout",
     "output_type": "stream",
     "text": [
      "Epoch [41/50] Loss: 2602.0678 Acc: 0.7885\n"
     ]
    },
    {
     "name": "stdout",
     "output_type": "stream",
     "text": [
      "Epoch [42/50] Loss: 2560.4031 Acc: 0.7918\n"
     ]
    },
    {
     "name": "stdout",
     "output_type": "stream",
     "text": [
      "Epoch [43/50] Loss: 2508.7499 Acc: 0.7968\n"
     ]
    },
    {
     "name": "stdout",
     "output_type": "stream",
     "text": [
      "Epoch [44/50] Loss: 2482.4234 Acc: 0.7984\n"
     ]
    },
    {
     "name": "stdout",
     "output_type": "stream",
     "text": [
      "Epoch [45/50] Loss: 2427.7074 Acc: 0.8022\n"
     ]
    },
    {
     "name": "stdout",
     "output_type": "stream",
     "text": [
      "Epoch [46/50] Loss: 2389.5284 Acc: 0.8076\n"
     ]
    },
    {
     "name": "stdout",
     "output_type": "stream",
     "text": [
      "Epoch [47/50] Loss: 2354.1372 Acc: 0.8104\n"
     ]
    },
    {
     "name": "stdout",
     "output_type": "stream",
     "text": [
      "Epoch [48/50] Loss: 2315.2056 Acc: 0.8129\n"
     ]
    },
    {
     "name": "stdout",
     "output_type": "stream",
     "text": [
      "Epoch [49/50] Loss: 2282.5117 Acc: 0.8177\n"
     ]
    },
    {
     "name": "stdout",
     "output_type": "stream",
     "text": [
      "Epoch [50/50] Loss: 2234.7882 Acc: 0.8197\n"
     ]
    }
   ],
   "source": [
    "# 8️⃣ 모델 학습\n",
    "train_loader = DataLoader(SleepDataset(train_X, train_y), batch_size=batch_size, shuffle=True)\n",
    "model = CNN_STFT_LSTM(time_bins, freq_bins)\n",
    "train_model(model, train_loader, epochs=epochs, lr=learning_rate)"
   ]
  },
  {
   "cell_type": "code",
   "execution_count": 10,
   "id": "84e849f3",
   "metadata": {
    "execution": {
     "iopub.execute_input": "2025-05-26T17:34:54.404591Z",
     "iopub.status.busy": "2025-05-26T17:34:54.403221Z",
     "iopub.status.idle": "2025-05-26T17:37:30.459778Z",
     "shell.execute_reply": "2025-05-26T17:37:30.458968Z"
    },
    "papermill": {
     "duration": 156.070886,
     "end_time": "2025-05-26T17:37:30.462354",
     "exception": false,
     "start_time": "2025-05-26T17:34:54.391468",
     "status": "completed"
    },
    "tags": []
   },
   "outputs": [
    {
     "name": "stdout",
     "output_type": "stream",
     "text": [
      "\n",
      "📊 Validation (전체) 평가\n"
     ]
    },
    {
     "name": "stdout",
     "output_type": "stream",
     "text": [
      "              precision    recall  f1-score   support\n",
      "\n",
      "           W       0.37      0.56      0.44      4851\n",
      "        N1/2       0.51      0.54      0.52     11507\n",
      "          N3       0.43      0.23      0.30      5008\n",
      "           R       0.36      0.25      0.30      3633\n",
      "\n",
      "    accuracy                           0.44     24999\n",
      "   macro avg       0.41      0.40      0.39     24999\n",
      "weighted avg       0.44      0.44      0.43     24999\n",
      "\n"
     ]
    },
    {
     "data": {
      "image/png": "[encoded data removed]",
      "text/plain": [
       "<Figure size 640x480 with 2 Axes>"
      ]
     },
     "metadata": {},
     "output_type": "display_data"
    },
    {
     "name": "stdout",
     "output_type": "stream",
     "text": [
      "\n",
      "📊 Test (전체) 평가\n"
     ]
    },
    {
     "name": "stdout",
     "output_type": "stream",
     "text": [
      "              precision    recall  f1-score   support\n",
      "\n",
      "           W       0.49      0.60      0.54      4228\n",
      "        N1/2       0.54      0.59      0.56     13288\n",
      "          N3       0.45      0.28      0.35      5803\n",
      "           R       0.33      0.32      0.32      4280\n",
      "\n",
      "    accuracy                           0.48     27599\n",
      "   macro avg       0.45      0.45      0.44     27599\n",
      "weighted avg       0.48      0.48      0.48     27599\n",
      "\n"
     ]
    },
    {
     "data": {
      "image/png": "[encoded data removed]",
      "text/plain": [
       "<Figure size 640x480 with 2 Axes>"
      ]
     },
     "metadata": {},
     "output_type": "display_data"
    }
   ],
   "source": [
    "# 9️⃣ 전체 평가\n",
    "X_val_all, y_val_all = merge_data(val_data)\n",
    "if len(X_val_all) > 0:\n",
    "    print(\"\\n📊 Validation (전체) 평가\")\n",
    "    evaluate_model(model, DataLoader(SleepDataset(X_val_all, y_val_all), batch_size=batch_size, shuffle=False))\n",
    "\n",
    "X_test_all, y_test_all = merge_data(test_data)\n",
    "if len(X_test_all) > 0:\n",
    "    print(\"\\n📊 Test (전체) 평가\")\n",
    "    evaluate_model(model, DataLoader(SleepDataset(X_test_all, y_test_all), batch_size=batch_size, shuffle=False))"
   ]
  }
 ],
 "metadata": {
  "kernelspec": {
   "display_name": "Python 3",
   "language": "python",
   "name": "python3"
  },
  "language_info": {
   "codemirror_mode": {
    "name": "ipython",
    "version": 3
   },
   "file_extension": ".py",
   "mimetype": "text/x-python",
   "name": "python",
   "nbconvert_exporter": "python",
   "pygments_lexer": "ipython3",
   "version": "3.10.12"
  },
  "papermill": {
   "default_parameters": {},
   "duration": 24558.257232,
   "end_time": "2025-05-26T17:37:33.205586",
   "environment_variables": {},
   "exception": null,
   "input_path": "CNN_LSTM_STFT.ipynb",
   "output_path": "output_CNN_LSTM_STFT.ipynb",
   "parameters": {},
   "start_time": "2025-05-26T10:48:14.948354",
   "version": "2.6.0"
  }
 },
 "nbformat": 4,
 "nbformat_minor": 5
}