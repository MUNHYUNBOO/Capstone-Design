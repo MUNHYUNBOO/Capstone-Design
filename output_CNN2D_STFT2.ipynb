{
 "cells": [
  {
   "cell_type": "code",
   "execution_count": 1,
   "id": "669dea06",
   "metadata": {
    "execution": {
     "iopub.execute_input": "2025-05-23T14:50:44.230484Z",
     "iopub.status.busy": "2025-05-23T14:50:44.230067Z",
     "iopub.status.idle": "2025-05-23T14:50:46.826175Z",
     "shell.execute_reply": "2025-05-23T14:50:46.824872Z"
    },
    "papermill": {
     "duration": 2.606684,
     "end_time": "2025-05-23T14:50:46.829007",
     "exception": false,
     "start_time": "2025-05-23T14:50:44.222323",
     "status": "completed"
    },
    "tags": []
   },
   "outputs": [],
   "source": [
    "import os\n",
    "import numpy as np\n",
    "import torch\n",
    "import pyedflib\n",
    "import matplotlib.pyplot as plt\n",
    "import seaborn as sns\n",
    "from torch.utils.data import TensorDataset, DataLoader\n",
    "from sklearn.metrics import confusion_matrix, classification_report\n",
    "import torch.nn as nn\n",
    "import torch.nn.functional as F\n",
    "from scipy.fft import fft\n",
    "from collections import Counter\n",
    "\n",
    "# 설정\n",
    "sampling_rate = 256\n",
    "segment_length = 30 * sampling_rate\n",
    "fft_length = segment_length // 2\n",
    "label_map = {\n",
    "    'Sleep stage W': 0,\n",
    "    'Sleep stage N1': 1,\n",
    "    'Sleep stage N2': 1,\n",
    "    'Sleep stage N3': 2,\n",
    "    'Sleep stage R': 3\n",
    "}\n",
    "root_dir = \"/home/mhb0917/캡스톤디자인/sleep/recordings\""
   ]
  },
  {
   "cell_type": "code",
   "execution_count": 2,
   "id": "e3c89584",
   "metadata": {
    "execution": {
     "iopub.execute_input": "2025-05-23T14:50:46.843530Z",
     "iopub.status.busy": "2025-05-23T14:50:46.842918Z",
     "iopub.status.idle": "2025-05-23T14:50:46.864378Z",
     "shell.execute_reply": "2025-05-23T14:50:46.863423Z"
    },
    "papermill": {
     "duration": 0.030799,
     "end_time": "2025-05-23T14:50:46.866811",
     "exception": false,
     "start_time": "2025-05-23T14:50:46.836012",
     "status": "completed"
    },
    "tags": []
   },
   "outputs": [],
   "source": [
    "from scipy.signal import stft\n",
    "\n",
    "def segment_and_stft(signal):\n",
    "    segments = []\n",
    "    for start in range(0, len(signal) - segment_length, segment_length):\n",
    "        segment = signal[start:start+segment_length]\n",
    "        _, _, Zxx = stft(segment, fs=sampling_rate, nperseg=256)\n",
    "        spectrogram = np.abs(Zxx)  # shape: (freq, time)\n",
    "        segments.append(spectrogram)\n",
    "    return np.array(segments)\n"
   ]
  },
  {
   "cell_type": "code",
   "execution_count": 3,
   "id": "2037d1b7",
   "metadata": {
    "execution": {
     "iopub.execute_input": "2025-05-23T14:50:46.880130Z",
     "iopub.status.busy": "2025-05-23T14:50:46.879619Z",
     "iopub.status.idle": "2025-05-23T14:50:46.891699Z",
     "shell.execute_reply": "2025-05-23T14:50:46.890608Z"
    },
    "papermill": {
     "duration": 0.021334,
     "end_time": "2025-05-23T14:50:46.894047",
     "exception": false,
     "start_time": "2025-05-23T14:50:46.872713",
     "status": "completed"
    },
    "tags": []
   },
   "outputs": [],
   "source": [
    "def load_data_from_sn(sn_list):\n",
    "    all_segments = []\n",
    "    all_labels = []\n",
    "    for sn in sn_list:\n",
    "        base = f\"SN{sn:03d}\"\n",
    "        ecg_path = os.path.join(root_dir, f\"{base}.edf\")\n",
    "        label_path = os.path.join(root_dir, f\"{base}_sleepscoring.edf\")\n",
    "        if not os.path.exists(ecg_path) or not os.path.exists(label_path):\n",
    "            print(f\"❌ 파일 없음: {base}\")\n",
    "            continue\n",
    "        try:\n",
    "            ecg_reader = pyedflib.EdfReader(ecg_path)\n",
    "            ecg_signal = ecg_reader.readSignal(7)\n",
    "        finally:\n",
    "            ecg_reader._close()\n",
    "        try:\n",
    "            label_reader = pyedflib.EdfReader(label_path)\n",
    "            annotations = label_reader.readAnnotations()\n",
    "        finally:\n",
    "            label_reader._close()\n",
    "        onsets, durations, labels = annotations\n",
    "        label_seq = []\n",
    "        for i in range(len(labels)):\n",
    "            label_str = labels[i].decode() if isinstance(labels[i], bytes) else labels[i]\n",
    "            if label_str in label_map:\n",
    "                label_index = label_map[label_str]\n",
    "                num_segments = int(durations[i] // 30)\n",
    "                label_seq.extend([label_index] * num_segments)\n",
    "        stft_segments = segment_and_stft(ecg_signal)\n",
    "        max_segments = len(stft_segments)\n",
    "        usable_len = min(len(label_seq), max_segments)\n",
    "        all_segments.extend(stft_segments[:usable_len])\n",
    "        all_labels.extend(label_seq[:usable_len])\n",
    "    X = torch.tensor(np.expand_dims(np.array(all_segments), axis=1), dtype=torch.float32)\n",
    "    y = torch.tensor(all_labels, dtype=torch.long)\n",
    "    return X, y"
   ]
  },
  {
   "cell_type": "code",
   "execution_count": 4,
   "id": "6cb7244c",
   "metadata": {
    "execution": {
     "iopub.execute_input": "2025-05-23T14:50:46.904456Z",
     "iopub.status.busy": "2025-05-23T14:50:46.903909Z",
     "iopub.status.idle": "2025-05-23T14:50:46.916974Z",
     "shell.execute_reply": "2025-05-23T14:50:46.915858Z"
    },
    "papermill": {
     "duration": 0.02099,
     "end_time": "2025-05-23T14:50:46.919436",
     "exception": false,
     "start_time": "2025-05-23T14:50:46.898446",
     "status": "completed"
    },
    "tags": []
   },
   "outputs": [],
   "source": [
    "def load_balanced_data_from_sn(sn_list):\n",
    "    all_segments = []\n",
    "    all_labels = []\n",
    "    for sn in sn_list:\n",
    "        try:\n",
    "            X, y = load_data_from_sn([sn])\n",
    "        except Exception as e:\n",
    "            print(f\"❌ SN{sn:03d} 불러오기 실패: {e}\")\n",
    "            continue\n",
    "        if len(y) == 0:\n",
    "            print(f\"⚠️ SN{sn:03d}: 라벨 없음 → 건너뜀\")\n",
    "            continue\n",
    "        y_np = y.numpy()\n",
    "        X_np = X.numpy()\n",
    "        label_counts = Counter(y_np)\n",
    "        if len(label_counts) < 2:\n",
    "            print(f\"⚠️ SN{sn:03d}: 라벨 다양성 부족 → 건너뜀\")\n",
    "            continue\n",
    "        min_count = min(label_counts.values())\n",
    "        indices = []\n",
    "        for label in sorted(label_counts.keys()):\n",
    "            label_indices = np.where(y_np == label)[0]\n",
    "            if len(label_indices) < min_count:\n",
    "                continue\n",
    "            sampled = np.random.choice(label_indices, min_count, replace=False)\n",
    "            indices.extend(sampled)\n",
    "        if not indices:\n",
    "            print(f\"⚠️ SN{sn:03d}: 유효한 샘플 없음 → 건너뜀\")\n",
    "            continue\n",
    "        np.random.shuffle(indices)\n",
    "        all_segments.append(X_np[indices])\n",
    "        all_labels.append(y_np[indices])\n",
    "        print(f\"✅ SN{sn:03d} 처리 완료: 클래스당 {min_count}개\")\n",
    "    if not all_segments:\n",
    "        raise ValueError(\"⚠️ 유효한 데이터가 없습니다. SN 목록을 다시 확인하세요.\")\n",
    "    X_all = torch.tensor(np.concatenate(all_segments), dtype=torch.float32)\n",
    "    y_all = torch.tensor(np.concatenate(all_labels), dtype=torch.long)\n",
    "    return X_all, y_all"
   ]
  },
  {
   "cell_type": "code",
   "execution_count": 5,
   "id": "c5a727c1",
   "metadata": {
    "execution": {
     "iopub.execute_input": "2025-05-23T14:50:46.933229Z",
     "iopub.status.busy": "2025-05-23T14:50:46.932490Z",
     "iopub.status.idle": "2025-05-23T14:52:15.504393Z",
     "shell.execute_reply": "2025-05-23T14:52:15.503030Z"
    },
    "papermill": {
     "duration": 88.580663,
     "end_time": "2025-05-23T14:52:15.506007",
     "exception": false,
     "start_time": "2025-05-23T14:50:46.925344",
     "status": "completed"
    },
    "tags": []
   },
   "outputs": [
    {
     "name": "stdout",
     "output_type": "stream",
     "text": [
      "✅ SN001 처리 완료: 클래스당 23개\n"
     ]
    },
    {
     "name": "stdout",
     "output_type": "stream",
     "text": [
      "✅ SN002 처리 완료: 클래스당 82개\n"
     ]
    },
    {
     "name": "stdout",
     "output_type": "stream",
     "text": [
      "✅ SN003 처리 완료: 클래스당 150개\n"
     ]
    },
    {
     "name": "stdout",
     "output_type": "stream",
     "text": [
      "✅ SN004 처리 완료: 클래스당 64개\n"
     ]
    },
    {
     "name": "stdout",
     "output_type": "stream",
     "text": [
      "✅ SN005 처리 완료: 클래스당 127개\n"
     ]
    },
    {
     "name": "stdout",
     "output_type": "stream",
     "text": [
      "✅ SN006 처리 완료: 클래스당 65개\n"
     ]
    },
    {
     "name": "stdout",
     "output_type": "stream",
     "text": [
      "✅ SN007 처리 완료: 클래스당 67개\n"
     ]
    },
    {
     "name": "stdout",
     "output_type": "stream",
     "text": [
      "✅ SN008 처리 완료: 클래스당 39개\n"
     ]
    },
    {
     "name": "stdout",
     "output_type": "stream",
     "text": [
      "✅ SN009 처리 완료: 클래스당 91개\n"
     ]
    },
    {
     "name": "stdout",
     "output_type": "stream",
     "text": [
      "✅ SN010 처리 완료: 클래스당 101개\n"
     ]
    },
    {
     "name": "stdout",
     "output_type": "stream",
     "text": [
      "✅ SN011 처리 완료: 클래스당 37개\n"
     ]
    },
    {
     "name": "stdout",
     "output_type": "stream",
     "text": [
      "✅ SN012 처리 완료: 클래스당 184개\n"
     ]
    },
    {
     "name": "stdout",
     "output_type": "stream",
     "text": [
      "✅ SN013 처리 완료: 클래스당 65개\n",
      "❌ 파일 없음: SN014\n",
      "⚠️ SN014: 라벨 없음 → 건너뜀\n"
     ]
    },
    {
     "name": "stdout",
     "output_type": "stream",
     "text": [
      "✅ SN015 처리 완료: 클래스당 102개\n"
     ]
    },
    {
     "name": "stdout",
     "output_type": "stream",
     "text": [
      "✅ SN016 처리 완료: 클래스당 24개\n"
     ]
    },
    {
     "name": "stdout",
     "output_type": "stream",
     "text": [
      "✅ SN017 처리 완료: 클래스당 96개\n"
     ]
    },
    {
     "name": "stdout",
     "output_type": "stream",
     "text": [
      "✅ SN018 처리 완료: 클래스당 19개\n"
     ]
    },
    {
     "name": "stdout",
     "output_type": "stream",
     "text": [
      "✅ SN019 처리 완료: 클래스당 72개\n"
     ]
    },
    {
     "name": "stdout",
     "output_type": "stream",
     "text": [
      "✅ SN020 처리 완료: 클래스당 67개\n"
     ]
    },
    {
     "name": "stdout",
     "output_type": "stream",
     "text": [
      "✅ SN021 처리 완료: 클래스당 156개\n"
     ]
    },
    {
     "name": "stdout",
     "output_type": "stream",
     "text": [
      "✅ SN022 처리 완료: 클래스당 115개\n"
     ]
    },
    {
     "name": "stdout",
     "output_type": "stream",
     "text": [
      "✅ SN023 처리 완료: 클래스당 74개\n"
     ]
    },
    {
     "name": "stdout",
     "output_type": "stream",
     "text": [
      "✅ SN024 처리 완료: 클래스당 70개\n"
     ]
    },
    {
     "name": "stdout",
     "output_type": "stream",
     "text": [
      "✅ SN025 처리 완료: 클래스당 106개\n"
     ]
    },
    {
     "name": "stdout",
     "output_type": "stream",
     "text": [
      "✅ SN026 처리 완료: 클래스당 127개\n"
     ]
    },
    {
     "name": "stdout",
     "output_type": "stream",
     "text": [
      "✅ SN027 처리 완료: 클래스당 19개\n"
     ]
    },
    {
     "name": "stdout",
     "output_type": "stream",
     "text": [
      "✅ SN028 처리 완료: 클래스당 136개\n"
     ]
    },
    {
     "name": "stdout",
     "output_type": "stream",
     "text": [
      "✅ SN029 처리 완료: 클래스당 59개\n"
     ]
    },
    {
     "name": "stdout",
     "output_type": "stream",
     "text": [
      "✅ SN030 처리 완료: 클래스당 108개\n"
     ]
    },
    {
     "name": "stdout",
     "output_type": "stream",
     "text": [
      "✅ SN031 처리 완료: 클래스당 74개\n"
     ]
    },
    {
     "name": "stdout",
     "output_type": "stream",
     "text": [
      "✅ SN032 처리 완료: 클래스당 133개\n",
      "✅ SN033 처리 완료: 클래스당 47개\n"
     ]
    },
    {
     "name": "stdout",
     "output_type": "stream",
     "text": [
      "✅ SN034 처리 완료: 클래스당 75개\n"
     ]
    },
    {
     "name": "stdout",
     "output_type": "stream",
     "text": [
      "✅ SN035 처리 완료: 클래스당 108개\n"
     ]
    },
    {
     "name": "stdout",
     "output_type": "stream",
     "text": [
      "✅ SN036 처리 완료: 클래스당 87개\n"
     ]
    },
    {
     "name": "stdout",
     "output_type": "stream",
     "text": [
      "✅ SN037 처리 완료: 클래스당 65개\n"
     ]
    },
    {
     "name": "stdout",
     "output_type": "stream",
     "text": [
      "✅ SN038 처리 완료: 클래스당 61개\n"
     ]
    },
    {
     "name": "stdout",
     "output_type": "stream",
     "text": [
      "✅ SN039 처리 완료: 클래스당 108개\n"
     ]
    },
    {
     "name": "stdout",
     "output_type": "stream",
     "text": [
      "✅ SN040 처리 완료: 클래스당 62개\n"
     ]
    },
    {
     "name": "stdout",
     "output_type": "stream",
     "text": [
      "✅ SN041 처리 완료: 클래스당 130개\n"
     ]
    },
    {
     "name": "stdout",
     "output_type": "stream",
     "text": [
      "✅ SN042 처리 완료: 클래스당 148개\n"
     ]
    },
    {
     "name": "stdout",
     "output_type": "stream",
     "text": [
      "✅ SN043 처리 완료: 클래스당 56개\n"
     ]
    },
    {
     "name": "stdout",
     "output_type": "stream",
     "text": [
      "✅ SN044 처리 완료: 클래스당 55개\n"
     ]
    },
    {
     "name": "stdout",
     "output_type": "stream",
     "text": [
      "✅ SN045 처리 완료: 클래스당 129개\n"
     ]
    },
    {
     "name": "stdout",
     "output_type": "stream",
     "text": [
      "✅ SN046 처리 완료: 클래스당 49개\n"
     ]
    },
    {
     "name": "stdout",
     "output_type": "stream",
     "text": [
      "✅ SN047 처리 완료: 클래스당 125개\n"
     ]
    },
    {
     "name": "stdout",
     "output_type": "stream",
     "text": [
      "✅ SN048 처리 완료: 클래스당 146개\n"
     ]
    },
    {
     "name": "stdout",
     "output_type": "stream",
     "text": [
      "✅ SN049 처리 완료: 클래스당 41개\n"
     ]
    },
    {
     "name": "stdout",
     "output_type": "stream",
     "text": [
      "✅ SN050 처리 완료: 클래스당 25개\n"
     ]
    },
    {
     "name": "stdout",
     "output_type": "stream",
     "text": [
      "✅ SN051 처리 완료: 클래스당 84개\n"
     ]
    },
    {
     "name": "stdout",
     "output_type": "stream",
     "text": [
      "✅ SN052 처리 완료: 클래스당 59개\n"
     ]
    },
    {
     "name": "stdout",
     "output_type": "stream",
     "text": [
      "✅ SN053 처리 완료: 클래스당 163개\n"
     ]
    },
    {
     "name": "stdout",
     "output_type": "stream",
     "text": [
      "✅ SN054 처리 완료: 클래스당 28개\n"
     ]
    },
    {
     "name": "stdout",
     "output_type": "stream",
     "text": [
      "✅ SN055 처리 완료: 클래스당 115개\n"
     ]
    },
    {
     "name": "stdout",
     "output_type": "stream",
     "text": [
      "✅ SN056 처리 완료: 클래스당 64개\n"
     ]
    },
    {
     "name": "stdout",
     "output_type": "stream",
     "text": [
      "✅ SN057 처리 완료: 클래스당 7개\n"
     ]
    },
    {
     "name": "stdout",
     "output_type": "stream",
     "text": [
      "✅ SN058 처리 완료: 클래스당 103개\n"
     ]
    },
    {
     "name": "stdout",
     "output_type": "stream",
     "text": [
      "✅ SN059 처리 완료: 클래스당 138개\n"
     ]
    },
    {
     "name": "stdout",
     "output_type": "stream",
     "text": [
      "✅ SN060 처리 완료: 클래스당 46개\n"
     ]
    },
    {
     "name": "stdout",
     "output_type": "stream",
     "text": [
      "✅ SN061 처리 완료: 클래스당 150개\n"
     ]
    },
    {
     "name": "stdout",
     "output_type": "stream",
     "text": [
      "✅ SN062 처리 완료: 클래스당 5개\n"
     ]
    },
    {
     "name": "stdout",
     "output_type": "stream",
     "text": [
      "✅ SN063 처리 완료: 클래스당 139개\n",
      "❌ 파일 없음: SN064\n",
      "⚠️ SN064: 라벨 없음 → 건너뜀\n"
     ]
    },
    {
     "name": "stdout",
     "output_type": "stream",
     "text": [
      "✅ SN065 처리 완료: 클래스당 65개\n"
     ]
    },
    {
     "name": "stdout",
     "output_type": "stream",
     "text": [
      "✅ SN066 처리 완료: 클래스당 88개\n"
     ]
    },
    {
     "name": "stdout",
     "output_type": "stream",
     "text": [
      "✅ SN067 처리 완료: 클래스당 123개\n"
     ]
    },
    {
     "name": "stdout",
     "output_type": "stream",
     "text": [
      "✅ SN068 처리 완료: 클래스당 116개\n"
     ]
    },
    {
     "name": "stdout",
     "output_type": "stream",
     "text": [
      "✅ SN069 처리 완료: 클래스당 69개\n"
     ]
    },
    {
     "name": "stdout",
     "output_type": "stream",
     "text": [
      "✅ SN070 처리 완료: 클래스당 35개\n"
     ]
    },
    {
     "name": "stdout",
     "output_type": "stream",
     "text": [
      "✅ SN071 처리 완료: 클래스당 16개\n"
     ]
    },
    {
     "name": "stdout",
     "output_type": "stream",
     "text": [
      "✅ SN072 처리 완료: 클래스당 115개\n"
     ]
    },
    {
     "name": "stdout",
     "output_type": "stream",
     "text": [
      "✅ SN073 처리 완료: 클래스당 39개\n"
     ]
    },
    {
     "name": "stdout",
     "output_type": "stream",
     "text": [
      "✅ SN074 처리 완료: 클래스당 37개\n"
     ]
    },
    {
     "name": "stdout",
     "output_type": "stream",
     "text": [
      "✅ SN075 처리 완료: 클래스당 186개\n"
     ]
    },
    {
     "name": "stdout",
     "output_type": "stream",
     "text": [
      "✅ SN076 처리 완료: 클래스당 56개\n"
     ]
    },
    {
     "name": "stdout",
     "output_type": "stream",
     "text": [
      "✅ SN077 처리 완료: 클래스당 85개\n"
     ]
    },
    {
     "name": "stdout",
     "output_type": "stream",
     "text": [
      "✅ SN078 처리 완료: 클래스당 55개\n"
     ]
    },
    {
     "name": "stdout",
     "output_type": "stream",
     "text": [
      "✅ SN079 처리 완료: 클래스당 61개\n"
     ]
    },
    {
     "name": "stdout",
     "output_type": "stream",
     "text": [
      "✅ SN080 처리 완료: 클래스당 28개\n"
     ]
    },
    {
     "name": "stdout",
     "output_type": "stream",
     "text": [
      "✅ SN081 처리 완료: 클래스당 2개\n"
     ]
    },
    {
     "name": "stdout",
     "output_type": "stream",
     "text": [
      "✅ SN082 처리 완료: 클래스당 37개\n"
     ]
    },
    {
     "name": "stdout",
     "output_type": "stream",
     "text": [
      "✅ SN083 처리 완료: 클래스당 136개\n"
     ]
    },
    {
     "name": "stdout",
     "output_type": "stream",
     "text": [
      "✅ SN084 처리 완료: 클래스당 27개\n"
     ]
    },
    {
     "name": "stdout",
     "output_type": "stream",
     "text": [
      "✅ SN085 처리 완료: 클래스당 111개\n"
     ]
    },
    {
     "name": "stdout",
     "output_type": "stream",
     "text": [
      "✅ SN086 처리 완료: 클래스당 110개\n"
     ]
    },
    {
     "name": "stdout",
     "output_type": "stream",
     "text": [
      "✅ SN087 처리 완료: 클래스당 34개\n"
     ]
    },
    {
     "name": "stdout",
     "output_type": "stream",
     "text": [
      "✅ SN088 처리 완료: 클래스당 125개\n"
     ]
    },
    {
     "name": "stdout",
     "output_type": "stream",
     "text": [
      "✅ SN089 처리 완료: 클래스당 85개\n"
     ]
    },
    {
     "name": "stdout",
     "output_type": "stream",
     "text": [
      "✅ SN090 처리 완료: 클래스당 76개\n"
     ]
    },
    {
     "name": "stdout",
     "output_type": "stream",
     "text": [
      "✅ SN091 처리 완료: 클래스당 40개\n"
     ]
    },
    {
     "name": "stdout",
     "output_type": "stream",
     "text": [
      "✅ SN092 처리 완료: 클래스당 93개\n"
     ]
    },
    {
     "name": "stdout",
     "output_type": "stream",
     "text": [
      "✅ SN093 처리 완료: 클래스당 71개\n"
     ]
    },
    {
     "name": "stdout",
     "output_type": "stream",
     "text": [
      "✅ SN094 처리 완료: 클래스당 79개\n"
     ]
    },
    {
     "name": "stdout",
     "output_type": "stream",
     "text": [
      "✅ SN095 처리 완료: 클래스당 50개\n"
     ]
    },
    {
     "name": "stdout",
     "output_type": "stream",
     "text": [
      "✅ SN096 처리 완료: 클래스당 55개\n"
     ]
    },
    {
     "name": "stdout",
     "output_type": "stream",
     "text": [
      "✅ SN097 처리 완료: 클래스당 46개\n"
     ]
    },
    {
     "name": "stdout",
     "output_type": "stream",
     "text": [
      "✅ SN098 처리 완료: 클래스당 80개\n"
     ]
    },
    {
     "name": "stdout",
     "output_type": "stream",
     "text": [
      "✅ SN099 처리 완료: 클래스당 56개\n"
     ]
    },
    {
     "name": "stdout",
     "output_type": "stream",
     "text": [
      "✅ SN100 처리 완료: 클래스당 81개\n"
     ]
    },
    {
     "name": "stdout",
     "output_type": "stream",
     "text": [
      "✅ SN101 처리 완료: 클래스당 120개\n"
     ]
    },
    {
     "name": "stdout",
     "output_type": "stream",
     "text": [
      "✅ SN102 처리 완료: 클래스당 36개\n"
     ]
    },
    {
     "name": "stdout",
     "output_type": "stream",
     "text": [
      "✅ SN103 처리 완료: 클래스당 70개\n"
     ]
    },
    {
     "name": "stdout",
     "output_type": "stream",
     "text": [
      "✅ SN104 처리 완료: 클래스당 104개\n"
     ]
    },
    {
     "name": "stdout",
     "output_type": "stream",
     "text": [
      "✅ SN105 처리 완료: 클래스당 34개\n"
     ]
    },
    {
     "name": "stdout",
     "output_type": "stream",
     "text": [
      "✅ SN106 처리 완료: 클래스당 53개\n"
     ]
    },
    {
     "name": "stdout",
     "output_type": "stream",
     "text": [
      "✅ SN107 처리 완료: 클래스당 77개\n"
     ]
    },
    {
     "name": "stdout",
     "output_type": "stream",
     "text": [
      "✅ SN108 처리 완료: 클래스당 50개\n"
     ]
    },
    {
     "name": "stdout",
     "output_type": "stream",
     "text": [
      "✅ SN109 처리 완료: 클래스당 48개\n"
     ]
    },
    {
     "name": "stdout",
     "output_type": "stream",
     "text": [
      "✅ SN110 처리 완료: 클래스당 96개\n"
     ]
    },
    {
     "name": "stdout",
     "output_type": "stream",
     "text": [
      "✅ SN111 처리 완료: 클래스당 135개\n"
     ]
    },
    {
     "name": "stdout",
     "output_type": "stream",
     "text": [
      "✅ SN112 처리 완료: 클래스당 83개\n"
     ]
    },
    {
     "name": "stdout",
     "output_type": "stream",
     "text": [
      "✅ SN113 처리 완료: 클래스당 85개\n"
     ]
    },
    {
     "name": "stdout",
     "output_type": "stream",
     "text": [
      "✅ SN114 처리 완료: 클래스당 73개\n"
     ]
    },
    {
     "name": "stdout",
     "output_type": "stream",
     "text": [
      "✅ SN115 처리 완료: 클래스당 98개\n"
     ]
    },
    {
     "name": "stdout",
     "output_type": "stream",
     "text": [
      "✅ SN116 처리 완료: 클래스당 43개\n"
     ]
    },
    {
     "name": "stdout",
     "output_type": "stream",
     "text": [
      "✅ SN117 처리 완료: 클래스당 108개\n"
     ]
    },
    {
     "name": "stdout",
     "output_type": "stream",
     "text": [
      "✅ SN118 처리 완료: 클래스당 114개\n"
     ]
    },
    {
     "name": "stdout",
     "output_type": "stream",
     "text": [
      "✅ SN119 처리 완료: 클래스당 89개\n"
     ]
    },
    {
     "name": "stdout",
     "output_type": "stream",
     "text": [
      "✅ SN120 처리 완료: 클래스당 29개\n"
     ]
    },
    {
     "name": "stdout",
     "output_type": "stream",
     "text": [
      "✅ SN121 처리 완료: 클래스당 61개\n"
     ]
    },
    {
     "name": "stdout",
     "output_type": "stream",
     "text": [
      "✅ SN122 처리 완료: 클래스당 66개\n"
     ]
    },
    {
     "name": "stdout",
     "output_type": "stream",
     "text": [
      "✅ SN123 처리 완료: 클래스당 98개\n"
     ]
    },
    {
     "name": "stdout",
     "output_type": "stream",
     "text": [
      "❌ 파일 없음: SN135\n"
     ]
    }
   ],
   "source": [
    "X_train, y_train = load_balanced_data_from_sn(list(range(1, 94)))\n",
    "X_val, y_val = load_balanced_data_from_sn(list(range(94, 124)))\n",
    "X_test, y_test = load_data_from_sn(list(range(124, 154)))"
   ]
  },
  {
   "cell_type": "code",
   "execution_count": 6,
   "id": "d5131228",
   "metadata": {
    "execution": {
     "iopub.execute_input": "2025-05-23T14:52:15.532928Z",
     "iopub.status.busy": "2025-05-23T14:52:15.532322Z",
     "iopub.status.idle": "2025-05-23T14:52:15.546630Z",
     "shell.execute_reply": "2025-05-23T14:52:15.545718Z"
    },
    "papermill": {
     "duration": 0.029108,
     "end_time": "2025-05-23T14:52:15.547994",
     "exception": false,
     "start_time": "2025-05-23T14:52:15.518886",
     "status": "completed"
    },
    "tags": []
   },
   "outputs": [],
   "source": [
    "class ECGSleepCNN(nn.Module):\n",
    "    def __init__(self, num_classes=4):\n",
    "        super(ECGSleepCNN, self).__init__()\n",
    "        self.conv1 = nn.Conv2d(1, 16, kernel_size=(3, 3), padding=1)\n",
    "        self.bn1 = nn.BatchNorm2d(16)\n",
    "        self.pool1 = nn.MaxPool2d((2, 2))\n",
    "\n",
    "        self.conv2 = nn.Conv2d(16, 32, kernel_size=(3, 3), padding=1)\n",
    "        self.bn2 = nn.BatchNorm2d(32)\n",
    "        self.pool2 = nn.MaxPool2d((2, 2))\n",
    "\n",
    "        self.conv3 = nn.Conv2d(32, 64, kernel_size=(3, 3), padding=1)\n",
    "        self.bn3 = nn.BatchNorm2d(64)\n",
    "        self.pool3 = nn.MaxPool2d((2, 2))\n",
    "\n",
    "        self.flatten_size = 64 * (129 // 8) * (61 // 8)  # 풀링 3회 후 크기 추정\n",
    "        self.fc1 = nn.Linear(self.flatten_size, 256)\n",
    "        self.dropout = nn.Dropout(0.3)\n",
    "        self.fc2 = nn.Linear(256, num_classes)\n",
    "\n",
    "    def forward(self, x):\n",
    "        x = self.pool1(F.relu(self.bn1(self.conv1(x))))\n",
    "        x = self.pool2(F.relu(self.bn2(self.conv2(x))))\n",
    "        x = self.pool3(F.relu(self.bn3(self.conv3(x))))\n",
    "        x = x.view(x.size(0), -1)\n",
    "        x = self.dropout(F.relu(self.fc1(x)))\n",
    "        return self.fc2(x)\n"
   ]
  },
  {
   "cell_type": "code",
   "execution_count": 7,
   "id": "96207b14",
   "metadata": {
    "execution": {
     "iopub.execute_input": "2025-05-23T14:52:15.585251Z",
     "iopub.status.busy": "2025-05-23T14:52:15.584562Z",
     "iopub.status.idle": "2025-05-23T15:03:51.638361Z",
     "shell.execute_reply": "2025-05-23T15:03:51.636897Z"
    },
    "papermill": {
     "duration": 696.08061,
     "end_time": "2025-05-23T15:03:51.639713",
     "exception": false,
     "start_time": "2025-05-23T14:52:15.559103",
     "status": "completed"
    },
    "tags": []
   },
   "outputs": [
    {
     "name": "stdout",
     "output_type": "stream",
     "text": [
      "📘 Epoch 1 | Train Loss: 1179.8847 | Train Acc: 36.64% | Val Loss: 1.6526 | Val Acc: 37.45%\n"
     ]
    },
    {
     "name": "stdout",
     "output_type": "stream",
     "text": [
      "📘 Epoch 2 | Train Loss: 1143.5699 | Train Acc: 39.39% | Val Loss: 1.4454 | Val Acc: 38.16%\n"
     ]
    },
    {
     "name": "stdout",
     "output_type": "stream",
     "text": [
      "📘 Epoch 3 | Train Loss: 1117.4900 | Train Acc: 41.56% | Val Loss: 1.5280 | Val Acc: 37.80%\n"
     ]
    },
    {
     "name": "stdout",
     "output_type": "stream",
     "text": [
      "📘 Epoch 4 | Train Loss: 1093.3738 | Train Acc: 43.34% | Val Loss: 1.5001 | Val Acc: 38.13%\n"
     ]
    },
    {
     "name": "stdout",
     "output_type": "stream",
     "text": [
      "📘 Epoch 5 | Train Loss: 1069.7174 | Train Acc: 45.75% | Val Loss: 1.4533 | Val Acc: 38.69%\n"
     ]
    },
    {
     "name": "stdout",
     "output_type": "stream",
     "text": [
      "📘 Epoch 6 | Train Loss: 1041.8577 | Train Acc: 47.66% | Val Loss: 1.6239 | Val Acc: 38.27%\n"
     ]
    },
    {
     "name": "stdout",
     "output_type": "stream",
     "text": [
      "📘 Epoch 7 | Train Loss: 1011.5440 | Train Acc: 49.98% | Val Loss: 1.5878 | Val Acc: 39.69%\n"
     ]
    },
    {
     "name": "stdout",
     "output_type": "stream",
     "text": [
      "📘 Epoch 8 | Train Loss: 987.3903 | Train Acc: 51.94% | Val Loss: 1.7915 | Val Acc: 38.83%\n"
     ]
    },
    {
     "name": "stdout",
     "output_type": "stream",
     "text": [
      "📘 Epoch 9 | Train Loss: 961.8336 | Train Acc: 53.26% | Val Loss: 2.0048 | Val Acc: 36.63%\n"
     ]
    },
    {
     "name": "stdout",
     "output_type": "stream",
     "text": [
      "📘 Epoch 10 | Train Loss: 934.4221 | Train Acc: 54.99% | Val Loss: 1.7426 | Val Acc: 38.35%\n"
     ]
    },
    {
     "name": "stdout",
     "output_type": "stream",
     "text": [
      "📘 Epoch 11 | Train Loss: 913.1195 | Train Acc: 55.96% | Val Loss: 2.4247 | Val Acc: 35.86%\n"
     ]
    },
    {
     "name": "stdout",
     "output_type": "stream",
     "text": [
      "📘 Epoch 12 | Train Loss: 886.9645 | Train Acc: 57.52% | Val Loss: 2.6033 | Val Acc: 34.39%\n"
     ]
    },
    {
     "name": "stdout",
     "output_type": "stream",
     "text": [
      "📘 Epoch 13 | Train Loss: 867.1142 | Train Acc: 58.74% | Val Loss: 1.8578 | Val Acc: 38.75%\n"
     ]
    },
    {
     "name": "stdout",
     "output_type": "stream",
     "text": [
      "📘 Epoch 14 | Train Loss: 843.5479 | Train Acc: 59.84% | Val Loss: 2.1373 | Val Acc: 37.42%\n"
     ]
    },
    {
     "name": "stdout",
     "output_type": "stream",
     "text": [
      "📘 Epoch 15 | Train Loss: 824.6031 | Train Acc: 61.03% | Val Loss: 2.1232 | Val Acc: 38.46%\n"
     ]
    },
    {
     "name": "stdout",
     "output_type": "stream",
     "text": [
      "📘 Epoch 16 | Train Loss: 806.3544 | Train Acc: 62.04% | Val Loss: 1.8907 | Val Acc: 38.91%\n"
     ]
    },
    {
     "name": "stdout",
     "output_type": "stream",
     "text": [
      "📘 Epoch 17 | Train Loss: 786.3239 | Train Acc: 63.11% | Val Loss: 2.3133 | Val Acc: 37.20%\n"
     ]
    },
    {
     "name": "stdout",
     "output_type": "stream",
     "text": [
      "📘 Epoch 18 | Train Loss: 764.8343 | Train Acc: 64.25% | Val Loss: 2.5521 | Val Acc: 35.32%\n"
     ]
    },
    {
     "name": "stdout",
     "output_type": "stream",
     "text": [
      "📘 Epoch 19 | Train Loss: 750.6232 | Train Acc: 65.10% | Val Loss: 1.8937 | Val Acc: 38.25%\n"
     ]
    },
    {
     "name": "stdout",
     "output_type": "stream",
     "text": [
      "📘 Epoch 20 | Train Loss: 736.3463 | Train Acc: 66.03% | Val Loss: 1.9980 | Val Acc: 37.83%\n"
     ]
    },
    {
     "name": "stdout",
     "output_type": "stream",
     "text": [
      "📘 Epoch 21 | Train Loss: 715.7968 | Train Acc: 67.02% | Val Loss: 2.2927 | Val Acc: 35.82%\n"
     ]
    },
    {
     "name": "stdout",
     "output_type": "stream",
     "text": [
      "📘 Epoch 22 | Train Loss: 701.8959 | Train Acc: 67.74% | Val Loss: 3.4396 | Val Acc: 33.88%\n"
     ]
    },
    {
     "name": "stdout",
     "output_type": "stream",
     "text": [
      "📘 Epoch 23 | Train Loss: 683.1010 | Train Acc: 68.86% | Val Loss: 3.2938 | Val Acc: 33.11%\n"
     ]
    },
    {
     "name": "stdout",
     "output_type": "stream",
     "text": [
      "📘 Epoch 24 | Train Loss: 668.5519 | Train Acc: 69.58% | Val Loss: 3.4596 | Val Acc: 33.41%\n"
     ]
    },
    {
     "name": "stdout",
     "output_type": "stream",
     "text": [
      "📘 Epoch 25 | Train Loss: 658.4387 | Train Acc: 70.28% | Val Loss: 2.5809 | Val Acc: 34.92%\n"
     ]
    },
    {
     "name": "stdout",
     "output_type": "stream",
     "text": [
      "📘 Epoch 26 | Train Loss: 643.2959 | Train Acc: 70.52% | Val Loss: 2.2323 | Val Acc: 38.75%\n"
     ]
    },
    {
     "name": "stdout",
     "output_type": "stream",
     "text": [
      "📘 Epoch 27 | Train Loss: 619.5131 | Train Acc: 71.92% | Val Loss: 2.7834 | Val Acc: 36.93%\n"
     ]
    },
    {
     "name": "stdout",
     "output_type": "stream",
     "text": [
      "📘 Epoch 28 | Train Loss: 610.9743 | Train Acc: 72.36% | Val Loss: 1.9463 | Val Acc: 38.69%\n"
     ]
    },
    {
     "name": "stdout",
     "output_type": "stream",
     "text": [
      "📘 Epoch 29 | Train Loss: 593.4943 | Train Acc: 73.55% | Val Loss: 3.2759 | Val Acc: 34.09%\n"
     ]
    },
    {
     "name": "stdout",
     "output_type": "stream",
     "text": [
      "📘 Epoch 30 | Train Loss: 583.7871 | Train Acc: 73.88% | Val Loss: 3.7164 | Val Acc: 32.26%\n"
     ]
    },
    {
     "name": "stdout",
     "output_type": "stream",
     "text": [
      "📘 Epoch 31 | Train Loss: 564.2875 | Train Acc: 74.87% | Val Loss: 2.7358 | Val Acc: 37.26%\n"
     ]
    },
    {
     "name": "stdout",
     "output_type": "stream",
     "text": [
      "📘 Epoch 32 | Train Loss: 560.8797 | Train Acc: 74.99% | Val Loss: 4.3589 | Val Acc: 31.44%\n"
     ]
    },
    {
     "name": "stdout",
     "output_type": "stream",
     "text": [
      "📘 Epoch 33 | Train Loss: 544.9653 | Train Acc: 75.81% | Val Loss: 3.3090 | Val Acc: 32.26%\n"
     ]
    },
    {
     "name": "stdout",
     "output_type": "stream",
     "text": [
      "📘 Epoch 34 | Train Loss: 523.7302 | Train Acc: 76.82% | Val Loss: 2.5532 | Val Acc: 38.43%\n"
     ]
    },
    {
     "name": "stdout",
     "output_type": "stream",
     "text": [
      "📘 Epoch 35 | Train Loss: 523.3385 | Train Acc: 76.97% | Val Loss: 2.7869 | Val Acc: 35.01%\n"
     ]
    },
    {
     "name": "stdout",
     "output_type": "stream",
     "text": [
      "📘 Epoch 36 | Train Loss: 508.9673 | Train Acc: 77.53% | Val Loss: 2.8348 | Val Acc: 37.04%\n"
     ]
    },
    {
     "name": "stdout",
     "output_type": "stream",
     "text": [
      "📘 Epoch 37 | Train Loss: 487.1305 | Train Acc: 78.86% | Val Loss: 2.9749 | Val Acc: 35.94%\n"
     ]
    },
    {
     "name": "stdout",
     "output_type": "stream",
     "text": [
      "📘 Epoch 38 | Train Loss: 483.3176 | Train Acc: 78.55% | Val Loss: 2.7532 | Val Acc: 38.16%\n"
     ]
    },
    {
     "name": "stdout",
     "output_type": "stream",
     "text": [
      "📘 Epoch 39 | Train Loss: 477.2937 | Train Acc: 79.30% | Val Loss: 3.0452 | Val Acc: 36.88%\n"
     ]
    },
    {
     "name": "stdout",
     "output_type": "stream",
     "text": [
      "📘 Epoch 40 | Train Loss: 457.3078 | Train Acc: 79.96% | Val Loss: 3.4545 | Val Acc: 35.90%\n"
     ]
    },
    {
     "name": "stdout",
     "output_type": "stream",
     "text": [
      "📘 Epoch 41 | Train Loss: 448.1881 | Train Acc: 80.62% | Val Loss: 3.2999 | Val Acc: 36.07%\n"
     ]
    },
    {
     "name": "stdout",
     "output_type": "stream",
     "text": [
      "📘 Epoch 42 | Train Loss: 442.2262 | Train Acc: 80.59% | Val Loss: 5.9441 | Val Acc: 30.48%\n"
     ]
    },
    {
     "name": "stdout",
     "output_type": "stream",
     "text": [
      "📘 Epoch 43 | Train Loss: 428.4012 | Train Acc: 81.42% | Val Loss: 3.5052 | Val Acc: 35.54%\n"
     ]
    },
    {
     "name": "stdout",
     "output_type": "stream",
     "text": [
      "📘 Epoch 44 | Train Loss: 412.7659 | Train Acc: 82.10% | Val Loss: 2.9308 | Val Acc: 39.51%\n"
     ]
    },
    {
     "name": "stdout",
     "output_type": "stream",
     "text": [
      "📘 Epoch 45 | Train Loss: 414.3058 | Train Acc: 82.07% | Val Loss: 3.8232 | Val Acc: 31.77%\n"
     ]
    },
    {
     "name": "stdout",
     "output_type": "stream",
     "text": [
      "📘 Epoch 46 | Train Loss: 398.2974 | Train Acc: 82.81% | Val Loss: 3.8914 | Val Acc: 34.78%\n"
     ]
    },
    {
     "name": "stdout",
     "output_type": "stream",
     "text": [
      "📘 Epoch 47 | Train Loss: 384.3429 | Train Acc: 83.31% | Val Loss: 3.5955 | Val Acc: 35.23%\n"
     ]
    },
    {
     "name": "stdout",
     "output_type": "stream",
     "text": [
      "📘 Epoch 48 | Train Loss: 374.6240 | Train Acc: 84.19% | Val Loss: 3.6570 | Val Acc: 37.07%\n"
     ]
    },
    {
     "name": "stdout",
     "output_type": "stream",
     "text": [
      "📘 Epoch 49 | Train Loss: 370.6826 | Train Acc: 84.08% | Val Loss: 3.1785 | Val Acc: 36.92%\n"
     ]
    },
    {
     "name": "stdout",
     "output_type": "stream",
     "text": [
      "📘 Epoch 50 | Train Loss: 360.5221 | Train Acc: 84.75% | Val Loss: 3.1096 | Val Acc: 36.92%\n"
     ]
    }
   ],
   "source": [
    "train_loader = DataLoader(TensorDataset(X_train, y_train), batch_size=32, shuffle=True)\n",
    "val_loader = DataLoader(TensorDataset(X_val, y_val), batch_size=32)\n",
    "\n",
    "device = torch.device(\"cuda\" if torch.cuda.is_available() else \"cpu\")\n",
    "model = ECGSleepCNN(num_classes=4).to(device)\n",
    "criterion = torch.nn.CrossEntropyLoss()\n",
    "optimizer = torch.optim.Adam(model.parameters(), lr=1e-4)\n",
    "\n",
    "for epoch in range(50):\n",
    "    model.train()\n",
    "    loss_sum, correct, total = 0.0, 0, 0\n",
    "    for xb, yb in train_loader:\n",
    "        xb, yb = xb.to(device), yb.to(device)\n",
    "        outputs = model(xb)\n",
    "        loss = criterion(outputs, yb)\n",
    "        optimizer.zero_grad()\n",
    "        loss.backward()\n",
    "        optimizer.step()\n",
    "        loss_sum += loss.item()\n",
    "        _, pred = torch.max(outputs, 1)\n",
    "        total += yb.size(0)\n",
    "        correct += (pred == yb).sum().item()\n",
    "    train_acc = 100 * correct / total\n",
    "    model.eval()\n",
    "    val_loss, val_correct, val_total = 0.0, 0, 0\n",
    "    with torch.no_grad():\n",
    "        for xb, yb in val_loader:\n",
    "            xb, yb = xb.to(device), yb.to(device)\n",
    "            outputs = model(xb)\n",
    "            loss = criterion(outputs, yb)\n",
    "            val_loss += loss.item()\n",
    "            _, pred = torch.max(outputs, 1)\n",
    "            val_total += yb.size(0)\n",
    "            val_correct += (pred == yb).sum().item()\n",
    "    val_acc = 100 * val_correct / val_total\n",
    "    avg_val_loss = val_loss / len(val_loader)\n",
    "    print(f\"📘 Epoch {epoch+1} | Train Loss: {loss_sum:.4f} | Train Acc: {train_acc:.2f}% | Val Loss: {avg_val_loss:.4f} | Val Acc: {val_acc:.2f}%\")\n",
    "\n"
   ]
  },
  {
   "cell_type": "code",
   "execution_count": 8,
   "id": "bc294f75",
   "metadata": {
    "execution": {
     "iopub.execute_input": "2025-05-23T15:03:51.679938Z",
     "iopub.status.busy": "2025-05-23T15:03:51.679103Z",
     "iopub.status.idle": "2025-05-23T15:03:55.414110Z",
     "shell.execute_reply": "2025-05-23T15:03:55.413326Z"
    },
    "papermill": {
     "duration": 3.768063,
     "end_time": "2025-05-23T15:03:55.416728",
     "exception": false,
     "start_time": "2025-05-23T15:03:51.648665",
     "status": "completed"
    },
    "tags": []
   },
   "outputs": [],
   "source": [
    "model.eval()\n",
    "all_preds, all_labels = [], []\n",
    "with torch.no_grad():\n",
    "    for i in range(0, len(X_test), 32):\n",
    "        xb = X_test[i:i+32].to(device)\n",
    "        yb = y_test[i:i+32].to(device)\n",
    "        outputs = model(xb)\n",
    "        preds = torch.argmax(outputs, dim=1)\n",
    "        all_preds.extend(preds.cpu().numpy())\n",
    "        all_labels.extend(yb.cpu().numpy())\n"
   ]
  },
  {
   "cell_type": "code",
   "execution_count": 9,
   "id": "a69ce4ee",
   "metadata": {
    "execution": {
     "iopub.execute_input": "2025-05-23T15:03:55.471443Z",
     "iopub.status.busy": "2025-05-23T15:03:55.470472Z",
     "iopub.status.idle": "2025-05-23T15:03:55.739809Z",
     "shell.execute_reply": "2025-05-23T15:03:55.738938Z"
    },
    "papermill": {
     "duration": 0.301492,
     "end_time": "2025-05-23T15:03:55.742054",
     "exception": false,
     "start_time": "2025-05-23T15:03:55.440562",
     "status": "completed"
    },
    "tags": []
   },
   "outputs": [
    {
     "data": {
      "image/png": "[encoded data removed]",
      "text/plain": [
       "<Figure size 600x500 with 2 Axes>"
      ]
     },
     "metadata": {},
     "output_type": "display_data"
    },
    {
     "name": "stdout",
     "output_type": "stream",
     "text": [
      "📄 Classification Report:\n",
      "              precision    recall  f1-score   support\n",
      "\n",
      "           W       0.62      0.34      0.44      4359\n",
      "         N12       0.48      0.16      0.24     12624\n",
      "          N3       0.34      0.15      0.21      5711\n",
      "           R       0.18      0.76      0.29      4172\n",
      "\n",
      "    accuracy                           0.28     26866\n",
      "   macro avg       0.40      0.35      0.29     26866\n",
      "weighted avg       0.42      0.28      0.27     26866\n",
      "\n"
     ]
    }
   ],
   "source": [
    "labels = ['W', 'N12', 'N3', 'R']\n",
    "cm = confusion_matrix(all_labels, all_preds)\n",
    "plt.figure(figsize=(6, 5))\n",
    "sns.heatmap(cm, annot=True, fmt='d', cmap='Blues', xticklabels=labels, yticklabels=labels)\n",
    "plt.xlabel(\"Predicted\")\n",
    "plt.ylabel(\"True\")\n",
    "plt.title(\"Confusion Matrix\")\n",
    "plt.tight_layout()\n",
    "plt.show()\n",
    "print(\"📄 Classification Report:\")\n",
    "print(classification_report(all_labels, all_preds, target_names=labels))\n"
   ]
  }
 ],
 "metadata": {
  "kernelspec": {
   "display_name": "Python 3",
   "language": "python",
   "name": "python3"
  },
  "language_info": {
   "codemirror_mode": {
    "name": "ipython",
    "version": 3
   },
   "file_extension": ".py",
   "mimetype": "text/x-python",
   "name": "python",
   "nbconvert_exporter": "python",
   "pygments_lexer": "ipython3",
   "version": "3.10.12"
  },
  "papermill": {
   "default_parameters": {},
   "duration": 793.94545,
   "end_time": "2025-05-23T15:03:57.297529",
   "environment_variables": {},
   "exception": null,
   "input_path": "CNN_2D_STFT2.ipynb",
   "output_path": "output_CNN2D_STFT2.ipynb",
   "parameters": {},
   "start_time": "2025-05-23T14:50:43.352079",
   "version": "2.6.0"
  }
 },
 "nbformat": 4,
 "nbformat_minor": 5
}