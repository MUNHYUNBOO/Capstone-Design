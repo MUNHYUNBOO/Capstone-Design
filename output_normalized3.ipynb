{
 "cells": [
  {
   "cell_type": "code",
   "execution_count": 1,
   "id": "3aada3b7",
   "metadata": {
    "execution": {
     "iopub.execute_input": "2025-05-21T14:48:11.578503Z",
     "iopub.status.busy": "2025-05-21T14:48:11.577806Z",
     "iopub.status.idle": "2025-05-21T14:48:14.754219Z",
     "shell.execute_reply": "2025-05-21T14:48:14.753255Z"
    },
    "papermill": {
     "duration": 3.185024,
     "end_time": "2025-05-21T14:48:14.756837",
     "exception": false,
     "start_time": "2025-05-21T14:48:11.571813",
     "status": "completed"
    },
    "tags": []
   },
   "outputs": [],
   "source": [
    "import os\n",
    "import numpy as np\n",
    "import torch\n",
    "import pyedflib\n",
    "import matplotlib.pyplot as plt\n",
    "import seaborn as sns\n",
    "from torch.utils.data import TensorDataset, DataLoader\n",
    "from sklearn.metrics import confusion_matrix, classification_report\n",
    "import torch.nn as nn\n",
    "import torch.nn.functional as F\n",
    "\n",
    "# 고정 설정\n",
    "sampling_rate = 256\n",
    "segment_length = 30 * sampling_rate\n",
    "label_map = {\n",
    "    'Sleep stage W': 0,\n",
    "    'Sleep stage N1': 1,\n",
    "    'Sleep stage N2': 1,\n",
    "    'Sleep stage N3': 2,\n",
    "    'Sleep stage R': 3\n",
    "}\n",
    "root_dir = \"/home/mhb0917/캡스톤디자인/sleep/recordings\"\n"
   ]
  },
  {
   "cell_type": "code",
   "execution_count": 2,
   "id": "ce987686",
   "metadata": {
    "execution": {
     "iopub.execute_input": "2025-05-21T14:48:14.770617Z",
     "iopub.status.busy": "2025-05-21T14:48:14.770055Z",
     "iopub.status.idle": "2025-05-21T14:48:14.782460Z",
     "shell.execute_reply": "2025-05-21T14:48:14.781504Z"
    },
    "papermill": {
     "duration": 0.02099,
     "end_time": "2025-05-21T14:48:14.784352",
     "exception": false,
     "start_time": "2025-05-21T14:48:14.763362",
     "status": "completed"
    },
    "tags": []
   },
   "outputs": [],
   "source": [
    "def load_data_from_sn(sn_list):\n",
    "    all_segments = []\n",
    "    all_labels = []\n",
    "\n",
    "    for sn in sn_list:\n",
    "        base = f\"SN{sn:03d}\"\n",
    "        ecg_path = os.path.join(root_dir, f\"{base}.edf\")\n",
    "        label_path = os.path.join(root_dir, f\"{base}_sleepscoring.edf\")\n",
    "\n",
    "        if not os.path.exists(ecg_path) or not os.path.exists(label_path):\n",
    "            print(f\"❌ 파일 없음: {base}\")\n",
    "            continue\n",
    "\n",
    "        try:\n",
    "            ecg_reader = pyedflib.EdfReader(ecg_path)\n",
    "            ecg_signal = ecg_reader.readSignal(7)\n",
    "        finally:\n",
    "            ecg_reader._close()\n",
    "\n",
    "        try:\n",
    "            label_reader = pyedflib.EdfReader(label_path)\n",
    "            annotations = label_reader.readAnnotations()\n",
    "        finally:\n",
    "            label_reader._close()\n",
    "\n",
    "        onsets, durations, labels = annotations\n",
    "        label_seq = []\n",
    "        for i in range(len(labels)):\n",
    "            label_str = labels[i].decode() if isinstance(labels[i], bytes) else labels[i]\n",
    "            if label_str in label_map:\n",
    "                label_index = label_map[label_str]\n",
    "                num_segments = int(durations[i] // 30)\n",
    "                label_seq.extend([label_index] * num_segments)\n",
    "\n",
    "        max_segments = len(ecg_signal) // segment_length\n",
    "        num_segments = min(len(label_seq), max_segments)\n",
    "\n",
    "        for i in range(num_segments):\n",
    "            start = i * segment_length\n",
    "            end = start + segment_length\n",
    "            segment = ecg_signal[start:end]\n",
    "\n",
    "            # ✅ ECG 정규화 (Z-score 방식)\n",
    "            segment = (segment - np.mean(segment)) / (np.std(segment) + 1e-6)\n",
    "\n",
    "            all_segments.append(segment)\n",
    "            all_labels.append(label_seq[i])\n",
    "\n",
    "    X = torch.tensor(np.array(all_segments), dtype=torch.float32).unsqueeze(1)\n",
    "    y = torch.tensor(all_labels, dtype=torch.long)\n",
    "    return X, y\n"
   ]
  },
  {
   "cell_type": "code",
   "execution_count": 3,
   "id": "c4ec1914",
   "metadata": {
    "execution": {
     "iopub.execute_input": "2025-05-21T14:48:14.794419Z",
     "iopub.status.busy": "2025-05-21T14:48:14.793939Z",
     "iopub.status.idle": "2025-05-21T14:48:14.805896Z",
     "shell.execute_reply": "2025-05-21T14:48:14.804931Z"
    },
    "papermill": {
     "duration": 0.019438,
     "end_time": "2025-05-21T14:48:14.808050",
     "exception": false,
     "start_time": "2025-05-21T14:48:14.788612",
     "status": "completed"
    },
    "tags": []
   },
   "outputs": [],
   "source": [
    "from collections import Counter\n",
    "import numpy as np\n",
    "import torch\n",
    "\n",
    "def load_balanced_data_from_sn(sn_list):\n",
    "    all_segments = []\n",
    "    all_labels = []\n",
    "\n",
    "    for sn in sn_list:\n",
    "        try:\n",
    "            X, y = load_data_from_sn([sn])  # SN 하나만 불러옴\n",
    "        except Exception as e:\n",
    "            print(f\"❌ SN{sn:03d} 불러오기 실패: {e}\")\n",
    "            continue\n",
    "\n",
    "        if len(y) == 0:\n",
    "            print(f\"⚠️ SN{sn:03d}: 라벨 없음 → 건너뜀\")\n",
    "            continue\n",
    "\n",
    "        y_np = y.numpy()\n",
    "        X_np = X.numpy()\n",
    "\n",
    "        label_counts = Counter(y_np)\n",
    "        if len(label_counts) < 2:\n",
    "            print(f\"⚠️ SN{sn:03d}: 라벨 다양성 부족 → 건너뜀\")\n",
    "            continue\n",
    "\n",
    "        min_count = min(label_counts.values())\n",
    "        indices = []\n",
    "\n",
    "        for label in sorted(label_counts.keys()):\n",
    "            label_indices = np.where(y_np == label)[0]\n",
    "            if len(label_indices) < min_count:\n",
    "                continue\n",
    "            sampled = np.random.choice(label_indices, min_count, replace=False)\n",
    "            indices.extend(sampled)\n",
    "\n",
    "        if not indices:\n",
    "            print(f\"⚠️ SN{sn:03d}: 유효한 샘플 없음 → 건너뜀\")\n",
    "            continue\n",
    "\n",
    "        np.random.shuffle(indices)\n",
    "        all_segments.append(X_np[indices])\n",
    "        all_labels.append(y_np[indices])\n",
    "\n",
    "        print(f\"✅ SN{sn:03d} 처리 완료: 클래스당 {min_count}개\")\n",
    "\n",
    "    if not all_segments:\n",
    "        raise ValueError(\"⚠️ 유효한 데이터가 없습니다. SN 목록을 다시 확인하세요.\")\n",
    "\n",
    "    X_all = torch.tensor(np.concatenate(all_segments), dtype=torch.float32)\n",
    "    y_all = torch.tensor(np.concatenate(all_labels), dtype=torch.long)\n",
    "    return X_all, y_all\n"
   ]
  },
  {
   "cell_type": "code",
   "execution_count": 4,
   "id": "55fee5f6",
   "metadata": {
    "execution": {
     "iopub.execute_input": "2025-05-21T14:48:14.820316Z",
     "iopub.status.busy": "2025-05-21T14:48:14.819729Z",
     "iopub.status.idle": "2025-05-21T14:49:14.652925Z",
     "shell.execute_reply": "2025-05-21T14:49:14.651722Z"
    },
    "papermill": {
     "duration": 59.841555,
     "end_time": "2025-05-21T14:49:14.654893",
     "exception": false,
     "start_time": "2025-05-21T14:48:14.813338",
     "status": "completed"
    },
    "tags": []
   },
   "outputs": [
    {
     "name": "stdout",
     "output_type": "stream",
     "text": [
      "✅ SN001 처리 완료: 클래스당 23개\n"
     ]
    },
    {
     "name": "stdout",
     "output_type": "stream",
     "text": [
      "✅ SN002 처리 완료: 클래스당 82개\n"
     ]
    },
    {
     "name": "stdout",
     "output_type": "stream",
     "text": [
      "✅ SN003 처리 완료: 클래스당 150개\n"
     ]
    },
    {
     "name": "stdout",
     "output_type": "stream",
     "text": [
      "✅ SN004 처리 완료: 클래스당 64개\n"
     ]
    },
    {
     "name": "stdout",
     "output_type": "stream",
     "text": [
      "✅ SN005 처리 완료: 클래스당 127개\n"
     ]
    },
    {
     "name": "stdout",
     "output_type": "stream",
     "text": [
      "✅ SN006 처리 완료: 클래스당 65개\n",
      "✅ SN007 처리 완료: 클래스당 67개\n"
     ]
    },
    {
     "name": "stdout",
     "output_type": "stream",
     "text": [
      "✅ SN008 처리 완료: 클래스당 39개\n"
     ]
    },
    {
     "name": "stdout",
     "output_type": "stream",
     "text": [
      "✅ SN009 처리 완료: 클래스당 91개\n"
     ]
    },
    {
     "name": "stdout",
     "output_type": "stream",
     "text": [
      "✅ SN010 처리 완료: 클래스당 101개\n"
     ]
    },
    {
     "name": "stdout",
     "output_type": "stream",
     "text": [
      "✅ SN011 처리 완료: 클래스당 37개\n"
     ]
    },
    {
     "name": "stdout",
     "output_type": "stream",
     "text": [
      "✅ SN012 처리 완료: 클래스당 184개\n"
     ]
    },
    {
     "name": "stdout",
     "output_type": "stream",
     "text": [
      "✅ SN013 처리 완료: 클래스당 65개\n",
      "❌ 파일 없음: SN014\n",
      "⚠️ SN014: 라벨 없음 → 건너뜀\n"
     ]
    },
    {
     "name": "stdout",
     "output_type": "stream",
     "text": [
      "✅ SN015 처리 완료: 클래스당 102개\n"
     ]
    },
    {
     "name": "stdout",
     "output_type": "stream",
     "text": [
      "✅ SN016 처리 완료: 클래스당 24개\n"
     ]
    },
    {
     "name": "stdout",
     "output_type": "stream",
     "text": [
      "✅ SN017 처리 완료: 클래스당 96개\n"
     ]
    },
    {
     "name": "stdout",
     "output_type": "stream",
     "text": [
      "✅ SN018 처리 완료: 클래스당 19개\n"
     ]
    },
    {
     "name": "stdout",
     "output_type": "stream",
     "text": [
      "✅ SN019 처리 완료: 클래스당 72개\n"
     ]
    },
    {
     "name": "stdout",
     "output_type": "stream",
     "text": [
      "✅ SN020 처리 완료: 클래스당 67개\n"
     ]
    },
    {
     "name": "stdout",
     "output_type": "stream",
     "text": [
      "✅ SN021 처리 완료: 클래스당 156개\n"
     ]
    },
    {
     "name": "stdout",
     "output_type": "stream",
     "text": [
      "✅ SN022 처리 완료: 클래스당 115개\n"
     ]
    },
    {
     "name": "stdout",
     "output_type": "stream",
     "text": [
      "✅ SN023 처리 완료: 클래스당 74개\n"
     ]
    },
    {
     "name": "stdout",
     "output_type": "stream",
     "text": [
      "✅ SN024 처리 완료: 클래스당 70개\n"
     ]
    },
    {
     "name": "stdout",
     "output_type": "stream",
     "text": [
      "✅ SN025 처리 완료: 클래스당 106개\n"
     ]
    },
    {
     "name": "stdout",
     "output_type": "stream",
     "text": [
      "✅ SN026 처리 완료: 클래스당 127개\n"
     ]
    },
    {
     "name": "stdout",
     "output_type": "stream",
     "text": [
      "✅ SN027 처리 완료: 클래스당 19개\n"
     ]
    },
    {
     "name": "stdout",
     "output_type": "stream",
     "text": [
      "✅ SN028 처리 완료: 클래스당 136개\n"
     ]
    },
    {
     "name": "stdout",
     "output_type": "stream",
     "text": [
      "✅ SN029 처리 완료: 클래스당 59개\n"
     ]
    },
    {
     "name": "stdout",
     "output_type": "stream",
     "text": [
      "✅ SN030 처리 완료: 클래스당 108개\n"
     ]
    },
    {
     "name": "stdout",
     "output_type": "stream",
     "text": [
      "✅ SN031 처리 완료: 클래스당 74개\n"
     ]
    },
    {
     "name": "stdout",
     "output_type": "stream",
     "text": [
      "✅ SN032 처리 완료: 클래스당 133개\n"
     ]
    },
    {
     "name": "stdout",
     "output_type": "stream",
     "text": [
      "✅ SN033 처리 완료: 클래스당 47개\n"
     ]
    },
    {
     "name": "stdout",
     "output_type": "stream",
     "text": [
      "✅ SN034 처리 완료: 클래스당 75개\n"
     ]
    },
    {
     "name": "stdout",
     "output_type": "stream",
     "text": [
      "✅ SN035 처리 완료: 클래스당 108개\n"
     ]
    },
    {
     "name": "stdout",
     "output_type": "stream",
     "text": [
      "✅ SN036 처리 완료: 클래스당 87개\n"
     ]
    },
    {
     "name": "stdout",
     "output_type": "stream",
     "text": [
      "✅ SN037 처리 완료: 클래스당 65개\n"
     ]
    },
    {
     "name": "stdout",
     "output_type": "stream",
     "text": [
      "✅ SN038 처리 완료: 클래스당 61개\n"
     ]
    },
    {
     "name": "stdout",
     "output_type": "stream",
     "text": [
      "✅ SN039 처리 완료: 클래스당 108개\n"
     ]
    },
    {
     "name": "stdout",
     "output_type": "stream",
     "text": [
      "✅ SN040 처리 완료: 클래스당 62개\n",
      "✅ SN041 처리 완료: 클래스당 130개\n"
     ]
    },
    {
     "name": "stdout",
     "output_type": "stream",
     "text": [
      "✅ SN042 처리 완료: 클래스당 148개\n"
     ]
    },
    {
     "name": "stdout",
     "output_type": "stream",
     "text": [
      "✅ SN043 처리 완료: 클래스당 56개\n",
      "✅ SN044 처리 완료: 클래스당 55개\n"
     ]
    },
    {
     "name": "stdout",
     "output_type": "stream",
     "text": [
      "✅ SN045 처리 완료: 클래스당 129개\n"
     ]
    },
    {
     "name": "stdout",
     "output_type": "stream",
     "text": [
      "✅ SN046 처리 완료: 클래스당 49개\n"
     ]
    },
    {
     "name": "stdout",
     "output_type": "stream",
     "text": [
      "✅ SN047 처리 완료: 클래스당 125개\n"
     ]
    },
    {
     "name": "stdout",
     "output_type": "stream",
     "text": [
      "✅ SN048 처리 완료: 클래스당 146개\n"
     ]
    },
    {
     "name": "stdout",
     "output_type": "stream",
     "text": [
      "✅ SN049 처리 완료: 클래스당 41개\n"
     ]
    },
    {
     "name": "stdout",
     "output_type": "stream",
     "text": [
      "✅ SN050 처리 완료: 클래스당 25개\n"
     ]
    },
    {
     "name": "stdout",
     "output_type": "stream",
     "text": [
      "✅ SN051 처리 완료: 클래스당 84개\n"
     ]
    },
    {
     "name": "stdout",
     "output_type": "stream",
     "text": [
      "✅ SN052 처리 완료: 클래스당 59개\n"
     ]
    },
    {
     "name": "stdout",
     "output_type": "stream",
     "text": [
      "✅ SN053 처리 완료: 클래스당 163개\n"
     ]
    },
    {
     "name": "stdout",
     "output_type": "stream",
     "text": [
      "✅ SN054 처리 완료: 클래스당 28개\n"
     ]
    },
    {
     "name": "stdout",
     "output_type": "stream",
     "text": [
      "✅ SN055 처리 완료: 클래스당 115개\n"
     ]
    },
    {
     "name": "stdout",
     "output_type": "stream",
     "text": [
      "✅ SN056 처리 완료: 클래스당 64개\n"
     ]
    },
    {
     "name": "stdout",
     "output_type": "stream",
     "text": [
      "✅ SN057 처리 완료: 클래스당 7개\n"
     ]
    },
    {
     "name": "stdout",
     "output_type": "stream",
     "text": [
      "✅ SN058 처리 완료: 클래스당 103개\n"
     ]
    },
    {
     "name": "stdout",
     "output_type": "stream",
     "text": [
      "✅ SN059 처리 완료: 클래스당 138개\n"
     ]
    },
    {
     "name": "stdout",
     "output_type": "stream",
     "text": [
      "✅ SN060 처리 완료: 클래스당 46개\n"
     ]
    },
    {
     "name": "stdout",
     "output_type": "stream",
     "text": [
      "✅ SN061 처리 완료: 클래스당 150개\n",
      "✅ SN062 처리 완료: 클래스당 5개\n"
     ]
    },
    {
     "name": "stdout",
     "output_type": "stream",
     "text": [
      "✅ SN063 처리 완료: 클래스당 139개\n",
      "❌ 파일 없음: SN064\n",
      "⚠️ SN064: 라벨 없음 → 건너뜀\n"
     ]
    },
    {
     "name": "stdout",
     "output_type": "stream",
     "text": [
      "✅ SN065 처리 완료: 클래스당 65개\n"
     ]
    },
    {
     "name": "stdout",
     "output_type": "stream",
     "text": [
      "✅ SN066 처리 완료: 클래스당 88개\n"
     ]
    },
    {
     "name": "stdout",
     "output_type": "stream",
     "text": [
      "✅ SN067 처리 완료: 클래스당 123개\n",
      "✅ SN068 처리 완료: 클래스당 116개\n"
     ]
    },
    {
     "name": "stdout",
     "output_type": "stream",
     "text": [
      "✅ SN069 처리 완료: 클래스당 69개\n"
     ]
    },
    {
     "name": "stdout",
     "output_type": "stream",
     "text": [
      "✅ SN070 처리 완료: 클래스당 35개\n"
     ]
    },
    {
     "name": "stdout",
     "output_type": "stream",
     "text": [
      "✅ SN071 처리 완료: 클래스당 16개\n"
     ]
    },
    {
     "name": "stdout",
     "output_type": "stream",
     "text": [
      "✅ SN072 처리 완료: 클래스당 115개\n"
     ]
    },
    {
     "name": "stdout",
     "output_type": "stream",
     "text": [
      "✅ SN073 처리 완료: 클래스당 39개\n"
     ]
    },
    {
     "name": "stdout",
     "output_type": "stream",
     "text": [
      "✅ SN074 처리 완료: 클래스당 37개\n"
     ]
    },
    {
     "name": "stdout",
     "output_type": "stream",
     "text": [
      "✅ SN075 처리 완료: 클래스당 186개\n"
     ]
    },
    {
     "name": "stdout",
     "output_type": "stream",
     "text": [
      "✅ SN076 처리 완료: 클래스당 56개\n"
     ]
    },
    {
     "name": "stdout",
     "output_type": "stream",
     "text": [
      "✅ SN077 처리 완료: 클래스당 85개\n"
     ]
    },
    {
     "name": "stdout",
     "output_type": "stream",
     "text": [
      "✅ SN078 처리 완료: 클래스당 55개\n"
     ]
    },
    {
     "name": "stdout",
     "output_type": "stream",
     "text": [
      "✅ SN079 처리 완료: 클래스당 61개\n"
     ]
    },
    {
     "name": "stdout",
     "output_type": "stream",
     "text": [
      "✅ SN080 처리 완료: 클래스당 28개\n"
     ]
    },
    {
     "name": "stdout",
     "output_type": "stream",
     "text": [
      "✅ SN081 처리 완료: 클래스당 2개\n",
      "✅ SN082 처리 완료: 클래스당 37개\n"
     ]
    },
    {
     "name": "stdout",
     "output_type": "stream",
     "text": [
      "✅ SN083 처리 완료: 클래스당 136개\n"
     ]
    },
    {
     "name": "stdout",
     "output_type": "stream",
     "text": [
      "✅ SN084 처리 완료: 클래스당 27개\n"
     ]
    },
    {
     "name": "stdout",
     "output_type": "stream",
     "text": [
      "✅ SN085 처리 완료: 클래스당 111개\n",
      "✅ SN086 처리 완료: 클래스당 110개\n"
     ]
    },
    {
     "name": "stdout",
     "output_type": "stream",
     "text": [
      "✅ SN087 처리 완료: 클래스당 34개\n"
     ]
    },
    {
     "name": "stdout",
     "output_type": "stream",
     "text": [
      "✅ SN088 처리 완료: 클래스당 125개\n"
     ]
    },
    {
     "name": "stdout",
     "output_type": "stream",
     "text": [
      "✅ SN089 처리 완료: 클래스당 85개\n"
     ]
    },
    {
     "name": "stdout",
     "output_type": "stream",
     "text": [
      "✅ SN090 처리 완료: 클래스당 76개\n"
     ]
    },
    {
     "name": "stdout",
     "output_type": "stream",
     "text": [
      "✅ SN091 처리 완료: 클래스당 40개\n"
     ]
    },
    {
     "name": "stdout",
     "output_type": "stream",
     "text": [
      "✅ SN092 처리 완료: 클래스당 93개\n"
     ]
    },
    {
     "name": "stdout",
     "output_type": "stream",
     "text": [
      "✅ SN093 처리 완료: 클래스당 71개\n"
     ]
    },
    {
     "name": "stdout",
     "output_type": "stream",
     "text": [
      "✅ SN094 처리 완료: 클래스당 79개\n"
     ]
    },
    {
     "name": "stdout",
     "output_type": "stream",
     "text": [
      "✅ SN095 처리 완료: 클래스당 50개\n"
     ]
    },
    {
     "name": "stdout",
     "output_type": "stream",
     "text": [
      "✅ SN096 처리 완료: 클래스당 55개\n"
     ]
    },
    {
     "name": "stdout",
     "output_type": "stream",
     "text": [
      "✅ SN097 처리 완료: 클래스당 46개\n"
     ]
    },
    {
     "name": "stdout",
     "output_type": "stream",
     "text": [
      "✅ SN098 처리 완료: 클래스당 80개\n"
     ]
    },
    {
     "name": "stdout",
     "output_type": "stream",
     "text": [
      "✅ SN099 처리 완료: 클래스당 56개\n"
     ]
    },
    {
     "name": "stdout",
     "output_type": "stream",
     "text": [
      "✅ SN100 처리 완료: 클래스당 81개\n"
     ]
    },
    {
     "name": "stdout",
     "output_type": "stream",
     "text": [
      "✅ SN101 처리 완료: 클래스당 120개\n"
     ]
    },
    {
     "name": "stdout",
     "output_type": "stream",
     "text": [
      "✅ SN102 처리 완료: 클래스당 36개\n"
     ]
    },
    {
     "name": "stdout",
     "output_type": "stream",
     "text": [
      "✅ SN103 처리 완료: 클래스당 70개\n"
     ]
    },
    {
     "name": "stdout",
     "output_type": "stream",
     "text": [
      "✅ SN104 처리 완료: 클래스당 104개\n"
     ]
    },
    {
     "name": "stdout",
     "output_type": "stream",
     "text": [
      "✅ SN105 처리 완료: 클래스당 34개\n"
     ]
    },
    {
     "name": "stdout",
     "output_type": "stream",
     "text": [
      "✅ SN106 처리 완료: 클래스당 53개\n"
     ]
    },
    {
     "name": "stdout",
     "output_type": "stream",
     "text": [
      "✅ SN107 처리 완료: 클래스당 77개\n"
     ]
    },
    {
     "name": "stdout",
     "output_type": "stream",
     "text": [
      "✅ SN108 처리 완료: 클래스당 50개\n"
     ]
    },
    {
     "name": "stdout",
     "output_type": "stream",
     "text": [
      "✅ SN109 처리 완료: 클래스당 48개\n"
     ]
    },
    {
     "name": "stdout",
     "output_type": "stream",
     "text": [
      "✅ SN110 처리 완료: 클래스당 96개\n"
     ]
    },
    {
     "name": "stdout",
     "output_type": "stream",
     "text": [
      "✅ SN111 처리 완료: 클래스당 135개\n"
     ]
    },
    {
     "name": "stdout",
     "output_type": "stream",
     "text": [
      "✅ SN112 처리 완료: 클래스당 83개\n"
     ]
    },
    {
     "name": "stdout",
     "output_type": "stream",
     "text": [
      "✅ SN113 처리 완료: 클래스당 85개\n"
     ]
    },
    {
     "name": "stdout",
     "output_type": "stream",
     "text": [
      "✅ SN114 처리 완료: 클래스당 73개\n"
     ]
    },
    {
     "name": "stdout",
     "output_type": "stream",
     "text": [
      "✅ SN115 처리 완료: 클래스당 98개\n"
     ]
    },
    {
     "name": "stdout",
     "output_type": "stream",
     "text": [
      "✅ SN116 처리 완료: 클래스당 43개\n"
     ]
    },
    {
     "name": "stdout",
     "output_type": "stream",
     "text": [
      "✅ SN117 처리 완료: 클래스당 108개\n"
     ]
    },
    {
     "name": "stdout",
     "output_type": "stream",
     "text": [
      "✅ SN118 처리 완료: 클래스당 114개\n"
     ]
    },
    {
     "name": "stdout",
     "output_type": "stream",
     "text": [
      "✅ SN119 처리 완료: 클래스당 89개\n"
     ]
    },
    {
     "name": "stdout",
     "output_type": "stream",
     "text": [
      "✅ SN120 처리 완료: 클래스당 29개\n"
     ]
    },
    {
     "name": "stdout",
     "output_type": "stream",
     "text": [
      "✅ SN121 처리 완료: 클래스당 61개\n"
     ]
    },
    {
     "name": "stdout",
     "output_type": "stream",
     "text": [
      "✅ SN122 처리 완료: 클래스당 66개\n"
     ]
    },
    {
     "name": "stdout",
     "output_type": "stream",
     "text": [
      "✅ SN123 처리 완료: 클래스당 98개\n"
     ]
    },
    {
     "name": "stdout",
     "output_type": "stream",
     "text": [
      "❌ 파일 없음: SN135\n"
     ]
    }
   ],
   "source": [
    "X_train, y_train = load_balanced_data_from_sn(list(range(1, 94)))  # SN001 ~ SN093\n",
    "X_val, y_val = load_balanced_data_from_sn(list(range(94, 124)))   # SN094 ~ SN123\n",
    "X_test, y_test = load_data_from_sn(list(range(124, 154)))"
   ]
  },
  {
   "cell_type": "code",
   "execution_count": null,
   "id": "d90d79e6",
   "metadata": {
    "execution": {
     "iopub.execute_input": "2025-05-21T14:49:14.697050Z",
     "iopub.status.busy": "2025-05-21T14:49:14.696573Z",
     "iopub.status.idle": "2025-05-21T14:49:14.713835Z",
     "shell.execute_reply": "2025-05-21T14:49:14.712820Z"
    },
    "papermill": {
     "duration": 0.045921,
     "end_time": "2025-05-21T14:49:14.716050",
     "exception": false,
     "start_time": "2025-05-21T14:49:14.670129",
     "status": "completed"
    },
    "tags": []
   },
   "outputs": [],
   "source": [
    "import torch\n",
    "import torch.nn as nn\n",
    "import torch.nn.functional as F\n",
    "from torch.utils.data import DataLoader, TensorDataset\n",
    "from collections import Counter\n",
    "import numpy as np\n",
    "\n",
    "# 🔹 모델 정의\n",
    "class ECGSleepCNN(nn.Module):\n",
    "    def __init__(self, num_classes=5):\n",
    "        super(ECGSleepCNN, self).__init__()\n",
    "        self.conv1 = nn.Conv1d(1, 16, kernel_size=7, padding=3)\n",
    "        self.bn1 = nn.BatchNorm1d(16)\n",
    "        self.pool1 = nn.MaxPool1d(2)\n",
    "        self.conv2 = nn.Conv1d(16, 32, kernel_size=5, padding=2)\n",
    "        self.bn2 = nn.BatchNorm1d(32)\n",
    "        self.pool2 = nn.MaxPool1d(2)\n",
    "        self.conv3 = nn.Conv1d(32, 64, kernel_size=3, padding=1)\n",
    "        self.bn3 = nn.BatchNorm1d(64)\n",
    "        self.pool3 = nn.MaxPool1d(2)\n",
    "        self.fc1 = nn.Linear(64 * 960, 128)\n",
    "        self.dropout = nn.Dropout(0.3)\n",
    "        self.fc2 = nn.Linear(128, num_classes)\n",
    "\n",
    "    def forward(self, x):\n",
    "        x = self.pool1(F.relu(self.bn1(self.conv1(x))))\n",
    "        x = self.pool2(F.relu(self.bn2(self.conv2(x))))\n",
    "        x = self.pool3(F.relu(self.bn3(self.conv3(x))))\n",
    "        x = x.view(x.size(0), -1)\n",
    "        x = self.dropout(F.relu(self.fc1(x)))\n",
    "        x = self.fc2(x)\n",
    "        return x"
   ]
  },
  {
   "cell_type": "code",
   "execution_count": 6,
   "id": "bc97752f",
   "metadata": {
    "execution": {
     "iopub.execute_input": "2025-05-21T14:49:14.746550Z",
     "iopub.status.busy": "2025-05-21T14:49:14.745845Z",
     "iopub.status.idle": "2025-05-21T15:37:59.883387Z",
     "shell.execute_reply": "2025-05-21T15:37:59.882301Z"
    },
    "papermill": {
     "duration": 2925.172058,
     "end_time": "2025-05-21T15:37:59.905591",
     "exception": false,
     "start_time": "2025-05-21T14:49:14.733533",
     "status": "completed"
    },
    "tags": []
   },
   "outputs": [
    {
     "name": "stdout",
     "output_type": "stream",
     "text": [
      "📘 Epoch 1 | Train Loss: 1266.8842 | Train Acc: 28.61% | Val Loss: 1.3599 | Val Acc: 30.85%\n"
     ]
    },
    {
     "name": "stdout",
     "output_type": "stream",
     "text": [
      "📘 Epoch 2 | Train Loss: 1201.5195 | Train Acc: 37.14% | Val Loss: 1.3353 | Val Acc: 32.68%\n"
     ]
    },
    {
     "name": "stdout",
     "output_type": "stream",
     "text": [
      "📘 Epoch 3 | Train Loss: 1127.8819 | Train Acc: 44.51% | Val Loss: 1.3360 | Val Acc: 32.66%\n"
     ]
    },
    {
     "name": "stdout",
     "output_type": "stream",
     "text": [
      "📘 Epoch 4 | Train Loss: 1045.0533 | Train Acc: 51.55% | Val Loss: 1.3573 | Val Acc: 33.27%\n"
     ]
    },
    {
     "name": "stdout",
     "output_type": "stream",
     "text": [
      "📘 Epoch 5 | Train Loss: 949.1211 | Train Acc: 59.09% | Val Loss: 1.3935 | Val Acc: 32.60%\n"
     ]
    },
    {
     "name": "stdout",
     "output_type": "stream",
     "text": [
      "📘 Epoch 6 | Train Loss: 851.7504 | Train Acc: 66.01% | Val Loss: 1.4075 | Val Acc: 32.87%\n"
     ]
    },
    {
     "name": "stdout",
     "output_type": "stream",
     "text": [
      "📘 Epoch 7 | Train Loss: 753.3705 | Train Acc: 72.53% | Val Loss: 1.4388 | Val Acc: 33.16%\n"
     ]
    },
    {
     "name": "stdout",
     "output_type": "stream",
     "text": [
      "📘 Epoch 8 | Train Loss: 656.2433 | Train Acc: 78.18% | Val Loss: 1.4671 | Val Acc: 32.64%\n"
     ]
    },
    {
     "name": "stdout",
     "output_type": "stream",
     "text": [
      "📘 Epoch 9 | Train Loss: 564.8316 | Train Acc: 83.28% | Val Loss: 1.5026 | Val Acc: 32.59%\n"
     ]
    },
    {
     "name": "stdout",
     "output_type": "stream",
     "text": [
      "📘 Epoch 10 | Train Loss: 479.9630 | Train Acc: 87.59% | Val Loss: 1.5416 | Val Acc: 32.59%\n"
     ]
    },
    {
     "name": "stdout",
     "output_type": "stream",
     "text": [
      "📘 Epoch 11 | Train Loss: 407.0428 | Train Acc: 90.42% | Val Loss: 1.5722 | Val Acc: 33.24%\n"
     ]
    },
    {
     "name": "stdout",
     "output_type": "stream",
     "text": [
      "📘 Epoch 12 | Train Loss: 341.2475 | Train Acc: 92.96% | Val Loss: 1.5987 | Val Acc: 32.56%\n"
     ]
    },
    {
     "name": "stdout",
     "output_type": "stream",
     "text": [
      "📘 Epoch 13 | Train Loss: 284.7378 | Train Acc: 94.77% | Val Loss: 1.6483 | Val Acc: 32.79%\n"
     ]
    },
    {
     "name": "stdout",
     "output_type": "stream",
     "text": [
      "📘 Epoch 14 | Train Loss: 236.5750 | Train Acc: 96.15% | Val Loss: 1.6978 | Val Acc: 32.70%\n"
     ]
    },
    {
     "name": "stdout",
     "output_type": "stream",
     "text": [
      "📘 Epoch 15 | Train Loss: 198.0392 | Train Acc: 97.06% | Val Loss: 1.7345 | Val Acc: 32.59%\n"
     ]
    },
    {
     "name": "stdout",
     "output_type": "stream",
     "text": [
      "📘 Epoch 16 | Train Loss: 168.3137 | Train Acc: 97.53% | Val Loss: 1.7878 | Val Acc: 33.28%\n"
     ]
    },
    {
     "name": "stdout",
     "output_type": "stream",
     "text": [
      "📘 Epoch 17 | Train Loss: 141.5138 | Train Acc: 97.91% | Val Loss: 1.8122 | Val Acc: 32.73%\n"
     ]
    },
    {
     "name": "stdout",
     "output_type": "stream",
     "text": [
      "📘 Epoch 18 | Train Loss: 118.1789 | Train Acc: 98.36% | Val Loss: 1.8872 | Val Acc: 32.17%\n"
     ]
    },
    {
     "name": "stdout",
     "output_type": "stream",
     "text": [
      "📘 Epoch 19 | Train Loss: 102.0153 | Train Acc: 98.59% | Val Loss: 1.9225 | Val Acc: 33.19%\n"
     ]
    },
    {
     "name": "stdout",
     "output_type": "stream",
     "text": [
      "📘 Epoch 20 | Train Loss: 88.1182 | Train Acc: 98.68% | Val Loss: 1.9696 | Val Acc: 32.89%\n"
     ]
    },
    {
     "name": "stdout",
     "output_type": "stream",
     "text": [
      "📘 Epoch 21 | Train Loss: 75.0606 | Train Acc: 98.87% | Val Loss: 2.0041 | Val Acc: 32.26%\n"
     ]
    },
    {
     "name": "stdout",
     "output_type": "stream",
     "text": [
      "📘 Epoch 22 | Train Loss: 69.3209 | Train Acc: 98.83% | Val Loss: 2.0277 | Val Acc: 32.92%\n"
     ]
    },
    {
     "name": "stdout",
     "output_type": "stream",
     "text": [
      "📘 Epoch 23 | Train Loss: 59.8459 | Train Acc: 98.99% | Val Loss: 2.1206 | Val Acc: 32.50%\n"
     ]
    },
    {
     "name": "stdout",
     "output_type": "stream",
     "text": [
      "📘 Epoch 24 | Train Loss: 53.9778 | Train Acc: 99.09% | Val Loss: 2.1434 | Val Acc: 32.37%\n"
     ]
    },
    {
     "name": "stdout",
     "output_type": "stream",
     "text": [
      "📘 Epoch 25 | Train Loss: 49.2809 | Train Acc: 99.06% | Val Loss: 2.1645 | Val Acc: 32.59%\n"
     ]
    },
    {
     "name": "stdout",
     "output_type": "stream",
     "text": [
      "📘 Epoch 26 | Train Loss: 43.4968 | Train Acc: 99.13% | Val Loss: 2.2148 | Val Acc: 32.12%\n"
     ]
    },
    {
     "name": "stdout",
     "output_type": "stream",
     "text": [
      "📘 Epoch 27 | Train Loss: 39.8505 | Train Acc: 99.14% | Val Loss: 2.2685 | Val Acc: 32.74%\n"
     ]
    },
    {
     "name": "stdout",
     "output_type": "stream",
     "text": [
      "📘 Epoch 28 | Train Loss: 37.9655 | Train Acc: 99.17% | Val Loss: 2.3306 | Val Acc: 32.48%\n"
     ]
    },
    {
     "name": "stdout",
     "output_type": "stream",
     "text": [
      "📘 Epoch 29 | Train Loss: 34.2068 | Train Acc: 99.22% | Val Loss: 2.3436 | Val Acc: 32.64%\n"
     ]
    },
    {
     "name": "stdout",
     "output_type": "stream",
     "text": [
      "📘 Epoch 30 | Train Loss: 32.0480 | Train Acc: 99.27% | Val Loss: 2.3556 | Val Acc: 32.56%\n"
     ]
    },
    {
     "name": "stdout",
     "output_type": "stream",
     "text": [
      "📘 Epoch 31 | Train Loss: 30.6046 | Train Acc: 99.27% | Val Loss: 2.4548 | Val Acc: 32.69%\n"
     ]
    },
    {
     "name": "stdout",
     "output_type": "stream",
     "text": [
      "📘 Epoch 32 | Train Loss: 28.7882 | Train Acc: 99.27% | Val Loss: 2.4362 | Val Acc: 32.59%\n"
     ]
    },
    {
     "name": "stdout",
     "output_type": "stream",
     "text": [
      "📘 Epoch 33 | Train Loss: 26.3926 | Train Acc: 99.28% | Val Loss: 2.4883 | Val Acc: 32.52%\n"
     ]
    },
    {
     "name": "stdout",
     "output_type": "stream",
     "text": [
      "📘 Epoch 34 | Train Loss: 26.1327 | Train Acc: 99.27% | Val Loss: 2.5071 | Val Acc: 32.29%\n"
     ]
    },
    {
     "name": "stdout",
     "output_type": "stream",
     "text": [
      "📘 Epoch 35 | Train Loss: 24.7345 | Train Acc: 99.28% | Val Loss: 2.5397 | Val Acc: 32.73%\n"
     ]
    },
    {
     "name": "stdout",
     "output_type": "stream",
     "text": [
      "📘 Epoch 36 | Train Loss: 23.6438 | Train Acc: 99.32% | Val Loss: 2.5270 | Val Acc: 32.99%\n"
     ]
    },
    {
     "name": "stdout",
     "output_type": "stream",
     "text": [
      "📘 Epoch 37 | Train Loss: 22.6236 | Train Acc: 99.31% | Val Loss: 2.6194 | Val Acc: 32.71%\n"
     ]
    },
    {
     "name": "stdout",
     "output_type": "stream",
     "text": [
      "📘 Epoch 38 | Train Loss: 22.2469 | Train Acc: 99.28% | Val Loss: 2.5503 | Val Acc: 32.64%\n"
     ]
    },
    {
     "name": "stdout",
     "output_type": "stream",
     "text": [
      "📘 Epoch 39 | Train Loss: 21.1288 | Train Acc: 99.35% | Val Loss: 2.6854 | Val Acc: 32.70%\n"
     ]
    },
    {
     "name": "stdout",
     "output_type": "stream",
     "text": [
      "📘 Epoch 40 | Train Loss: 21.8527 | Train Acc: 99.27% | Val Loss: 2.6949 | Val Acc: 32.92%\n"
     ]
    },
    {
     "name": "stdout",
     "output_type": "stream",
     "text": [
      "📘 Epoch 41 | Train Loss: 20.2863 | Train Acc: 99.33% | Val Loss: 2.7159 | Val Acc: 32.92%\n"
     ]
    },
    {
     "name": "stdout",
     "output_type": "stream",
     "text": [
      "📘 Epoch 42 | Train Loss: 18.7216 | Train Acc: 99.34% | Val Loss: 2.7112 | Val Acc: 32.67%\n"
     ]
    },
    {
     "name": "stdout",
     "output_type": "stream",
     "text": [
      "📘 Epoch 43 | Train Loss: 18.9511 | Train Acc: 99.36% | Val Loss: 2.7940 | Val Acc: 32.87%\n"
     ]
    },
    {
     "name": "stdout",
     "output_type": "stream",
     "text": [
      "📘 Epoch 44 | Train Loss: 18.9525 | Train Acc: 99.35% | Val Loss: 2.7920 | Val Acc: 32.79%\n"
     ]
    },
    {
     "name": "stdout",
     "output_type": "stream",
     "text": [
      "📘 Epoch 45 | Train Loss: 17.6930 | Train Acc: 99.36% | Val Loss: 2.8652 | Val Acc: 32.86%\n"
     ]
    },
    {
     "name": "stdout",
     "output_type": "stream",
     "text": [
      "📘 Epoch 46 | Train Loss: 17.3726 | Train Acc: 99.37% | Val Loss: 2.8265 | Val Acc: 32.79%\n"
     ]
    },
    {
     "name": "stdout",
     "output_type": "stream",
     "text": [
      "📘 Epoch 47 | Train Loss: 17.0640 | Train Acc: 99.35% | Val Loss: 2.8221 | Val Acc: 33.02%\n"
     ]
    },
    {
     "name": "stdout",
     "output_type": "stream",
     "text": [
      "📘 Epoch 48 | Train Loss: 16.7468 | Train Acc: 99.34% | Val Loss: 2.9549 | Val Acc: 32.74%\n"
     ]
    },
    {
     "name": "stdout",
     "output_type": "stream",
     "text": [
      "📘 Epoch 49 | Train Loss: 16.5662 | Train Acc: 99.39% | Val Loss: 2.9052 | Val Acc: 32.78%\n"
     ]
    },
    {
     "name": "stdout",
     "output_type": "stream",
     "text": [
      "📘 Epoch 50 | Train Loss: 17.1194 | Train Acc: 99.34% | Val Loss: 2.9384 | Val Acc: 32.84%\n"
     ]
    }
   ],
   "source": [
    "import torch, random, numpy as np\n",
    "from torch.utils.data import DataLoader, TensorDataset\n",
    "\n",
    "# 🔹 데이터로더 설정\n",
    "train_loader = DataLoader(TensorDataset(X_train, y_train), batch_size=32, shuffle=True)\n",
    "val_loader = DataLoader(TensorDataset(X_val, y_val), batch_size=32)\n",
    "\n",
    "# 🔹 학습 설정\n",
    "device = torch.device(\"cuda\" if torch.cuda.is_available() else \"cpu\")\n",
    "model = ECGSleepCNN(num_classes=4).to(device)\n",
    "criterion = torch.nn.CrossEntropyLoss()\n",
    "optimizer = torch.optim.Adam(model.parameters(), lr=1e-5)\n",
    "\n",
    "# 🔹 학습 루프 \n",
    "for epoch in range(50):  # 최대 50 epoch\n",
    "    model.train()\n",
    "    loss_sum, correct, total = 0.0, 0, 0\n",
    "\n",
    "    for xb, yb in train_loader:\n",
    "        xb, yb = xb.to(device), yb.to(device)\n",
    "        outputs = model(xb)\n",
    "        loss = criterion(outputs, yb)\n",
    "\n",
    "        optimizer.zero_grad()\n",
    "        loss.backward()\n",
    "        optimizer.step()\n",
    "\n",
    "        loss_sum += loss.item()\n",
    "        _, pred = torch.max(outputs, 1)\n",
    "        total += yb.size(0)\n",
    "        correct += (pred == yb).sum().item()\n",
    "\n",
    "    train_acc = 100 * correct / total\n",
    "\n",
    "    # 🔹 검증 단계\n",
    "    model.eval()\n",
    "    val_loss, val_correct, val_total = 0.0, 0, 0\n",
    "    with torch.no_grad():\n",
    "        for xb, yb in val_loader:\n",
    "            xb, yb = xb.to(device), yb.to(device)\n",
    "            outputs = model(xb)\n",
    "            loss = criterion(outputs, yb)\n",
    "\n",
    "            val_loss += loss.item()\n",
    "            _, pred = torch.max(outputs, 1)\n",
    "            val_total += yb.size(0)\n",
    "            val_correct += (pred == yb).sum().item()\n",
    "\n",
    "    val_acc = 100 * val_correct / val_total\n",
    "    avg_val_loss = val_loss / len(val_loader)\n",
    "\n",
    "    print(f\"📘 Epoch {epoch+1} | Train Loss: {loss_sum:.4f} | Train Acc: {train_acc:.2f}% | Val Loss: {avg_val_loss:.4f} | Val Acc: {val_acc:.2f}%\")\n"
   ]
  },
  {
   "cell_type": "code",
   "execution_count": 7,
   "id": "b290e670",
   "metadata": {
    "execution": {
     "iopub.execute_input": "2025-05-21T15:37:59.937540Z",
     "iopub.status.busy": "2025-05-21T15:37:59.936138Z",
     "iopub.status.idle": "2025-05-21T15:38:10.034157Z",
     "shell.execute_reply": "2025-05-21T15:38:10.033207Z"
    },
    "papermill": {
     "duration": 10.111231,
     "end_time": "2025-05-21T15:38:10.036727",
     "exception": false,
     "start_time": "2025-05-21T15:37:59.925496",
     "status": "completed"
    },
    "tags": []
   },
   "outputs": [],
   "source": [
    "model.eval()\n",
    "all_preds, all_labels = [], []\n",
    "\n",
    "with torch.no_grad():\n",
    "    for i in range(0, len(X_test), 32):\n",
    "        xb = X_test[i:i+32].to(device)\n",
    "        yb = y_test[i:i+32].to(device)\n",
    "        outputs = model(xb)\n",
    "        preds = torch.argmax(outputs, dim=1)\n",
    "        all_preds.extend(preds.cpu().numpy())\n",
    "        all_labels.extend(yb.cpu().numpy())\n"
   ]
  },
  {
   "cell_type": "code",
   "execution_count": 8,
   "id": "ebbf9413",
   "metadata": {
    "execution": {
     "iopub.execute_input": "2025-05-21T15:38:10.083522Z",
     "iopub.status.busy": "2025-05-21T15:38:10.083048Z",
     "iopub.status.idle": "2025-05-21T15:38:10.318938Z",
     "shell.execute_reply": "2025-05-21T15:38:10.318084Z"
    },
    "papermill": {
     "duration": 0.261269,
     "end_time": "2025-05-21T15:38:10.321100",
     "exception": false,
     "start_time": "2025-05-21T15:38:10.059831",
     "status": "completed"
    },
    "tags": []
   },
   "outputs": [
    {
     "data": {
      "image/png": "[encoded data removed]",
      "text/plain": [
       "<Figure size 600x500 with 2 Axes>"
      ]
     },
     "metadata": {},
     "output_type": "display_data"
    },
    {
     "name": "stdout",
     "output_type": "stream",
     "text": [
      "📄 Classification Report:\n",
      "              precision    recall  f1-score   support\n",
      "\n",
      "           W       0.31      0.44      0.36      4359\n",
      "         N12       0.51      0.20      0.28     12624\n",
      "          N3       0.24      0.33      0.28      5711\n",
      "           R       0.17      0.31      0.22      4172\n",
      "\n",
      "    accuracy                           0.28     26866\n",
      "   macro avg       0.31      0.32      0.29     26866\n",
      "weighted avg       0.37      0.28      0.29     26866\n",
      "\n"
     ]
    }
   ],
   "source": [
    "labels = ['W', 'N12', 'N3', 'R']\n",
    "\n",
    "# Confusion Matrix\n",
    "cm = confusion_matrix(all_labels, all_preds)\n",
    "plt.figure(figsize=(6, 5))\n",
    "sns.heatmap(cm, annot=True, fmt='d', cmap='Blues',\n",
    "            xticklabels=labels, yticklabels=labels)\n",
    "plt.xlabel(\"Predicted\")\n",
    "plt.ylabel(\"True\")\n",
    "plt.title(\"Confusion Matrix\")\n",
    "plt.tight_layout()\n",
    "plt.show()\n",
    "\n",
    "# Classification Report\n",
    "print(\"📄 Classification Report:\")\n",
    "print(classification_report(all_labels, all_preds, target_names=labels))\n"
   ]
  }
 ],
 "metadata": {
  "kernelspec": {
   "display_name": "Python 3",
   "language": "python",
   "name": "python3"
  },
  "language_info": {
   "codemirror_mode": {
    "name": "ipython",
    "version": 3
   },
   "file_extension": ".py",
   "mimetype": "text/x-python",
   "name": "python",
   "nbconvert_exporter": "python",
   "pygments_lexer": "ipython3",
   "version": "3.10.12"
  },
  "papermill": {
   "default_parameters": {},
   "duration": 3001.330962,
   "end_time": "2025-05-21T15:38:11.673689",
   "environment_variables": {},
   "exception": null,
   "input_path": "CNN3_normalized.ipynb",
   "output_path": "output_normalized3.ipynb",
   "parameters": {},
   "start_time": "2025-05-21T14:48:10.342727",
   "version": "2.6.0"
  }
 },
 "nbformat": 4,
 "nbformat_minor": 5
}
