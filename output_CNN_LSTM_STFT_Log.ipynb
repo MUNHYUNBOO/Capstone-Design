{
 "cells": [
  {
   "cell_type": "code",
   "execution_count": 1,
   "id": "8f68b19a",
   "metadata": {
    "execution": {
     "iopub.execute_input": "2025-05-26T14:06:18.870677Z",
     "iopub.status.busy": "2025-05-26T14:06:18.869939Z",
     "iopub.status.idle": "2025-05-26T14:06:22.293375Z",
     "shell.execute_reply": "2025-05-26T14:06:22.292243Z"
    },
    "papermill": {
     "duration": 3.433695,
     "end_time": "2025-05-26T14:06:22.295024",
     "exception": false,
     "start_time": "2025-05-26T14:06:18.861329",
     "status": "completed"
    },
    "tags": []
   },
   "outputs": [],
   "source": [
    "import os\n",
    "import numpy as np\n",
    "import pyedflib\n",
    "from scipy.stats import zscore\n",
    "from scipy.signal import stft\n",
    "import torch\n",
    "import torch.nn as nn\n",
    "from torch.utils.data import Dataset, DataLoader\n",
    "from sklearn.metrics import classification_report, confusion_matrix, ConfusionMatrixDisplay\n",
    "import matplotlib.pyplot as plt\n",
    "\n",
    "# ⚙️ 설정\n",
    "root_dir = \"/home/mhb0917/캡스톤디자인/sleep/recordings\"\n",
    "seq_len = 10\n",
    "batch_size = 16\n",
    "epochs = 50\n",
    "learning_rate = 0.0001\n",
    "\n",
    "label_map = {\n",
    "    'Sleep stage W': 0,\n",
    "    'Sleep stage N1': 1,\n",
    "    'Sleep stage N2': 1,\n",
    "    'Sleep stage N3': 2,\n",
    "    'Sleep stage R': 3\n",
    "}"
   ]
  },
  {
   "cell_type": "code",
   "execution_count": 2,
   "id": "3c5e7bc1",
   "metadata": {
    "execution": {
     "iopub.execute_input": "2025-05-26T14:06:22.303044Z",
     "iopub.status.busy": "2025-05-26T14:06:22.302759Z",
     "iopub.status.idle": "2025-05-26T14:06:22.310627Z",
     "shell.execute_reply": "2025-05-26T14:06:22.309787Z"
    },
    "papermill": {
     "duration": 0.013087,
     "end_time": "2025-05-26T14:06:22.311942",
     "exception": false,
     "start_time": "2025-05-26T14:06:22.298855",
     "status": "completed"
    },
    "tags": []
   },
   "outputs": [],
   "source": [
    "# 1️⃣ 데이터 로드\n",
    "def load_ecg_and_labels(sn_id, root_dir):\n",
    "    base = f\"SN{int(sn_id):03d}\"\n",
    "    ecg_path = os.path.join(root_dir, f\"{base}.edf\")\n",
    "    label_path = os.path.join(root_dir, f\"{base}_sleepscoring.edf\")\n",
    "    if not os.path.exists(ecg_path) or not os.path.exists(label_path):\n",
    "        print(f\"❌ 파일 없음: {base}\")\n",
    "        return [], []\n",
    "\n",
    "    with pyedflib.EdfReader(ecg_path) as ecg_reader:\n",
    "        ecg_signal = ecg_reader.readSignal(7)\n",
    "\n",
    "    with pyedflib.EdfReader(label_path) as label_reader:\n",
    "        onsets, durations, labels = label_reader.readAnnotations()\n",
    "\n",
    "    segments, segment_labels = [], []\n",
    "    for onset, duration, label in zip(onsets, durations, labels):\n",
    "        label_str = label.decode() if isinstance(label, bytes) else label\n",
    "        if label_str not in label_map:\n",
    "            continue\n",
    "        start = int(onset * 256)\n",
    "        num_segments = int(duration // 30)\n",
    "        for i in range(num_segments):\n",
    "            seg_start = start + i * 7680\n",
    "            seg_end = seg_start + 7680\n",
    "            if seg_end > len(ecg_signal):\n",
    "                break\n",
    "            segment = zscore(ecg_signal[seg_start:seg_end])\n",
    "            if np.isnan(segment).any():\n",
    "                continue\n",
    "            segments.append(segment.astype(np.float32))\n",
    "            segment_labels.append(label_map[label_str])\n",
    "    return segments, segment_labels"
   ]
  },
  {
   "cell_type": "code",
   "execution_count": 3,
   "id": "4c8e4f4d",
   "metadata": {
    "execution": {
     "iopub.execute_input": "2025-05-26T14:06:22.348686Z",
     "iopub.status.busy": "2025-05-26T14:06:22.348137Z",
     "iopub.status.idle": "2025-05-26T14:06:22.354906Z",
     "shell.execute_reply": "2025-05-26T14:06:22.353794Z"
    },
    "papermill": {
     "duration": 0.01261,
     "end_time": "2025-05-26T14:06:22.356312",
     "exception": false,
     "start_time": "2025-05-26T14:06:22.343702",
     "status": "completed"
    },
    "tags": []
   },
   "outputs": [],
   "source": [
    "# 2️⃣ STFT 함수\n",
    "def compute_stft(segment, fs=256, nperseg=256, noverlap=128):\n",
    "    f, t, Zxx = stft(segment, fs=fs, nperseg=nperseg, noverlap=noverlap)\n",
    "    # 로그 스케일 변환\n",
    "    magnitude = 10 * np.log10(np.abs(Zxx) + 1e-8)\n",
    "    return magnitude.T  # (time, freq)\n"
   ]
  },
  {
   "cell_type": "code",
   "execution_count": 4,
   "id": "82099291",
   "metadata": {
    "execution": {
     "iopub.execute_input": "2025-05-26T14:06:22.364579Z",
     "iopub.status.busy": "2025-05-26T14:06:22.363924Z",
     "iopub.status.idle": "2025-05-26T14:06:22.377294Z",
     "shell.execute_reply": "2025-05-26T14:06:22.376109Z"
    },
    "papermill": {
     "duration": 0.019292,
     "end_time": "2025-05-26T14:06:22.378719",
     "exception": false,
     "start_time": "2025-05-26T14:06:22.359427",
     "status": "completed"
    },
    "tags": []
   },
   "outputs": [],
   "source": [
    "# 3️⃣ STFT + 시퀀스 생성\n",
    "def create_sequences_stft(segments, labels, seq_len=10):\n",
    "    X, y = [], []\n",
    "    for i in range(len(segments) - seq_len + 1):\n",
    "        stft_seqs = []\n",
    "        for seg in segments[i:i+seq_len]:\n",
    "            stft_feat = compute_stft(seg)  # (time, freq)\n",
    "            stft_seqs.append(stft_feat)  # (time, freq)\n",
    "        X.append(np.stack(stft_seqs))  # (seq_len, time, freq)\n",
    "        y.append(labels[i + seq_len - 1])\n",
    "    return np.array(X), np.array(y)\n",
    "\n",
    "def merge_data(data_dict):\n",
    "    X_all, y_all = [], []\n",
    "    for X, y in data_dict.values():\n",
    "        if len(X) == 0:\n",
    "            continue\n",
    "        X_all.append(X)\n",
    "        y_all.append(y)\n",
    "    if len(X_all) == 0:\n",
    "        return np.array([]), np.array([])\n",
    "    return np.concatenate(X_all), np.concatenate(y_all)\n"
   ]
  },
  {
   "cell_type": "code",
   "execution_count": 5,
   "id": "f92522da",
   "metadata": {
    "execution": {
     "iopub.execute_input": "2025-05-26T14:06:22.388067Z",
     "iopub.status.busy": "2025-05-26T14:06:22.386970Z",
     "iopub.status.idle": "2025-05-26T14:06:22.396523Z",
     "shell.execute_reply": "2025-05-26T14:06:22.395173Z"
    },
    "papermill": {
     "duration": 0.016078,
     "end_time": "2025-05-26T14:06:22.398147",
     "exception": false,
     "start_time": "2025-05-26T14:06:22.382069",
     "status": "completed"
    },
    "tags": []
   },
   "outputs": [],
   "source": [
    "# 4️⃣ Dataset\n",
    "class SleepDataset(Dataset):\n",
    "    def __init__(self, X, y):\n",
    "        self.X = torch.tensor(X, dtype=torch.float32)\n",
    "        self.y = torch.tensor(y, dtype=torch.long)\n",
    "    def __len__(self):\n",
    "        return len(self.X)\n",
    "    def __getitem__(self, idx):\n",
    "        return self.X[idx], self.y[idx]"
   ]
  },
  {
   "cell_type": "code",
   "execution_count": 6,
   "id": "0d8f5cb5",
   "metadata": {
    "execution": {
     "iopub.execute_input": "2025-05-26T14:06:22.407008Z",
     "iopub.status.busy": "2025-05-26T14:06:22.406302Z",
     "iopub.status.idle": "2025-05-26T14:06:22.422384Z",
     "shell.execute_reply": "2025-05-26T14:06:22.421183Z"
    },
    "papermill": {
     "duration": 0.022214,
     "end_time": "2025-05-26T14:06:22.423872",
     "exception": false,
     "start_time": "2025-05-26T14:06:22.401658",
     "status": "completed"
    },
    "tags": []
   },
   "outputs": [],
   "source": [
    "# 5️⃣ CNN-STFT-LSTM 모델\n",
    "class CNN_STFT_LSTM(nn.Module):\n",
    "    def __init__(self, time_bins, freq_bins, cnn_out=64, lstm_hidden=128, num_classes=4):\n",
    "        super(CNN_STFT_LSTM, self).__init__()\n",
    "        self.cnn = nn.Sequential(\n",
    "            nn.Conv2d(1, 32, kernel_size=(3,3), stride=(1,1), padding=(1,1)),\n",
    "            nn.BatchNorm2d(32),\n",
    "            nn.ReLU(),\n",
    "            nn.Conv2d(32, cnn_out, kernel_size=(3,3), stride=(1,1), padding=(1,1)),\n",
    "            nn.BatchNorm2d(cnn_out),\n",
    "            nn.ReLU(),\n",
    "            nn.AdaptiveAvgPool2d((1, 1))  # (batch*seq, channels, 1, 1)\n",
    "        )\n",
    "        self.lstm = nn.LSTM(input_size=cnn_out, hidden_size=lstm_hidden, num_layers=2, batch_first=True)\n",
    "        self.fc = nn.Linear(lstm_hidden, num_classes)\n",
    "\n",
    "    def forward(self, x):\n",
    "        batch_size, seq_len, time_bins, freq_bins = x.shape\n",
    "        x = x.view(batch_size * seq_len, 1, time_bins, freq_bins)  # (batch*seq, 1, time, freq)\n",
    "        x = self.cnn(x)  # (batch*seq, channels, 1, 1)\n",
    "        x = x.view(batch_size, seq_len, -1)  # (batch, seq, channels)\n",
    "        out, _ = self.lstm(x)\n",
    "        out = out[:, -1, :]\n",
    "        return self.fc(out)"
   ]
  },
  {
   "cell_type": "code",
   "execution_count": 7,
   "id": "5b14116b",
   "metadata": {
    "execution": {
     "iopub.execute_input": "2025-05-26T14:06:22.431900Z",
     "iopub.status.busy": "2025-05-26T14:06:22.431479Z",
     "iopub.status.idle": "2025-05-26T14:06:22.532468Z",
     "shell.execute_reply": "2025-05-26T14:06:22.531138Z"
    },
    "papermill": {
     "duration": 0.107755,
     "end_time": "2025-05-26T14:06:22.535051",
     "exception": false,
     "start_time": "2025-05-26T14:06:22.427296",
     "status": "completed"
    },
    "tags": []
   },
   "outputs": [],
   "source": [
    "# 6️⃣ 학습 및 평가 함수\n",
    "#def train_model(model, loader, epochs=10, lr=0.0001, device='cuda' if torch.cuda.is_available() else 'cpu'):\n",
    "def train_model(model, loader, epochs=10, lr=0.0001, device='cuda'):\n",
    "    model.to(device)\n",
    "    optimizer = torch.optim.Adam(model.parameters(), lr=lr)\n",
    "    criterion = nn.CrossEntropyLoss()\n",
    "    for epoch in range(epochs):\n",
    "        model.train()\n",
    "        total_loss, correct, total = 0, 0, 0\n",
    "        for X_batch, y_batch in loader:\n",
    "            X_batch, y_batch = X_batch.to(device), y_batch.to(device)\n",
    "            optimizer.zero_grad()\n",
    "            outputs = model(X_batch)\n",
    "            loss = criterion(outputs, y_batch)\n",
    "            loss.backward()\n",
    "            optimizer.step()\n",
    "            total_loss += loss.item()\n",
    "            correct += (outputs.argmax(1) == y_batch).sum().item()\n",
    "            total += y_batch.size(0)\n",
    "        acc = correct / total if total > 0 else 0\n",
    "        print(f\"Epoch [{epoch+1}/{epochs}] Loss: {total_loss:.4f} Acc: {acc:.4f}\")\n",
    "\n",
    "def evaluate_model(model, loader, device='cuda' if torch.cuda.is_available() else 'cpu'):\n",
    "    model = model.to(device)\n",
    "    model.eval()\n",
    "    all_preds, all_labels = [], []\n",
    "    with torch.no_grad():\n",
    "        for X_batch, y_batch in loader:\n",
    "            X_batch = X_batch.to(device)\n",
    "            outputs = model(X_batch)\n",
    "            preds = outputs.argmax(1).cpu().numpy()\n",
    "            all_preds.extend(preds)\n",
    "            all_labels.extend(y_batch.numpy())\n",
    "    print(classification_report(all_labels, all_preds, labels=[0,1,2,3], target_names=[\"W\", \"N1/2\", \"N3\", \"R\"], zero_division=0))\n",
    "    cm = confusion_matrix(all_labels, all_preds, labels=[0,1,2,3])\n",
    "    disp = ConfusionMatrixDisplay(confusion_matrix=cm, display_labels=[\"W\", \"N1/2\", \"N3\", \"R\"])\n",
    "    disp.plot(cmap=\"Blues\", values_format=\"d\")\n",
    "    plt.title(\"Confusion Matrix\")\n",
    "    plt.show()"
   ]
  },
  {
   "cell_type": "code",
   "execution_count": 8,
   "id": "b0bff446",
   "metadata": {
    "execution": {
     "iopub.execute_input": "2025-05-26T14:06:22.549641Z",
     "iopub.status.busy": "2025-05-26T14:06:22.549078Z",
     "iopub.status.idle": "2025-05-26T14:15:44.195772Z",
     "shell.execute_reply": "2025-05-26T14:15:44.194582Z"
    },
    "papermill": {
     "duration": 561.662925,
     "end_time": "2025-05-26T14:15:44.204468",
     "exception": false,
     "start_time": "2025-05-26T14:06:22.541543",
     "status": "completed"
    },
    "tags": []
   },
   "outputs": [
    {
     "name": "stdout",
     "output_type": "stream",
     "text": [
      "❌ 파일 없음: SN014\n"
     ]
    },
    {
     "name": "stdout",
     "output_type": "stream",
     "text": [
      "❌ 파일 없음: SN064\n"
     ]
    },
    {
     "name": "stdout",
     "output_type": "stream",
     "text": [
      "❌ 파일 없음: SN135\n"
     ]
    },
    {
     "name": "stdout",
     "output_type": "stream",
     "text": [
      "✅ Train shape: (81795, 10, 61, 129), time=61, freq=129\n"
     ]
    }
   ],
   "source": [
    "# 7️⃣ 데이터 로드 및 처리\n",
    "train_X, train_y = [], []\n",
    "val_data, test_data = {}, {}\n",
    "for i in range(1, 155):\n",
    "    segments, labels = load_ecg_and_labels(i, root_dir)\n",
    "    if segments:\n",
    "        X_seq, y_seq = create_sequences_stft(segments, labels, seq_len)\n",
    "        if 1 <= i <= 93:\n",
    "            train_X.append(X_seq)\n",
    "            train_y.append(y_seq)\n",
    "        elif 94 <= i <= 123:\n",
    "            val_data[f\"SN{i:03d}\"] = (X_seq, y_seq)\n",
    "        else:\n",
    "            test_data[f\"SN{i:03d}\"] = (X_seq, y_seq)\n",
    "\n",
    "train_X = np.concatenate(train_X)\n",
    "train_y = np.concatenate(train_y)\n",
    "time_bins, freq_bins = train_X.shape[2], train_X.shape[3]\n",
    "print(f\"✅ Train shape: {train_X.shape}, time={time_bins}, freq={freq_bins}\")\n"
   ]
  },
  {
   "cell_type": "code",
   "execution_count": 9,
   "id": "e7d2d63d",
   "metadata": {
    "execution": {
     "iopub.execute_input": "2025-05-26T14:15:44.261346Z",
     "iopub.status.busy": "2025-05-26T14:15:44.261030Z",
     "iopub.status.idle": "2025-05-26T20:17:27.237379Z",
     "shell.execute_reply": "2025-05-26T20:17:27.236355Z"
    },
    "papermill": {
     "duration": 21703.004644,
     "end_time": "2025-05-26T20:17:27.257196",
     "exception": false,
     "start_time": "2025-05-26T14:15:44.252552",
     "status": "completed"
    },
    "tags": []
   },
   "outputs": [
    {
     "name": "stdout",
     "output_type": "stream",
     "text": [
      "Epoch [1/50] Loss: 6104.0318 Acc: 0.5011\n"
     ]
    },
    {
     "name": "stdout",
     "output_type": "stream",
     "text": [
      "Epoch [2/50] Loss: 5805.9715 Acc: 0.5185\n"
     ]
    },
    {
     "name": "stdout",
     "output_type": "stream",
     "text": [
      "Epoch [3/50] Loss: 5637.7971 Acc: 0.5275\n"
     ]
    },
    {
     "name": "stdout",
     "output_type": "stream",
     "text": [
      "Epoch [4/50] Loss: 5512.3990 Acc: 0.5319\n"
     ]
    },
    {
     "name": "stdout",
     "output_type": "stream",
     "text": [
      "Epoch [5/50] Loss: 5397.6455 Acc: 0.5380\n"
     ]
    },
    {
     "name": "stdout",
     "output_type": "stream",
     "text": [
      "Epoch [6/50] Loss: 5308.0438 Acc: 0.5436\n"
     ]
    },
    {
     "name": "stdout",
     "output_type": "stream",
     "text": [
      "Epoch [7/50] Loss: 5217.6985 Acc: 0.5498\n"
     ]
    },
    {
     "name": "stdout",
     "output_type": "stream",
     "text": [
      "Epoch [8/50] Loss: 5132.4058 Acc: 0.5572\n"
     ]
    },
    {
     "name": "stdout",
     "output_type": "stream",
     "text": [
      "Epoch [9/50] Loss: 5044.4137 Acc: 0.5652\n"
     ]
    },
    {
     "name": "stdout",
     "output_type": "stream",
     "text": [
      "Epoch [10/50] Loss: 4938.1836 Acc: 0.5746\n"
     ]
    },
    {
     "name": "stdout",
     "output_type": "stream",
     "text": [
      "Epoch [11/50] Loss: 4868.5694 Acc: 0.5799\n"
     ]
    },
    {
     "name": "stdout",
     "output_type": "stream",
     "text": [
      "Epoch [12/50] Loss: 4768.4609 Acc: 0.5884\n"
     ]
    },
    {
     "name": "stdout",
     "output_type": "stream",
     "text": [
      "Epoch [13/50] Loss: 4686.3523 Acc: 0.5954\n"
     ]
    },
    {
     "name": "stdout",
     "output_type": "stream",
     "text": [
      "Epoch [14/50] Loss: 4602.6049 Acc: 0.6050\n"
     ]
    },
    {
     "name": "stdout",
     "output_type": "stream",
     "text": [
      "Epoch [15/50] Loss: 4527.3180 Acc: 0.6106\n"
     ]
    },
    {
     "name": "stdout",
     "output_type": "stream",
     "text": [
      "Epoch [16/50] Loss: 4433.3026 Acc: 0.6195\n"
     ]
    },
    {
     "name": "stdout",
     "output_type": "stream",
     "text": [
      "Epoch [17/50] Loss: 4366.1909 Acc: 0.6249\n"
     ]
    },
    {
     "name": "stdout",
     "output_type": "stream",
     "text": [
      "Epoch [18/50] Loss: 4301.1678 Acc: 0.6335\n"
     ]
    },
    {
     "name": "stdout",
     "output_type": "stream",
     "text": [
      "Epoch [19/50] Loss: 4224.4750 Acc: 0.6398\n"
     ]
    },
    {
     "name": "stdout",
     "output_type": "stream",
     "text": [
      "Epoch [20/50] Loss: 4167.4862 Acc: 0.6450\n"
     ]
    },
    {
     "name": "stdout",
     "output_type": "stream",
     "text": [
      "Epoch [21/50] Loss: 4087.5600 Acc: 0.6543\n"
     ]
    },
    {
     "name": "stdout",
     "output_type": "stream",
     "text": [
      "Epoch [22/50] Loss: 4020.2472 Acc: 0.6588\n"
     ]
    },
    {
     "name": "stdout",
     "output_type": "stream",
     "text": [
      "Epoch [23/50] Loss: 3964.2767 Acc: 0.6650\n"
     ]
    },
    {
     "name": "stdout",
     "output_type": "stream",
     "text": [
      "Epoch [24/50] Loss: 3902.2390 Acc: 0.6691\n"
     ]
    },
    {
     "name": "stdout",
     "output_type": "stream",
     "text": [
      "Epoch [25/50] Loss: 3858.2734 Acc: 0.6733\n"
     ]
    },
    {
     "name": "stdout",
     "output_type": "stream",
     "text": [
      "Epoch [26/50] Loss: 3802.0918 Acc: 0.6800\n"
     ]
    },
    {
     "name": "stdout",
     "output_type": "stream",
     "text": [
      "Epoch [27/50] Loss: 3731.8619 Acc: 0.6859\n"
     ]
    },
    {
     "name": "stdout",
     "output_type": "stream",
     "text": [
      "Epoch [28/50] Loss: 3684.6996 Acc: 0.6882\n"
     ]
    },
    {
     "name": "stdout",
     "output_type": "stream",
     "text": [
      "Epoch [29/50] Loss: 3631.0597 Acc: 0.6933\n"
     ]
    },
    {
     "name": "stdout",
     "output_type": "stream",
     "text": [
      "Epoch [30/50] Loss: 3592.5374 Acc: 0.6987\n"
     ]
    },
    {
     "name": "stdout",
     "output_type": "stream",
     "text": [
      "Epoch [31/50] Loss: 3544.7886 Acc: 0.7021\n"
     ]
    },
    {
     "name": "stdout",
     "output_type": "stream",
     "text": [
      "Epoch [32/50] Loss: 3491.7172 Acc: 0.7076\n"
     ]
    },
    {
     "name": "stdout",
     "output_type": "stream",
     "text": [
      "Epoch [33/50] Loss: 3437.8444 Acc: 0.7114\n"
     ]
    },
    {
     "name": "stdout",
     "output_type": "stream",
     "text": [
      "Epoch [34/50] Loss: 3399.5271 Acc: 0.7161\n"
     ]
    },
    {
     "name": "stdout",
     "output_type": "stream",
     "text": [
      "Epoch [35/50] Loss: 3358.0967 Acc: 0.7211\n"
     ]
    },
    {
     "name": "stdout",
     "output_type": "stream",
     "text": [
      "Epoch [36/50] Loss: 3314.5552 Acc: 0.7235\n"
     ]
    },
    {
     "name": "stdout",
     "output_type": "stream",
     "text": [
      "Epoch [37/50] Loss: 3276.3839 Acc: 0.7255\n"
     ]
    },
    {
     "name": "stdout",
     "output_type": "stream",
     "text": [
      "Epoch [38/50] Loss: 3236.8224 Acc: 0.7308\n"
     ]
    },
    {
     "name": "stdout",
     "output_type": "stream",
     "text": [
      "Epoch [39/50] Loss: 3197.1863 Acc: 0.7351\n"
     ]
    },
    {
     "name": "stdout",
     "output_type": "stream",
     "text": [
      "Epoch [40/50] Loss: 3147.4222 Acc: 0.7361\n"
     ]
    },
    {
     "name": "stdout",
     "output_type": "stream",
     "text": [
      "Epoch [41/50] Loss: 3121.1192 Acc: 0.7414\n"
     ]
    },
    {
     "name": "stdout",
     "output_type": "stream",
     "text": [
      "Epoch [42/50] Loss: 3085.9358 Acc: 0.7431\n"
     ]
    },
    {
     "name": "stdout",
     "output_type": "stream",
     "text": [
      "Epoch [43/50] Loss: 3040.6282 Acc: 0.7472\n"
     ]
    },
    {
     "name": "stdout",
     "output_type": "stream",
     "text": [
      "Epoch [44/50] Loss: 2999.8222 Acc: 0.7515\n"
     ]
    },
    {
     "name": "stdout",
     "output_type": "stream",
     "text": [
      "Epoch [45/50] Loss: 2969.3629 Acc: 0.7534\n"
     ]
    },
    {
     "name": "stdout",
     "output_type": "stream",
     "text": [
      "Epoch [46/50] Loss: 2939.8998 Acc: 0.7560\n"
     ]
    },
    {
     "name": "stdout",
     "output_type": "stream",
     "text": [
      "Epoch [47/50] Loss: 2889.1833 Acc: 0.7618\n"
     ]
    },
    {
     "name": "stdout",
     "output_type": "stream",
     "text": [
      "Epoch [48/50] Loss: 2862.2356 Acc: 0.7624\n"
     ]
    },
    {
     "name": "stdout",
     "output_type": "stream",
     "text": [
      "Epoch [49/50] Loss: 2834.9352 Acc: 0.7666\n"
     ]
    },
    {
     "name": "stdout",
     "output_type": "stream",
     "text": [
      "Epoch [50/50] Loss: 2792.7094 Acc: 0.7703\n"
     ]
    }
   ],
   "source": [
    "# 8️⃣ 모델 학습\n",
    "train_loader = DataLoader(SleepDataset(train_X, train_y), batch_size=batch_size, shuffle=True)\n",
    "model = CNN_STFT_LSTM(time_bins, freq_bins)\n",
    "train_model(model, train_loader, epochs=epochs, lr=learning_rate)"
   ]
  },
  {
   "cell_type": "code",
   "execution_count": 10,
   "id": "84e849f3",
   "metadata": {
    "execution": {
     "iopub.execute_input": "2025-05-26T20:17:27.317944Z",
     "iopub.status.busy": "2025-05-26T20:17:27.316232Z",
     "iopub.status.idle": "2025-05-26T20:18:55.572796Z",
     "shell.execute_reply": "2025-05-26T20:18:55.571370Z"
    },
    "papermill": {
     "duration": 88.28489,
     "end_time": "2025-05-26T20:18:55.575725",
     "exception": false,
     "start_time": "2025-05-26T20:17:27.290835",
     "status": "completed"
    },
    "tags": []
   },
   "outputs": [
    {
     "name": "stdout",
     "output_type": "stream",
     "text": [
      "\n",
      "📊 Validation (전체) 평가\n"
     ]
    },
    {
     "name": "stdout",
     "output_type": "stream",
     "text": [
      "              precision    recall  f1-score   support\n",
      "\n",
      "           W       0.37      0.52      0.43      4851\n",
      "        N1/2       0.48      0.51      0.50     11507\n",
      "          N3       0.39      0.27      0.32      5008\n",
      "           R       0.30      0.22      0.26      3633\n",
      "\n",
      "    accuracy                           0.42     24999\n",
      "   macro avg       0.39      0.38      0.38     24999\n",
      "weighted avg       0.42      0.42      0.41     24999\n",
      "\n"
     ]
    },
    {
     "data": {
      "image/png": "[encoded data removed]",
      "text/plain": [
       "<Figure size 640x480 with 2 Axes>"
      ]
     },
     "metadata": {},
     "output_type": "display_data"
    },
    {
     "name": "stdout",
     "output_type": "stream",
     "text": [
      "\n",
      "📊 Test (전체) 평가\n"
     ]
    },
    {
     "name": "stdout",
     "output_type": "stream",
     "text": [
      "              precision    recall  f1-score   support\n",
      "\n",
      "           W       0.52      0.59      0.55      4228\n",
      "        N1/2       0.55      0.57      0.56     13288\n",
      "          N3       0.47      0.41      0.44      5803\n",
      "           R       0.30      0.27      0.28      4280\n",
      "\n",
      "    accuracy                           0.49     27599\n",
      "   macro avg       0.46      0.46      0.46     27599\n",
      "weighted avg       0.49      0.49      0.49     27599\n",
      "\n"
     ]
    },
    {
     "data": {
      "image/png": "[encoded data removed]",
      "text/plain": [
       "<Figure size 640x480 with 2 Axes>"
      ]
     },
     "metadata": {},
     "output_type": "display_data"
    }
   ],
   "source": [
    "# 9️⃣ 전체 평가\n",
    "X_val_all, y_val_all = merge_data(val_data)\n",
    "if len(X_val_all) > 0:\n",
    "    print(\"\\n📊 Validation (전체) 평가\")\n",
    "    evaluate_model(model, DataLoader(SleepDataset(X_val_all, y_val_all), batch_size=batch_size, shuffle=False))\n",
    "\n",
    "X_test_all, y_test_all = merge_data(test_data)\n",
    "if len(X_test_all) > 0:\n",
    "    print(\"\\n📊 Test (전체) 평가\")\n",
    "    evaluate_model(model, DataLoader(SleepDataset(X_test_all, y_test_all), batch_size=batch_size, shuffle=False))"
   ]
  }
 ],
 "metadata": {
  "kernelspec": {
   "display_name": "Python 3",
   "language": "python",
   "name": "python3"
  },
  "language_info": {
   "codemirror_mode": {
    "name": "ipython",
    "version": 3
   },
   "file_extension": ".py",
   "mimetype": "text/x-python",
   "name": "python",
   "nbconvert_exporter": "python",
   "pygments_lexer": "ipython3",
   "version": "3.10.12"
  },
  "papermill": {
   "default_parameters": {},
   "duration": 22360.632146,
   "end_time": "2025-05-26T20:18:58.331782",
   "environment_variables": {},
   "exception": null,
   "input_path": "CNN_LSTM_STFT_Log.ipynb",
   "output_path": "output_CNN_LSTM_STFT_Log.ipynb",
   "parameters": {},
   "start_time": "2025-05-26T14:06:17.699636",
   "version": "2.6.0"
  }
 },
 "nbformat": 4,
 "nbformat_minor": 5
}